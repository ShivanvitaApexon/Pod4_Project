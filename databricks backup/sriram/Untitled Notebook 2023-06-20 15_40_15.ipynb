{
 "cells": [
  {
   "cell_type": "code",
   "execution_count": 0,
   "metadata": {
    "application/vnd.databricks.v1+cell": {
     "cellMetadata": {
      "byteLimit": 2048000,
      "rowLimit": 10000
     },
     "inputWidgets": {},
     "nuid": "f9cd5301-e2db-48c2-ad56-30d4a199510e",
     "showTitle": false,
     "title": ""
    }
   },
   "outputs": [
    {
     "output_type": "stream",
     "name": "stdout",
     "output_type": "stream",
     "text": [
      "Python interpreter will be restarted.\nCollecting azure-storage-blob\n  Downloading azure_storage_blob-12.16.0-py3-none-any.whl (387 kB)\nCollecting isodate>=0.6.1\n  Downloading isodate-0.6.1-py2.py3-none-any.whl (41 kB)\nRequirement already satisfied: cryptography>=2.1.4 in /databricks/python3/lib/python3.9/site-packages (from azure-storage-blob) (3.4.8)\nCollecting azure-core<2.0.0,>=1.26.0\n  Downloading azure_core-1.27.1-py3-none-any.whl (174 kB)\nRequirement already satisfied: typing-extensions>=4.0.1 in /databricks/python3/lib/python3.9/site-packages (from azure-storage-blob) (4.1.1)\nCollecting typing-extensions>=4.0.1\n  Downloading typing_extensions-4.6.3-py3-none-any.whl (31 kB)\nRequirement already satisfied: six>=1.11.0 in /databricks/python3/lib/python3.9/site-packages (from azure-core<2.0.0,>=1.26.0->azure-storage-blob) (1.16.0)\nRequirement already satisfied: requests>=2.18.4 in /databricks/python3/lib/python3.9/site-packages (from azure-core<2.0.0,>=1.26.0->azure-storage-blob) (2.27.1)\nRequirement already satisfied: cffi>=1.12 in /databricks/python3/lib/python3.9/site-packages (from cryptography>=2.1.4->azure-storage-blob) (1.15.0)\nRequirement already satisfied: pycparser in /databricks/python3/lib/python3.9/site-packages (from cffi>=1.12->cryptography>=2.1.4->azure-storage-blob) (2.21)\nRequirement already satisfied: idna<4,>=2.5 in /databricks/python3/lib/python3.9/site-packages (from requests>=2.18.4->azure-core<2.0.0,>=1.26.0->azure-storage-blob) (3.3)\nRequirement already satisfied: charset-normalizer~=2.0.0 in /databricks/python3/lib/python3.9/site-packages (from requests>=2.18.4->azure-core<2.0.0,>=1.26.0->azure-storage-blob) (2.0.4)\nRequirement already satisfied: urllib3<1.27,>=1.21.1 in /databricks/python3/lib/python3.9/site-packages (from requests>=2.18.4->azure-core<2.0.0,>=1.26.0->azure-storage-blob) (1.26.9)\nRequirement already satisfied: certifi>=2017.4.17 in /databricks/python3/lib/python3.9/site-packages (from requests>=2.18.4->azure-core<2.0.0,>=1.26.0->azure-storage-blob) (2021.10.8)\nInstalling collected packages: typing-extensions, isodate, azure-core, azure-storage-blob\n  Attempting uninstall: typing-extensions\n    Found existing installation: typing-extensions 4.1.1\n    Not uninstalling typing-extensions at /databricks/python3/lib/python3.9/site-packages, outside environment /local_disk0/.ephemeral_nfs/envs/pythonEnv-47fa1db8-94fb-4c73-a7e9-9c33bfe50ba1\n    Can't uninstall 'typing-extensions'. No files were found to uninstall.\nSuccessfully installed azure-core-1.27.1 azure-storage-blob-12.16.0 isodate-0.6.1 typing-extensions-4.6.3\nPython interpreter will be restarted.\n"
     ]
    }
   ],
   "source": [
    "pip install azure-storage-blob"
   ]
  },
  {
   "cell_type": "code",
   "execution_count": 0,
   "metadata": {
    "application/vnd.databricks.v1+cell": {
     "cellMetadata": {
      "byteLimit": 2048000,
      "rowLimit": 10000
     },
     "inputWidgets": {},
     "nuid": "91ba6f79-a308-44c7-95fc-7a98e0a50f9a",
     "showTitle": false,
     "title": ""
    }
   },
   "outputs": [
    {
     "output_type": "display_data",
     "data": {
      "application/vnd.databricks.v1+bamboolib_hint": "{\"pd.DataFrames\": [], \"version\": \"0.0.1\"}",
      "text/plain": []
     },
     "metadata": {},
     "output_type": "display_data"
    }
   ],
   "source": [
    "import requests\n",
    "import pandas as pd\n",
    "import json\n",
    "from azure.storage.blob import BlobServiceClient, BlobClient, ContainerClient\n",
    "from azure.core.pipeline.transport import HttpResponse\n",
    "from pyspark import SparkContext, SparkConf\n",
    "from pyspark.sql import SparkSession\n",
    "from pyspark.sql.functions import from_json\n",
    "from pyspark.sql.types import StructType, StructField, StringType, IntegerType, BooleanType, ArrayType\n",
    "import gzip"
   ]
  },
  {
   "cell_type": "code",
   "execution_count": 0,
   "metadata": {
    "application/vnd.databricks.v1+cell": {
     "cellMetadata": {
      "byteLimit": 2048000,
      "rowLimit": 10000
     },
     "inputWidgets": {},
     "nuid": "5bba43c8-2c1e-4509-804e-d7fd6bf56b92",
     "showTitle": false,
     "title": ""
    }
   },
   "outputs": [],
   "source": [
    "def get_data(date, time):\n",
    "    url = \"https://data.gharchive.org/\"+ str(date) +'-'+ str(time) +'.json.gz'\n",
    "    print(url)\n",
    "    response = requests.get(url)\n",
    "\n",
    "    if response.status_code == 200:\n",
    "       with open(\"cache.json.gz\", \"wb\") as file:\n",
    "            file.write(response.content)\n",
    "       print(\"File downloaded successfully.\")\n",
    "    else:\n",
    "       print(\"Error downloading the file.\")"
   ]
  },
  {
   "cell_type": "code",
   "execution_count": 0,
   "metadata": {
    "application/vnd.databricks.v1+cell": {
     "cellMetadata": {
      "byteLimit": 2048000,
      "rowLimit": 10000
     },
     "inputWidgets": {},
     "nuid": "7ffd1454-2a00-484e-8b6a-0a06d30dea1a",
     "showTitle": false,
     "title": ""
    }
   },
   "outputs": [],
   "source": [
    "def unzip_jsongz():\n",
    "    input_file = '/databricks/driver/cache.json.gz'\n",
    "    output_file = '/databricks/driver/cache.json'\n",
    "    with gzip.open(input_file, 'rb') as gz_file:\n",
    "        with open(output_file, 'wb') as out_file:\n",
    "            out_file.write(gz_file.read())"
   ]
  },
  {
   "cell_type": "code",
   "execution_count": 0,
   "metadata": {
    "application/vnd.databricks.v1+cell": {
     "cellMetadata": {
      "byteLimit": 2048000,
      "rowLimit": 10000
     },
     "inputWidgets": {},
     "nuid": "8968b14e-5a09-48c6-8624-97ccf192d4c7",
     "showTitle": false,
     "title": ""
    }
   },
   "outputs": [],
   "source": [
    "def upload_to_blob_storage( connection_string, container_name, file_path, blob_name):\n",
    "    blob_service_client = BlobServiceClient.from_connection_string(connection_string)\n",
    "    blob_client = blob_service_client.get_blob_client(container= container_name, blob= blob_name)\n",
    "\n",
    "    with open(file_path, \"rb\") as data:\n",
    "        blob_client.upload_blob(data)"
   ]
  },
  {
   "cell_type": "code",
   "execution_count": 0,
   "metadata": {
    "application/vnd.databricks.v1+cell": {
     "cellMetadata": {
      "byteLimit": 2048000,
      "rowLimit": 10000
     },
     "inputWidgets": {},
     "nuid": "2fe85aa2-0528-47e7-b78d-994538020aa6",
     "showTitle": false,
     "title": ""
    }
   },
   "outputs": [],
   "source": [
    "spark = SparkSession.builder.getOrCreate()\n",
    "sc = spark.sparkContext"
   ]
  },
  {
   "cell_type": "code",
   "execution_count": 0,
   "metadata": {
    "application/vnd.databricks.v1+cell": {
     "cellMetadata": {
      "byteLimit": 2048000,
      "rowLimit": 10000
     },
     "inputWidgets": {},
     "nuid": "dc999966-6a73-4204-a31d-adef65307592",
     "showTitle": false,
     "title": ""
    }
   },
   "outputs": [
    {
     "output_type": "stream",
     "name": "stdout",
     "output_type": "stream",
     "text": [
      "https://data.gharchive.org/2023-04-04-15.json.gz\nFile downloaded successfully.\n"
     ]
    }
   ],
   "source": [
    "get_data(\"2023-04-04\", 15)\n",
    "unzip_jsongz()"
   ]
  },
  {
   "cell_type": "code",
   "execution_count": 0,
   "metadata": {
    "application/vnd.databricks.v1+cell": {
     "cellMetadata": {
      "byteLimit": 2048000,
      "rowLimit": 10000
     },
     "inputWidgets": {},
     "nuid": "e40039a5-15ad-49c6-93d3-4aea94626657",
     "showTitle": false,
     "title": ""
    }
   },
   "outputs": [
    {
     "output_type": "stream",
     "name": "stdout",
     "output_type": "stream",
     "text": [
      "Out[7]: Row(actor=Row(avatar_url='https://avatars.githubusercontent.com/u/108474434?', display_login='appseed-projects2', gravatar_id='', id=108474434, login='appseed-projects2', url='https://api.github.com/users/appseed-projects2'), created_at='2023-04-04T15:00:04Z', id='28197453071', org=None, payload=Row(action=None, before='cc9abfdb6c1be48d7823c4603c5398dabc613dcc', comment=None, commits=[Row(author=Row(email='108474434+appseed-projects2@users.noreply.github.com', name='AppSeed Generated Projects'), distinct=True, message='initial commit', sha='05ff2e573c591b1a8bbf0f4f1de0455c9fb5386b', url='https://api.github.com/repos/appseed-projects2/7306edf7-7654-4bb2-a8ff-d34925aa9b7c/commits/05ff2e573c591b1a8bbf0f4f1de0455c9fb5386b')], description=None, distinct_size=1, forkee=None, head='05ff2e573c591b1a8bbf0f4f1de0455c9fb5386b', issue=None, master_branch=None, member=None, number=None, pages=None, pull_request=None, push_id=13186384016, pusher_type=None, ref='refs/heads/main', ref_type=None, release=None, repository_id=623532634, review=None, size=1), public=True, repo=Row(id=623532634, name='appseed-projects2/7306edf7-7654-4bb2-a8ff-d34925aa9b7c', url='https://api.github.com/repos/appseed-projects2/7306edf7-7654-4bb2-a8ff-d34925aa9b7c'), type='PushEvent')"
     ]
    }
   ],
   "source": [
    "df = spark.read.json(\"file:///databricks/driver/cache.json\")\n",
    "df.head()"
   ]
  },
  {
   "cell_type": "code",
   "execution_count": 0,
   "metadata": {
    "application/vnd.databricks.v1+cell": {
     "cellMetadata": {
      "byteLimit": 2048000,
      "rowLimit": 10000
     },
     "inputWidgets": {},
     "nuid": "8074f711-7fb9-4a0f-8d38-e91833fa766a",
     "showTitle": false,
     "title": ""
    }
   },
   "outputs": [
    {
     "output_type": "stream",
     "name": "stdout",
     "output_type": "stream",
     "text": [
      "+--------------------+--------------------+-----------+--------------------+--------------------+------+--------------------+--------------------+\n|               actor|          created_at|         id|                 org|             payload|public|                repo|                type|\n+--------------------+--------------------+-----------+--------------------+--------------------+------+--------------------+--------------------+\n|{https://avatars....|2023-04-04T15:00:04Z|28197453071|                null|{null, cc9abfdb6c...|  true|{623532634, appse...|           PushEvent|\n|{https://avatars....|2023-04-04T15:00:04Z|28197453195|{https://avatars....|{started, null, n...|  true|{444995502, faceb...|          WatchEvent|\n|{https://avatars....|2023-04-04T15:00:04Z|28197453255|                null|{null, 1098972a1d...|  true|{610768481, reyap...|           PushEvent|\n|{https://avatars....|2023-04-04T15:00:04Z|28197453293|                null|{null, 51aa653149...|  true|{621998419, Samue...|           PushEvent|\n|{https://avatars....|2023-04-04T15:00:04Z|28197453409|                null|{started, null, n...|  true|{622770156, barre...|          WatchEvent|\n|{https://avatars....|2023-04-04T15:00:04Z|28197453411|                null|{null, 01a50e3d18...|  true|{571107582, Phayu...|           PushEvent|\n|{https://avatars....|2023-04-04T15:00:04Z|28197453413|                null|{null, b1f0695ba3...|  true|{358404401, sboda...|           PushEvent|\n|{https://avatars....|2023-04-04T15:00:04Z|28197453417|{https://avatars....|{created, null, {...|  true|{375822193, gqty-...|   IssueCommentEvent|\n|{https://avatars....|2023-04-04T15:00:04Z|28197453420|                null|{null, c97e38679a...|  true|{597934838, tophu...|           PushEvent|\n|{https://avatars....|2023-04-04T15:00:04Z|28197453447|{https://avatars....|{null, null, null...|  true|{139618755, sante...|         CreateEvent|\n|{https://avatars....|2023-04-04T15:00:04Z|28197453461|                null|{null, b265e597c9...|  true|{616817882, jjenn...|           PushEvent|\n|{https://avatars....|2023-04-04T15:00:04Z|28197453491|{https://avatars....|{started, null, n...|  true|{619859161, twitt...|          WatchEvent|\n|{https://avatars....|2023-04-04T15:00:04Z|28197453539|{https://avatars....|{created, null, n...|  true|{287542207, 0xPol...|PullRequestReview...|\n|{https://avatars....|2023-04-04T15:00:04Z|28197453577|                null|{null, 466a60ed6b...|  true|{524914146, LITTL...|           PushEvent|\n|{https://avatars....|2023-04-04T15:00:04Z|28197453588|{https://avatars....|{null, null, null...|  true|{73967712, Twilio...|         DeleteEvent|\n|{https://avatars....|2023-04-04T15:00:04Z|28197453596|{https://avatars....|{opened, null, nu...|  true|{8720130, particl...|    PullRequestEvent|\n|{https://avatars....|2023-04-04T15:00:04Z|28197453619|                null|{null, c9e3b487b2...|  true|{593350701, vkras...|           PushEvent|\n|{https://avatars....|2023-04-04T15:00:04Z|28197453665|{https://avatars....|{created, null, n...|  true|{82933315, telepr...|PullRequestReview...|\n|{https://avatars....|2023-04-04T15:00:04Z|28197453666|{https://avatars....|{created, null, n...|  true|{394632367, open-...|PullRequestReview...|\n|{https://avatars....|2023-04-04T15:00:04Z|28197453671|                null|{null, f37defb82c...|  true|{364938110, shawn...|           PushEvent|\n+--------------------+--------------------+-----------+--------------------+--------------------+------+--------------------+--------------------+\nonly showing top 20 rows\n\n"
     ]
    }
   ],
   "source": [
    "df.show()"
   ]
  },
  {
   "cell_type": "code",
   "execution_count": 0,
   "metadata": {
    "application/vnd.databricks.v1+cell": {
     "cellMetadata": {
      "byteLimit": 2048000,
      "rowLimit": 10000
     },
     "inputWidgets": {},
     "nuid": "11634f74-ab2b-445a-b038-35c008a0b763",
     "showTitle": false,
     "title": ""
    }
   },
   "outputs": [],
   "source": [
    "issues_df = df.filter(df.type == \"IssuesEvent\")"
   ]
  },
  {
   "cell_type": "code",
   "execution_count": 0,
   "metadata": {
    "application/vnd.databricks.v1+cell": {
     "cellMetadata": {
      "byteLimit": 2048000,
      "rowLimit": 10000
     },
     "inputWidgets": {},
     "nuid": "64814cba-6f1f-48ce-ad21-7db2be2a162a",
     "showTitle": false,
     "title": ""
    }
   },
   "outputs": [],
   "source": [
    "all_issues = issues_df.select('payload.issue.labels.description','payload.issue.labels.name')"
   ]
  },
  {
   "cell_type": "code",
   "execution_count": 0,
   "metadata": {
    "application/vnd.databricks.v1+cell": {
     "cellMetadata": {
      "byteLimit": 2048000,
      "rowLimit": 10000
     },
     "inputWidgets": {},
     "nuid": "fac0ddbe-f72e-4bc6-8224-651db84d098a",
     "showTitle": false,
     "title": ""
    }
   },
   "outputs": [],
   "source": [
    "all_issues = all_issues.toPandas()"
   ]
  },
  {
   "cell_type": "code",
   "execution_count": 0,
   "metadata": {
    "application/vnd.databricks.v1+cell": {
     "cellMetadata": {
      "byteLimit": 2048000,
      "rowLimit": 10000
     },
     "inputWidgets": {},
     "nuid": "bd0d4f07-a7fd-49cc-86db-1940cf801ab0",
     "showTitle": false,
     "title": ""
    }
   },
   "outputs": [
    {
     "output_type": "display_data",
     "data": {
      "text/html": [
       "<div>\n",
       "<style scoped>\n",
       "    .dataframe tbody tr th:only-of-type {\n",
       "        vertical-align: middle;\n",
       "    }\n",
       "\n",
       "    .dataframe tbody tr th {\n",
       "        vertical-align: top;\n",
       "    }\n",
       "\n",
       "    .dataframe thead th {\n",
       "        text-align: right;\n",
       "    }\n",
       "</style>\n",
       "<table border=\"1\" class=\"dataframe\">\n",
       "  <thead>\n",
       "    <tr style=\"text-align: right;\">\n",
       "      <th></th>\n",
       "      <th>description</th>\n",
       "      <th>name</th>\n",
       "    </tr>\n",
       "  </thead>\n",
       "  <tbody>\n",
       "    <tr>\n",
       "      <th>0</th>\n",
       "      <td>[]</td>\n",
       "      <td>[]</td>\n",
       "    </tr>\n",
       "    <tr>\n",
       "      <th>1</th>\n",
       "      <td>[]</td>\n",
       "      <td>[]</td>\n",
       "    </tr>\n",
       "    <tr>\n",
       "      <th>2</th>\n",
       "      <td>[Pull requests that update Javascript code]</td>\n",
       "      <td>[javascript]</td>\n",
       "    </tr>\n",
       "    <tr>\n",
       "      <th>3</th>\n",
       "      <td>[]</td>\n",
       "      <td>[]</td>\n",
       "    </tr>\n",
       "    <tr>\n",
       "      <th>4</th>\n",
       "      <td>[New syntax feature or behavior, Ongoing conve...</td>\n",
       "      <td>[feature, discussion, core]</td>\n",
       "    </tr>\n",
       "    <tr>\n",
       "      <th>...</th>\n",
       "      <td>...</td>\n",
       "      <td>...</td>\n",
       "    </tr>\n",
       "    <tr>\n",
       "      <th>4393</th>\n",
       "      <td>[Issues and pull requests that haven't been re...</td>\n",
       "      <td>[review required]</td>\n",
       "    </tr>\n",
       "    <tr>\n",
       "      <th>4394</th>\n",
       "      <td>[]</td>\n",
       "      <td>[]</td>\n",
       "    </tr>\n",
       "    <tr>\n",
       "      <th>4395</th>\n",
       "      <td>[None]</td>\n",
       "      <td>[watchout]</td>\n",
       "    </tr>\n",
       "    <tr>\n",
       "      <th>4396</th>\n",
       "      <td>[Something isn't working, ]</td>\n",
       "      <td>[bug, frontend]</td>\n",
       "    </tr>\n",
       "    <tr>\n",
       "      <th>4397</th>\n",
       "      <td>[This doesn't seem right]</td>\n",
       "      <td>[invalid]</td>\n",
       "    </tr>\n",
       "  </tbody>\n",
       "</table>\n",
       "<p>4398 rows × 2 columns</p>\n",
       "</div>"
      ]
     },
     "metadata": {
      "application/vnd.databricks.v1+output": {
       "addedWidgets": {},
       "arguments": {},
       "data": "<div>\n<style scoped>\n    .dataframe tbody tr th:only-of-type {\n        vertical-align: middle;\n    }\n\n    .dataframe tbody tr th {\n        vertical-align: top;\n    }\n\n    .dataframe thead th {\n        text-align: right;\n    }\n</style>\n<table border=\"1\" class=\"dataframe\">\n  <thead>\n    <tr style=\"text-align: right;\">\n      <th></th>\n      <th>description</th>\n      <th>name</th>\n    </tr>\n  </thead>\n  <tbody>\n    <tr>\n      <th>0</th>\n      <td>[]</td>\n      <td>[]</td>\n    </tr>\n    <tr>\n      <th>1</th>\n      <td>[]</td>\n      <td>[]</td>\n    </tr>\n    <tr>\n      <th>2</th>\n      <td>[Pull requests that update Javascript code]</td>\n      <td>[javascript]</td>\n    </tr>\n    <tr>\n      <th>3</th>\n      <td>[]</td>\n      <td>[]</td>\n    </tr>\n    <tr>\n      <th>4</th>\n      <td>[New syntax feature or behavior, Ongoing conve...</td>\n      <td>[feature, discussion, core]</td>\n    </tr>\n    <tr>\n      <th>...</th>\n      <td>...</td>\n      <td>...</td>\n    </tr>\n    <tr>\n      <th>4393</th>\n      <td>[Issues and pull requests that haven't been re...</td>\n      <td>[review required]</td>\n    </tr>\n    <tr>\n      <th>4394</th>\n      <td>[]</td>\n      <td>[]</td>\n    </tr>\n    <tr>\n      <th>4395</th>\n      <td>[None]</td>\n      <td>[watchout]</td>\n    </tr>\n    <tr>\n      <th>4396</th>\n      <td>[Something isn't working, ]</td>\n      <td>[bug, frontend]</td>\n    </tr>\n    <tr>\n      <th>4397</th>\n      <td>[This doesn't seem right]</td>\n      <td>[invalid]</td>\n    </tr>\n  </tbody>\n</table>\n<p>4398 rows × 2 columns</p>\n</div>",
       "datasetInfos": [],
       "metadata": {},
       "removedWidgets": [],
       "textData": null,
       "type": "htmlSandbox"
      }
     },
     "output_type": "display_data"
    }
   ],
   "source": [
    "all_issues"
   ]
  },
  {
   "cell_type": "code",
   "execution_count": 0,
   "metadata": {
    "application/vnd.databricks.v1+cell": {
     "cellMetadata": {
      "byteLimit": 2048000,
      "rowLimit": 10000
     },
     "inputWidgets": {},
     "nuid": "9ff987ba-7c37-42f8-b105-f1ae79e34c77",
     "showTitle": false,
     "title": ""
    }
   },
   "outputs": [],
   "source": [
    "all_issues_pd = all_issues[all_issues['description'].apply(lambda x: len(x) > 0)]"
   ]
  },
  {
   "cell_type": "code",
   "execution_count": 0,
   "metadata": {
    "application/vnd.databricks.v1+cell": {
     "cellMetadata": {
      "byteLimit": 2048000,
      "rowLimit": 10000
     },
     "inputWidgets": {},
     "nuid": "e1f87e32-8744-430a-b92b-ec376eca365e",
     "showTitle": false,
     "title": ""
    }
   },
   "outputs": [
    {
     "output_type": "display_data",
     "data": {
      "text/html": [
       "<div>\n",
       "<style scoped>\n",
       "    .dataframe tbody tr th:only-of-type {\n",
       "        vertical-align: middle;\n",
       "    }\n",
       "\n",
       "    .dataframe tbody tr th {\n",
       "        vertical-align: top;\n",
       "    }\n",
       "\n",
       "    .dataframe thead th {\n",
       "        text-align: right;\n",
       "    }\n",
       "</style>\n",
       "<table border=\"1\" class=\"dataframe\">\n",
       "  <thead>\n",
       "    <tr style=\"text-align: right;\">\n",
       "      <th></th>\n",
       "      <th>description</th>\n",
       "      <th>name</th>\n",
       "    </tr>\n",
       "  </thead>\n",
       "  <tbody>\n",
       "    <tr>\n",
       "      <th>2</th>\n",
       "      <td>[Pull requests that update Javascript code]</td>\n",
       "      <td>[javascript]</td>\n",
       "    </tr>\n",
       "    <tr>\n",
       "      <th>4</th>\n",
       "      <td>[New syntax feature or behavior, Ongoing conve...</td>\n",
       "      <td>[feature, discussion, core]</td>\n",
       "    </tr>\n",
       "    <tr>\n",
       "      <th>5</th>\n",
       "      <td>[None, None, None]</td>\n",
       "      <td>[T: Annoyance, P4: Low, N: AdGuard Browser Ext...</td>\n",
       "    </tr>\n",
       "    <tr>\n",
       "      <th>6</th>\n",
       "      <td>[]</td>\n",
       "      <td>[CI/CD]</td>\n",
       "    </tr>\n",
       "    <tr>\n",
       "      <th>8</th>\n",
       "      <td>[, Velocity rating (Fibonacci)]</td>\n",
       "      <td>[type: support :sos:, [2]]</td>\n",
       "    </tr>\n",
       "    <tr>\n",
       "      <th>...</th>\n",
       "      <td>...</td>\n",
       "      <td>...</td>\n",
       "    </tr>\n",
       "    <tr>\n",
       "      <th>4390</th>\n",
       "      <td>[None, None]</td>\n",
       "      <td>[status, nostr-relay-wss-nostr-oxtr-dev]</td>\n",
       "    </tr>\n",
       "    <tr>\n",
       "      <th>4393</th>\n",
       "      <td>[Issues and pull requests that haven't been re...</td>\n",
       "      <td>[review required]</td>\n",
       "    </tr>\n",
       "    <tr>\n",
       "      <th>4395</th>\n",
       "      <td>[None]</td>\n",
       "      <td>[watchout]</td>\n",
       "    </tr>\n",
       "    <tr>\n",
       "      <th>4396</th>\n",
       "      <td>[Something isn't working, ]</td>\n",
       "      <td>[bug, frontend]</td>\n",
       "    </tr>\n",
       "    <tr>\n",
       "      <th>4397</th>\n",
       "      <td>[This doesn't seem right]</td>\n",
       "      <td>[invalid]</td>\n",
       "    </tr>\n",
       "  </tbody>\n",
       "</table>\n",
       "<p>1874 rows × 2 columns</p>\n",
       "</div>"
      ]
     },
     "metadata": {
      "application/vnd.databricks.v1+output": {
       "addedWidgets": {},
       "arguments": {},
       "data": "<div>\n<style scoped>\n    .dataframe tbody tr th:only-of-type {\n        vertical-align: middle;\n    }\n\n    .dataframe tbody tr th {\n        vertical-align: top;\n    }\n\n    .dataframe thead th {\n        text-align: right;\n    }\n</style>\n<table border=\"1\" class=\"dataframe\">\n  <thead>\n    <tr style=\"text-align: right;\">\n      <th></th>\n      <th>description</th>\n      <th>name</th>\n    </tr>\n  </thead>\n  <tbody>\n    <tr>\n      <th>2</th>\n      <td>[Pull requests that update Javascript code]</td>\n      <td>[javascript]</td>\n    </tr>\n    <tr>\n      <th>4</th>\n      <td>[New syntax feature or behavior, Ongoing conve...</td>\n      <td>[feature, discussion, core]</td>\n    </tr>\n    <tr>\n      <th>5</th>\n      <td>[None, None, None]</td>\n      <td>[T: Annoyance, P4: Low, N: AdGuard Browser Ext...</td>\n    </tr>\n    <tr>\n      <th>6</th>\n      <td>[]</td>\n      <td>[CI/CD]</td>\n    </tr>\n    <tr>\n      <th>8</th>\n      <td>[, Velocity rating (Fibonacci)]</td>\n      <td>[type: support :sos:, [2]]</td>\n    </tr>\n    <tr>\n      <th>...</th>\n      <td>...</td>\n      <td>...</td>\n    </tr>\n    <tr>\n      <th>4390</th>\n      <td>[None, None]</td>\n      <td>[status, nostr-relay-wss-nostr-oxtr-dev]</td>\n    </tr>\n    <tr>\n      <th>4393</th>\n      <td>[Issues and pull requests that haven't been re...</td>\n      <td>[review required]</td>\n    </tr>\n    <tr>\n      <th>4395</th>\n      <td>[None]</td>\n      <td>[watchout]</td>\n    </tr>\n    <tr>\n      <th>4396</th>\n      <td>[Something isn't working, ]</td>\n      <td>[bug, frontend]</td>\n    </tr>\n    <tr>\n      <th>4397</th>\n      <td>[This doesn't seem right]</td>\n      <td>[invalid]</td>\n    </tr>\n  </tbody>\n</table>\n<p>1874 rows × 2 columns</p>\n</div>",
       "datasetInfos": [],
       "metadata": {},
       "removedWidgets": [],
       "textData": null,
       "type": "htmlSandbox"
      }
     },
     "output_type": "display_data"
    }
   ],
   "source": [
    "all_issues_pd "
   ]
  },
  {
   "cell_type": "code",
   "execution_count": 0,
   "metadata": {
    "application/vnd.databricks.v1+cell": {
     "cellMetadata": {
      "byteLimit": 2048000,
      "rowLimit": 10000
     },
     "inputWidgets": {},
     "nuid": "cfb520a7-d9eb-46c7-9974-24f560e6ba74",
     "showTitle": false,
     "title": ""
    }
   },
   "outputs": [],
   "source": [
    "pull_issues_data = df.filter(df.type == \"PullRequestReviewEvent\")"
   ]
  },
  {
   "cell_type": "code",
   "execution_count": 0,
   "metadata": {
    "application/vnd.databricks.v1+cell": {
     "cellMetadata": {
      "byteLimit": 2048000,
      "rowLimit": 10000
     },
     "inputWidgets": {},
     "nuid": "31bf6720-e052-44c0-a87a-577879b7ef97",
     "showTitle": false,
     "title": ""
    }
   },
   "outputs": [
    {
     "output_type": "stream",
     "name": "stdout",
     "output_type": "stream",
     "text": [
      "+--------------------+--------------------+-----------+--------------------+--------------------+------+--------------------+--------------------+\n|               actor|          created_at|         id|                 org|             payload|public|                repo|                type|\n+--------------------+--------------------+-----------+--------------------+--------------------+------+--------------------+--------------------+\n|{https://avatars....|2023-04-04T15:00:04Z|28197453539|{https://avatars....|{created, null, n...|  true|{287542207, 0xPol...|PullRequestReview...|\n|{https://avatars....|2023-04-04T15:00:04Z|28197453665|{https://avatars....|{created, null, n...|  true|{82933315, telepr...|PullRequestReview...|\n|{https://avatars....|2023-04-04T15:00:04Z|28197453666|{https://avatars....|{created, null, n...|  true|{394632367, open-...|PullRequestReview...|\n|{https://avatars....|2023-04-04T15:00:05Z|28197454135|{https://avatars....|{created, null, n...|  true|{548894087, sora-...|PullRequestReview...|\n|{https://avatars....|2023-04-04T15:00:05Z|28197454296|{https://avatars....|{created, null, n...|  true|{23649904, catacl...|PullRequestReview...|\n|{https://avatars....|2023-04-04T15:00:05Z|28197454483|                null|{created, null, n...|  true|{211603231, MeilC...|PullRequestReview...|\n|{https://avatars....|2023-04-04T15:00:05Z|28197454564|{https://avatars....|{created, null, n...|  true|{525990225, antre...|PullRequestReview...|\n|{https://avatars....|2023-04-04T15:00:05Z|28197454779|{https://avatars....|{created, null, n...|  true|{523347631, canon...|PullRequestReview...|\n|{https://avatars....|2023-04-04T15:00:06Z|28197454925|{https://avatars....|{created, null, n...|  true|{42457394, zaland...|PullRequestReview...|\n|{https://avatars....|2023-04-04T15:00:06Z|28197454938|{https://avatars....|{created, null, n...|  true|{224021526, grafa...|PullRequestReview...|\n|{https://avatars....|2023-04-04T15:00:06Z|28197455023|{https://avatars....|{created, null, n...|  true|{287542207, 0xPol...|PullRequestReview...|\n|{https://avatars....|2023-04-04T15:00:06Z|28197455945|                null|{created, null, n...|  true|{618168573, xyior...|PullRequestReview...|\n|{https://avatars....|2023-04-04T15:00:05Z|28197454257|{https://avatars....|{created, null, n...|  true|{287542207, 0xPol...|PullRequestReview...|\n|{https://avatars....|2023-04-04T15:00:05Z|28197454693|{https://avatars....|{created, null, n...|  true|{398849559, subsp...|PullRequestReview...|\n|{https://avatars....|2023-04-04T15:00:05Z|28197454825|{https://avatars....|{created, null, n...|  true|{597503968, infos...|PullRequestReview...|\n|{https://avatars....|2023-04-04T15:00:05Z|28197454860|                null|{created, null, n...|  true|{501563365, Harth...|PullRequestReview...|\n|{https://avatars....|2023-04-04T15:00:06Z|28197454890|{https://avatars....|{created, null, n...|  true|{16646125, plone/...|PullRequestReview...|\n|{https://avatars....|2023-04-04T15:00:06Z|28197455262|{https://avatars....|{created, null, n...|  true|{457525380, r-thr...|PullRequestReview...|\n|{https://avatars....|2023-04-04T15:00:06Z|28197455670|{https://avatars....|{created, null, n...|  true|{426316612, 0xPol...|PullRequestReview...|\n|{https://avatars....|2023-04-04T15:00:11Z|28197458092|{https://avatars....|{created, null, n...|  true|{873328, getsentr...|PullRequestReview...|\n+--------------------+--------------------+-----------+--------------------+--------------------+------+--------------------+--------------------+\nonly showing top 20 rows\n\n"
     ]
    }
   ],
   "source": [
    "pull_issues_data.show()"
   ]
  },
  {
   "cell_type": "code",
   "execution_count": 0,
   "metadata": {
    "application/vnd.databricks.v1+cell": {
     "cellMetadata": {
      "byteLimit": 2048000,
      "rowLimit": 10000
     },
     "inputWidgets": {},
     "nuid": "8ddf6c48-9eb7-405c-b36d-f0f6efca72f3",
     "showTitle": false,
     "title": ""
    }
   },
   "outputs": [],
   "source": [
    "pull_issues = pull_issues_data.select(\"payload.pull_request.labels.description\",\"payload.pull_request.labels.name\")"
   ]
  },
  {
   "cell_type": "code",
   "execution_count": 0,
   "metadata": {
    "application/vnd.databricks.v1+cell": {
     "cellMetadata": {
      "byteLimit": 2048000,
      "rowLimit": 10000
     },
     "inputWidgets": {},
     "nuid": "90c9c810-573b-4e2d-88ed-fae386bff49f",
     "showTitle": false,
     "title": ""
    }
   },
   "outputs": [
    {
     "output_type": "stream",
     "name": "stdout",
     "output_type": "stream",
     "text": [
      "+--------------------+----------------+\n|         description|            name|\n+--------------------+----------------+\n|[New update to Po...|       [feature]|\n|                  []|              []|\n|                  []|              []|\n|                  []|              []|\n|[PR changes relat...|     [src, data]|\n|                  []|  [Dependencies]|\n|                  []|              []|\n|                  []|              []|\n|                  []|              []|\n|                  []|              []|\n|[New update to Po...|       [feature]|\n|                  []|              []|\n|[New update to Po...|       [feature]|\n|                  []|              []|\n|                  []|              []|\n|                  []|              []|\n|                  []|              []|\n|                  []|              []|\n|              [null]|    [cla-signed]|\n|[Automatically ap...|[Scope: Backend]|\n+--------------------+----------------+\nonly showing top 20 rows\n\n"
     ]
    }
   ],
   "source": [
    "pull_issues.show()"
   ]
  },
  {
   "cell_type": "code",
   "execution_count": 0,
   "metadata": {
    "application/vnd.databricks.v1+cell": {
     "cellMetadata": {
      "byteLimit": 2048000,
      "rowLimit": 10000
     },
     "inputWidgets": {},
     "nuid": "895e75a1-9bea-4aaf-b464-7cb442f88b4d",
     "showTitle": false,
     "title": ""
    }
   },
   "outputs": [],
   "source": [
    "pull_issues = pull_issues.toPandas()"
   ]
  },
  {
   "cell_type": "code",
   "execution_count": 0,
   "metadata": {
    "application/vnd.databricks.v1+cell": {
     "cellMetadata": {
      "byteLimit": 2048000,
      "rowLimit": 10000
     },
     "inputWidgets": {},
     "nuid": "7db7c4de-d5f8-4723-99e5-dac57b98c312",
     "showTitle": false,
     "title": ""
    }
   },
   "outputs": [
    {
     "output_type": "display_data",
     "data": {
      "text/html": [
       "<div>\n",
       "<style scoped>\n",
       "    .dataframe tbody tr th:only-of-type {\n",
       "        vertical-align: middle;\n",
       "    }\n",
       "\n",
       "    .dataframe tbody tr th {\n",
       "        vertical-align: top;\n",
       "    }\n",
       "\n",
       "    .dataframe thead th {\n",
       "        text-align: right;\n",
       "    }\n",
       "</style>\n",
       "<table border=\"1\" class=\"dataframe\">\n",
       "  <thead>\n",
       "    <tr style=\"text-align: right;\">\n",
       "      <th></th>\n",
       "      <th>description</th>\n",
       "      <th>name</th>\n",
       "    </tr>\n",
       "  </thead>\n",
       "  <tbody>\n",
       "    <tr>\n",
       "      <th>0</th>\n",
       "      <td>[New update to Polygon Edge]</td>\n",
       "      <td>[feature]</td>\n",
       "    </tr>\n",
       "    <tr>\n",
       "      <th>1</th>\n",
       "      <td>[]</td>\n",
       "      <td>[]</td>\n",
       "    </tr>\n",
       "    <tr>\n",
       "      <th>2</th>\n",
       "      <td>[]</td>\n",
       "      <td>[]</td>\n",
       "    </tr>\n",
       "    <tr>\n",
       "      <th>3</th>\n",
       "      <td>[]</td>\n",
       "      <td>[]</td>\n",
       "    </tr>\n",
       "    <tr>\n",
       "      <th>4</th>\n",
       "      <td>[PR changes related to source code., PRs relat...</td>\n",
       "      <td>[src, data]</td>\n",
       "    </tr>\n",
       "  </tbody>\n",
       "</table>\n",
       "</div>"
      ]
     },
     "metadata": {
      "application/vnd.databricks.v1+output": {
       "addedWidgets": {},
       "arguments": {},
       "data": "<div>\n<style scoped>\n    .dataframe tbody tr th:only-of-type {\n        vertical-align: middle;\n    }\n\n    .dataframe tbody tr th {\n        vertical-align: top;\n    }\n\n    .dataframe thead th {\n        text-align: right;\n    }\n</style>\n<table border=\"1\" class=\"dataframe\">\n  <thead>\n    <tr style=\"text-align: right;\">\n      <th></th>\n      <th>description</th>\n      <th>name</th>\n    </tr>\n  </thead>\n  <tbody>\n    <tr>\n      <th>0</th>\n      <td>[New update to Polygon Edge]</td>\n      <td>[feature]</td>\n    </tr>\n    <tr>\n      <th>1</th>\n      <td>[]</td>\n      <td>[]</td>\n    </tr>\n    <tr>\n      <th>2</th>\n      <td>[]</td>\n      <td>[]</td>\n    </tr>\n    <tr>\n      <th>3</th>\n      <td>[]</td>\n      <td>[]</td>\n    </tr>\n    <tr>\n      <th>4</th>\n      <td>[PR changes related to source code., PRs relat...</td>\n      <td>[src, data]</td>\n    </tr>\n  </tbody>\n</table>\n</div>",
       "datasetInfos": [],
       "metadata": {},
       "removedWidgets": [],
       "textData": null,
       "type": "htmlSandbox"
      }
     },
     "output_type": "display_data"
    }
   ],
   "source": [
    "pull_issues.head()"
   ]
  },
  {
   "cell_type": "code",
   "execution_count": 0,
   "metadata": {
    "application/vnd.databricks.v1+cell": {
     "cellMetadata": {
      "byteLimit": 2048000,
      "rowLimit": 10000
     },
     "inputWidgets": {},
     "nuid": "5c31122b-c9dd-4719-bc5a-1c96a1695949",
     "showTitle": false,
     "title": ""
    }
   },
   "outputs": [],
   "source": [
    "pull_issues_pd = pull_issues[pull_issues['description'].apply(lambda x: len(x) > 0)]"
   ]
  },
  {
   "cell_type": "code",
   "execution_count": 0,
   "metadata": {
    "application/vnd.databricks.v1+cell": {
     "cellMetadata": {
      "byteLimit": 2048000,
      "rowLimit": 10000
     },
     "inputWidgets": {},
     "nuid": "44bfca39-80e6-4f35-957a-d788b3cfa140",
     "showTitle": false,
     "title": ""
    }
   },
   "outputs": [
    {
     "output_type": "display_data",
     "data": {
      "text/html": [
       "<div>\n",
       "<style scoped>\n",
       "    .dataframe tbody tr th:only-of-type {\n",
       "        vertical-align: middle;\n",
       "    }\n",
       "\n",
       "    .dataframe tbody tr th {\n",
       "        vertical-align: top;\n",
       "    }\n",
       "\n",
       "    .dataframe thead th {\n",
       "        text-align: right;\n",
       "    }\n",
       "</style>\n",
       "<table border=\"1\" class=\"dataframe\">\n",
       "  <thead>\n",
       "    <tr style=\"text-align: right;\">\n",
       "      <th></th>\n",
       "      <th>description</th>\n",
       "      <th>name</th>\n",
       "    </tr>\n",
       "  </thead>\n",
       "  <tbody>\n",
       "    <tr>\n",
       "      <th>0</th>\n",
       "      <td>[New update to Polygon Edge]</td>\n",
       "      <td>[feature]</td>\n",
       "    </tr>\n",
       "    <tr>\n",
       "      <th>4</th>\n",
       "      <td>[PR changes related to source code., PRs relat...</td>\n",
       "      <td>[src, data]</td>\n",
       "    </tr>\n",
       "    <tr>\n",
       "      <th>5</th>\n",
       "      <td>[]</td>\n",
       "      <td>[Dependencies]</td>\n",
       "    </tr>\n",
       "    <tr>\n",
       "      <th>10</th>\n",
       "      <td>[New update to Polygon Edge]</td>\n",
       "      <td>[feature]</td>\n",
       "    </tr>\n",
       "    <tr>\n",
       "      <th>12</th>\n",
       "      <td>[New update to Polygon Edge]</td>\n",
       "      <td>[feature]</td>\n",
       "    </tr>\n",
       "    <tr>\n",
       "      <th>...</th>\n",
       "      <td>...</td>\n",
       "      <td>...</td>\n",
       "    </tr>\n",
       "    <tr>\n",
       "      <th>7122</th>\n",
       "      <td>[, Skip backport of PR, Skip including change ...</td>\n",
       "      <td>[area/backend, no-backport, no-changelog]</td>\n",
       "    </tr>\n",
       "    <tr>\n",
       "      <th>7123</th>\n",
       "      <td>[Pull requests that update a dependency file]</td>\n",
       "      <td>[dependencies]</td>\n",
       "    </tr>\n",
       "    <tr>\n",
       "      <th>7127</th>\n",
       "      <td>[Pull requests that update a dependency file, ...</td>\n",
       "      <td>[dependencies, javascript]</td>\n",
       "    </tr>\n",
       "    <tr>\n",
       "      <th>7128</th>\n",
       "      <td>[Improvements or additions to documentation, N...</td>\n",
       "      <td>[documentation, enhancement, backend]</td>\n",
       "    </tr>\n",
       "    <tr>\n",
       "      <th>7133</th>\n",
       "      <td>[Related to semantic conventions, Related to t...</td>\n",
       "      <td>[area:semantic-conventions, spec:trace, semcon...</td>\n",
       "    </tr>\n",
       "  </tbody>\n",
       "</table>\n",
       "<p>2329 rows × 2 columns</p>\n",
       "</div>"
      ]
     },
     "metadata": {
      "application/vnd.databricks.v1+output": {
       "addedWidgets": {},
       "arguments": {},
       "data": "<div>\n<style scoped>\n    .dataframe tbody tr th:only-of-type {\n        vertical-align: middle;\n    }\n\n    .dataframe tbody tr th {\n        vertical-align: top;\n    }\n\n    .dataframe thead th {\n        text-align: right;\n    }\n</style>\n<table border=\"1\" class=\"dataframe\">\n  <thead>\n    <tr style=\"text-align: right;\">\n      <th></th>\n      <th>description</th>\n      <th>name</th>\n    </tr>\n  </thead>\n  <tbody>\n    <tr>\n      <th>0</th>\n      <td>[New update to Polygon Edge]</td>\n      <td>[feature]</td>\n    </tr>\n    <tr>\n      <th>4</th>\n      <td>[PR changes related to source code., PRs relat...</td>\n      <td>[src, data]</td>\n    </tr>\n    <tr>\n      <th>5</th>\n      <td>[]</td>\n      <td>[Dependencies]</td>\n    </tr>\n    <tr>\n      <th>10</th>\n      <td>[New update to Polygon Edge]</td>\n      <td>[feature]</td>\n    </tr>\n    <tr>\n      <th>12</th>\n      <td>[New update to Polygon Edge]</td>\n      <td>[feature]</td>\n    </tr>\n    <tr>\n      <th>...</th>\n      <td>...</td>\n      <td>...</td>\n    </tr>\n    <tr>\n      <th>7122</th>\n      <td>[, Skip backport of PR, Skip including change ...</td>\n      <td>[area/backend, no-backport, no-changelog]</td>\n    </tr>\n    <tr>\n      <th>7123</th>\n      <td>[Pull requests that update a dependency file]</td>\n      <td>[dependencies]</td>\n    </tr>\n    <tr>\n      <th>7127</th>\n      <td>[Pull requests that update a dependency file, ...</td>\n      <td>[dependencies, javascript]</td>\n    </tr>\n    <tr>\n      <th>7128</th>\n      <td>[Improvements or additions to documentation, N...</td>\n      <td>[documentation, enhancement, backend]</td>\n    </tr>\n    <tr>\n      <th>7133</th>\n      <td>[Related to semantic conventions, Related to t...</td>\n      <td>[area:semantic-conventions, spec:trace, semcon...</td>\n    </tr>\n  </tbody>\n</table>\n<p>2329 rows × 2 columns</p>\n</div>",
       "datasetInfos": [],
       "metadata": {},
       "removedWidgets": [],
       "textData": null,
       "type": "htmlSandbox"
      }
     },
     "output_type": "display_data"
    }
   ],
   "source": [
    "pull_issues_pd"
   ]
  },
  {
   "cell_type": "code",
   "execution_count": 0,
   "metadata": {
    "application/vnd.databricks.v1+cell": {
     "cellMetadata": {
      "byteLimit": 2048000,
      "rowLimit": 10000
     },
     "inputWidgets": {},
     "nuid": "f061c3e8-bf47-4a6e-ad3e-a4fa845c4715",
     "showTitle": false,
     "title": ""
    }
   },
   "outputs": [],
   "source": [
    "issue_comment_data = df.filter(df.type == \"IssueCommentEvent\")"
   ]
  },
  {
   "cell_type": "code",
   "execution_count": 0,
   "metadata": {
    "application/vnd.databricks.v1+cell": {
     "cellMetadata": {
      "byteLimit": 2048000,
      "rowLimit": 10000
     },
     "inputWidgets": {},
     "nuid": "c0ba864e-5fcd-4c6f-b36b-5946af4fb527",
     "showTitle": false,
     "title": ""
    }
   },
   "outputs": [],
   "source": [
    "issue_comment = issue_comment_data.select(\"payload.issue.labels.description\",\"payload.issue.labels.name\")"
   ]
  },
  {
   "cell_type": "code",
   "execution_count": 0,
   "metadata": {
    "application/vnd.databricks.v1+cell": {
     "cellMetadata": {
      "byteLimit": 2048000,
      "rowLimit": 10000
     },
     "inputWidgets": {},
     "nuid": "03907168-e720-4d69-a32b-a2cf8cf46153",
     "showTitle": false,
     "title": ""
    }
   },
   "outputs": [],
   "source": [
    "issue_description = issue_comment_data.select(\"payload.issue.labels.description\")"
   ]
  },
  {
   "cell_type": "code",
   "execution_count": 0,
   "metadata": {
    "application/vnd.databricks.v1+cell": {
     "cellMetadata": {
      "byteLimit": 2048000,
      "rowLimit": 10000
     },
     "inputWidgets": {},
     "nuid": "669f9189-a173-4b5f-9448-493ebc470023",
     "showTitle": false,
     "title": ""
    }
   },
   "outputs": [],
   "source": [
    "issue_description = issue_description.toPandas()"
   ]
  },
  {
   "cell_type": "code",
   "execution_count": 0,
   "metadata": {
    "application/vnd.databricks.v1+cell": {
     "cellMetadata": {
      "byteLimit": 2048000,
      "rowLimit": 10000
     },
     "inputWidgets": {},
     "nuid": "57301ab4-8106-4d17-bb23-15d09a5c26f6",
     "showTitle": false,
     "title": ""
    }
   },
   "outputs": [
    {
     "output_type": "stream",
     "name": "stdout",
     "output_type": "stream",
     "text": [
      "Out[169]: description    []\nName: 11, dtype: object"
     ]
    }
   ],
   "source": [
    "issue_description =  issue_description[issue_description['description'].str.len() > 0]"
   ]
  },
  {
   "cell_type": "code",
   "execution_count": 0,
   "metadata": {
    "application/vnd.databricks.v1+cell": {
     "cellMetadata": {
      "byteLimit": 2048000,
      "rowLimit": 10000
     },
     "inputWidgets": {},
     "nuid": "b4bc8c9b-0c06-466f-8831-0e850dce812a",
     "showTitle": false,
     "title": ""
    }
   },
   "outputs": [
    {
     "output_type": "display_data",
     "data": {
      "text/html": [
       "<div>\n",
       "<style scoped>\n",
       "    .dataframe tbody tr th:only-of-type {\n",
       "        vertical-align: middle;\n",
       "    }\n",
       "\n",
       "    .dataframe tbody tr th {\n",
       "        vertical-align: top;\n",
       "    }\n",
       "\n",
       "    .dataframe thead th {\n",
       "        text-align: right;\n",
       "    }\n",
       "</style>\n",
       "<table border=\"1\" class=\"dataframe\">\n",
       "  <thead>\n",
       "    <tr style=\"text-align: right;\">\n",
       "      <th></th>\n",
       "      <th>description</th>\n",
       "    </tr>\n",
       "  </thead>\n",
       "  <tbody>\n",
       "    <tr>\n",
       "      <th>2</th>\n",
       "      <td>[None]</td>\n",
       "    </tr>\n",
       "    <tr>\n",
       "      <th>3</th>\n",
       "      <td>[Pull requests that update a dependency file, ...</td>\n",
       "    </tr>\n",
       "    <tr>\n",
       "      <th>5</th>\n",
       "      <td>[Indicates that a PR should not merge because ...</td>\n",
       "    </tr>\n",
       "    <tr>\n",
       "      <th>6</th>\n",
       "      <td>[]</td>\n",
       "    </tr>\n",
       "    <tr>\n",
       "      <th>8</th>\n",
       "      <td>[Fix something that isn't working as intended,...</td>\n",
       "    </tr>\n",
       "    <tr>\n",
       "      <th>...</th>\n",
       "      <td>...</td>\n",
       "    </tr>\n",
       "    <tr>\n",
       "      <th>11050</th>\n",
       "      <td>[None, Stale PR or inactive for long period of...</td>\n",
       "    </tr>\n",
       "    <tr>\n",
       "      <th>11051</th>\n",
       "      <td>[, , ]</td>\n",
       "    </tr>\n",
       "    <tr>\n",
       "      <th>11052</th>\n",
       "      <td>[For miscellaneous bugs in the WebCore framewo...</td>\n",
       "    </tr>\n",
       "    <tr>\n",
       "      <th>11055</th>\n",
       "      <td>[None, None]</td>\n",
       "    </tr>\n",
       "    <tr>\n",
       "      <th>11058</th>\n",
       "      <td>[Good for newcomers, , ]</td>\n",
       "    </tr>\n",
       "  </tbody>\n",
       "</table>\n",
       "<p>5408 rows × 1 columns</p>\n",
       "</div>"
      ]
     },
     "metadata": {
      "application/vnd.databricks.v1+output": {
       "addedWidgets": {},
       "arguments": {},
       "data": "<div>\n<style scoped>\n    .dataframe tbody tr th:only-of-type {\n        vertical-align: middle;\n    }\n\n    .dataframe tbody tr th {\n        vertical-align: top;\n    }\n\n    .dataframe thead th {\n        text-align: right;\n    }\n</style>\n<table border=\"1\" class=\"dataframe\">\n  <thead>\n    <tr style=\"text-align: right;\">\n      <th></th>\n      <th>description</th>\n    </tr>\n  </thead>\n  <tbody>\n    <tr>\n      <th>2</th>\n      <td>[None]</td>\n    </tr>\n    <tr>\n      <th>3</th>\n      <td>[Pull requests that update a dependency file, ...</td>\n    </tr>\n    <tr>\n      <th>5</th>\n      <td>[Indicates that a PR should not merge because ...</td>\n    </tr>\n    <tr>\n      <th>6</th>\n      <td>[]</td>\n    </tr>\n    <tr>\n      <th>8</th>\n      <td>[Fix something that isn't working as intended,...</td>\n    </tr>\n    <tr>\n      <th>...</th>\n      <td>...</td>\n    </tr>\n    <tr>\n      <th>11050</th>\n      <td>[None, Stale PR or inactive for long period of...</td>\n    </tr>\n    <tr>\n      <th>11051</th>\n      <td>[, , ]</td>\n    </tr>\n    <tr>\n      <th>11052</th>\n      <td>[For miscellaneous bugs in the WebCore framewo...</td>\n    </tr>\n    <tr>\n      <th>11055</th>\n      <td>[None, None]</td>\n    </tr>\n    <tr>\n      <th>11058</th>\n      <td>[Good for newcomers, , ]</td>\n    </tr>\n  </tbody>\n</table>\n<p>5408 rows × 1 columns</p>\n</div>",
       "datasetInfos": [],
       "metadata": {},
       "removedWidgets": [],
       "textData": null,
       "type": "htmlSandbox"
      }
     },
     "output_type": "display_data"
    }
   ],
   "source": [
    "issue_description"
   ]
  },
  {
   "cell_type": "code",
   "execution_count": 0,
   "metadata": {
    "application/vnd.databricks.v1+cell": {
     "cellMetadata": {
      "byteLimit": 2048000,
      "rowLimit": 10000
     },
     "inputWidgets": {},
     "nuid": "45219f92-7de5-459a-8fa0-d936227bd354",
     "showTitle": false,
     "title": ""
    }
   },
   "outputs": [
    {
     "output_type": "stream",
     "name": "stdout",
     "output_type": "stream",
     "text": [
      "['Indicates that a PR should not merge because someone has issued a /hold command.'\n 'Indicates a PR has been approved by an approver from all required OWNERS files.']\n"
     ]
    }
   ],
   "source": [
    "k = issue_description.iloc[2]\n",
    "for i in k:\n",
    "    print(i) "
   ]
  },
  {
   "cell_type": "code",
   "execution_count": 0,
   "metadata": {
    "application/vnd.databricks.v1+cell": {
     "cellMetadata": {
      "byteLimit": 2048000,
      "rowLimit": 10000
     },
     "inputWidgets": {},
     "nuid": "2de81f47-fbba-436b-ad3c-7b2e6f948139",
     "showTitle": false,
     "title": ""
    }
   },
   "outputs": [
    {
     "output_type": "stream",
     "name": "stdout",
     "output_type": "stream",
     "text": [
      "+--------------------+--------------------+\n|         description|                name|\n+--------------------+--------------------+\n|                  []|                  []|\n|                  []|                  []|\n|              [null]|            [size/S]|\n|[Pull requests th...|[dependencies, ja...|\n|                  []|                  []|\n|[Indicates that a...|[do-not-merge/hol...|\n|                  []|[tests passed ple...|\n|                  []|                  []|\n|[Fix something th...|[Type: Bug, Regre...|\n|                  []|                  []|\n|              [null]|          [question]|\n|                  []|         [bot:build]|\n|                  []|                  []|\n|                  []|                  []|\n|[About the DIPima...|[component:DIPimage]|\n|                  []|         [bot:build]|\n|              [null]|  [waiting for data]|\n|[PRs that are mis...|[review:frontend,...|\n|              [null]|          [renovate]|\n|                  []|                  []|\n+--------------------+--------------------+\nonly showing top 20 rows\n\n"
     ]
    }
   ],
   "source": [
    "issue_comment.show()"
   ]
  },
  {
   "cell_type": "code",
   "execution_count": 0,
   "metadata": {
    "application/vnd.databricks.v1+cell": {
     "cellMetadata": {
      "byteLimit": 2048000,
      "rowLimit": 10000
     },
     "inputWidgets": {},
     "nuid": "76664d0c-9a8c-4f9b-89c7-72fc018c5548",
     "showTitle": false,
     "title": ""
    }
   },
   "outputs": [],
   "source": [
    "issue_comment = issue_comment.toPandas()"
   ]
  },
  {
   "cell_type": "code",
   "execution_count": 0,
   "metadata": {
    "application/vnd.databricks.v1+cell": {
     "cellMetadata": {
      "byteLimit": 2048000,
      "rowLimit": 10000
     },
     "inputWidgets": {},
     "nuid": "951d84bc-ca08-444d-9aa2-8184bbf9f9e3",
     "showTitle": false,
     "title": ""
    }
   },
   "outputs": [
    {
     "output_type": "display_data",
     "data": {
      "text/html": [
       "<div>\n",
       "<style scoped>\n",
       "    .dataframe tbody tr th:only-of-type {\n",
       "        vertical-align: middle;\n",
       "    }\n",
       "\n",
       "    .dataframe tbody tr th {\n",
       "        vertical-align: top;\n",
       "    }\n",
       "\n",
       "    .dataframe thead th {\n",
       "        text-align: right;\n",
       "    }\n",
       "</style>\n",
       "<table border=\"1\" class=\"dataframe\">\n",
       "  <thead>\n",
       "    <tr style=\"text-align: right;\">\n",
       "      <th></th>\n",
       "      <th>description</th>\n",
       "      <th>name</th>\n",
       "    </tr>\n",
       "  </thead>\n",
       "  <tbody>\n",
       "    <tr>\n",
       "      <th>0</th>\n",
       "      <td>[]</td>\n",
       "      <td>[]</td>\n",
       "    </tr>\n",
       "    <tr>\n",
       "      <th>1</th>\n",
       "      <td>[]</td>\n",
       "      <td>[]</td>\n",
       "    </tr>\n",
       "    <tr>\n",
       "      <th>2</th>\n",
       "      <td>[None]</td>\n",
       "      <td>[size/S]</td>\n",
       "    </tr>\n",
       "    <tr>\n",
       "      <th>3</th>\n",
       "      <td>[Pull requests that update a dependency file, ...</td>\n",
       "      <td>[dependencies, javascript]</td>\n",
       "    </tr>\n",
       "    <tr>\n",
       "      <th>4</th>\n",
       "      <td>[]</td>\n",
       "      <td>[]</td>\n",
       "    </tr>\n",
       "    <tr>\n",
       "      <th>...</th>\n",
       "      <td>...</td>\n",
       "      <td>...</td>\n",
       "    </tr>\n",
       "    <tr>\n",
       "      <th>11055</th>\n",
       "      <td>[None, None]</td>\n",
       "      <td>[.NET Core, Port to ipy3]</td>\n",
       "    </tr>\n",
       "    <tr>\n",
       "      <th>11056</th>\n",
       "      <td>[]</td>\n",
       "      <td>[]</td>\n",
       "    </tr>\n",
       "    <tr>\n",
       "      <th>11057</th>\n",
       "      <td>[]</td>\n",
       "      <td>[]</td>\n",
       "    </tr>\n",
       "    <tr>\n",
       "      <th>11058</th>\n",
       "      <td>[Good for newcomers, , ]</td>\n",
       "      <td>[good first issue, major, organization]</td>\n",
       "    </tr>\n",
       "    <tr>\n",
       "      <th>11059</th>\n",
       "      <td>[]</td>\n",
       "      <td>[]</td>\n",
       "    </tr>\n",
       "  </tbody>\n",
       "</table>\n",
       "<p>11060 rows × 2 columns</p>\n",
       "</div>"
      ]
     },
     "metadata": {
      "application/vnd.databricks.v1+output": {
       "addedWidgets": {},
       "arguments": {},
       "data": "<div>\n<style scoped>\n    .dataframe tbody tr th:only-of-type {\n        vertical-align: middle;\n    }\n\n    .dataframe tbody tr th {\n        vertical-align: top;\n    }\n\n    .dataframe thead th {\n        text-align: right;\n    }\n</style>\n<table border=\"1\" class=\"dataframe\">\n  <thead>\n    <tr style=\"text-align: right;\">\n      <th></th>\n      <th>description</th>\n      <th>name</th>\n    </tr>\n  </thead>\n  <tbody>\n    <tr>\n      <th>0</th>\n      <td>[]</td>\n      <td>[]</td>\n    </tr>\n    <tr>\n      <th>1</th>\n      <td>[]</td>\n      <td>[]</td>\n    </tr>\n    <tr>\n      <th>2</th>\n      <td>[None]</td>\n      <td>[size/S]</td>\n    </tr>\n    <tr>\n      <th>3</th>\n      <td>[Pull requests that update a dependency file, ...</td>\n      <td>[dependencies, javascript]</td>\n    </tr>\n    <tr>\n      <th>4</th>\n      <td>[]</td>\n      <td>[]</td>\n    </tr>\n    <tr>\n      <th>...</th>\n      <td>...</td>\n      <td>...</td>\n    </tr>\n    <tr>\n      <th>11055</th>\n      <td>[None, None]</td>\n      <td>[.NET Core, Port to ipy3]</td>\n    </tr>\n    <tr>\n      <th>11056</th>\n      <td>[]</td>\n      <td>[]</td>\n    </tr>\n    <tr>\n      <th>11057</th>\n      <td>[]</td>\n      <td>[]</td>\n    </tr>\n    <tr>\n      <th>11058</th>\n      <td>[Good for newcomers, , ]</td>\n      <td>[good first issue, major, organization]</td>\n    </tr>\n    <tr>\n      <th>11059</th>\n      <td>[]</td>\n      <td>[]</td>\n    </tr>\n  </tbody>\n</table>\n<p>11060 rows × 2 columns</p>\n</div>",
       "datasetInfos": [],
       "metadata": {},
       "removedWidgets": [],
       "textData": null,
       "type": "htmlSandbox"
      }
     },
     "output_type": "display_data"
    }
   ],
   "source": [
    "issue_comment"
   ]
  },
  {
   "cell_type": "code",
   "execution_count": 0,
   "metadata": {
    "application/vnd.databricks.v1+cell": {
     "cellMetadata": {
      "byteLimit": 2048000,
      "rowLimit": 10000
     },
     "inputWidgets": {},
     "nuid": "fd803cfd-a6c1-40b3-8a29-c15df426aef0",
     "showTitle": false,
     "title": ""
    }
   },
   "outputs": [],
   "source": [
    "issue_comment_pd = issue_comment[issue_comment['description'].apply(lambda x: len(x) > 0)]"
   ]
  },
  {
   "cell_type": "code",
   "execution_count": 0,
   "metadata": {
    "application/vnd.databricks.v1+cell": {
     "cellMetadata": {
      "byteLimit": 2048000,
      "rowLimit": 10000
     },
     "inputWidgets": {},
     "nuid": "0f9a5b30-d261-4bc4-83fc-a586baaaf518",
     "showTitle": false,
     "title": ""
    }
   },
   "outputs": [
    {
     "output_type": "display_data",
     "data": {
      "text/html": [
       "<div>\n",
       "<style scoped>\n",
       "    .dataframe tbody tr th:only-of-type {\n",
       "        vertical-align: middle;\n",
       "    }\n",
       "\n",
       "    .dataframe tbody tr th {\n",
       "        vertical-align: top;\n",
       "    }\n",
       "\n",
       "    .dataframe thead th {\n",
       "        text-align: right;\n",
       "    }\n",
       "</style>\n",
       "<table border=\"1\" class=\"dataframe\">\n",
       "  <thead>\n",
       "    <tr style=\"text-align: right;\">\n",
       "      <th></th>\n",
       "      <th>description</th>\n",
       "      <th>name</th>\n",
       "    </tr>\n",
       "  </thead>\n",
       "  <tbody>\n",
       "    <tr>\n",
       "      <th>2</th>\n",
       "      <td>[None]</td>\n",
       "      <td>[size/S]</td>\n",
       "    </tr>\n",
       "    <tr>\n",
       "      <th>3</th>\n",
       "      <td>[Pull requests that update a dependency file, ...</td>\n",
       "      <td>[dependencies, javascript]</td>\n",
       "    </tr>\n",
       "    <tr>\n",
       "      <th>5</th>\n",
       "      <td>[Indicates that a PR should not merge because ...</td>\n",
       "      <td>[do-not-merge/hold, approved]</td>\n",
       "    </tr>\n",
       "    <tr>\n",
       "      <th>6</th>\n",
       "      <td>[]</td>\n",
       "      <td>[tests passed please review!]</td>\n",
       "    </tr>\n",
       "    <tr>\n",
       "      <th>8</th>\n",
       "      <td>[Fix something that isn't working as intended,...</td>\n",
       "      <td>[Type: Bug, Regression, Affects: 4.1.0]</td>\n",
       "    </tr>\n",
       "    <tr>\n",
       "      <th>...</th>\n",
       "      <td>...</td>\n",
       "      <td>...</td>\n",
       "    </tr>\n",
       "    <tr>\n",
       "      <th>11050</th>\n",
       "      <td>[None, Stale PR or inactive for long period of...</td>\n",
       "      <td>[awaiting core review, stale]</td>\n",
       "    </tr>\n",
       "    <tr>\n",
       "      <th>11051</th>\n",
       "      <td>[, , ]</td>\n",
       "      <td>[MV3, team-extension-client, team-extension-pl...</td>\n",
       "    </tr>\n",
       "    <tr>\n",
       "      <th>11052</th>\n",
       "      <td>[For miscellaneous bugs in the WebCore framewo...</td>\n",
       "      <td>[WebCore Misc., request-merge-queue]</td>\n",
       "    </tr>\n",
       "    <tr>\n",
       "      <th>11055</th>\n",
       "      <td>[None, None]</td>\n",
       "      <td>[.NET Core, Port to ipy3]</td>\n",
       "    </tr>\n",
       "    <tr>\n",
       "      <th>11058</th>\n",
       "      <td>[Good for newcomers, , ]</td>\n",
       "      <td>[good first issue, major, organization]</td>\n",
       "    </tr>\n",
       "  </tbody>\n",
       "</table>\n",
       "<p>5408 rows × 2 columns</p>\n",
       "</div>"
      ]
     },
     "metadata": {
      "application/vnd.databricks.v1+output": {
       "addedWidgets": {},
       "arguments": {},
       "data": "<div>\n<style scoped>\n    .dataframe tbody tr th:only-of-type {\n        vertical-align: middle;\n    }\n\n    .dataframe tbody tr th {\n        vertical-align: top;\n    }\n\n    .dataframe thead th {\n        text-align: right;\n    }\n</style>\n<table border=\"1\" class=\"dataframe\">\n  <thead>\n    <tr style=\"text-align: right;\">\n      <th></th>\n      <th>description</th>\n      <th>name</th>\n    </tr>\n  </thead>\n  <tbody>\n    <tr>\n      <th>2</th>\n      <td>[None]</td>\n      <td>[size/S]</td>\n    </tr>\n    <tr>\n      <th>3</th>\n      <td>[Pull requests that update a dependency file, ...</td>\n      <td>[dependencies, javascript]</td>\n    </tr>\n    <tr>\n      <th>5</th>\n      <td>[Indicates that a PR should not merge because ...</td>\n      <td>[do-not-merge/hold, approved]</td>\n    </tr>\n    <tr>\n      <th>6</th>\n      <td>[]</td>\n      <td>[tests passed please review!]</td>\n    </tr>\n    <tr>\n      <th>8</th>\n      <td>[Fix something that isn't working as intended,...</td>\n      <td>[Type: Bug, Regression, Affects: 4.1.0]</td>\n    </tr>\n    <tr>\n      <th>...</th>\n      <td>...</td>\n      <td>...</td>\n    </tr>\n    <tr>\n      <th>11050</th>\n      <td>[None, Stale PR or inactive for long period of...</td>\n      <td>[awaiting core review, stale]</td>\n    </tr>\n    <tr>\n      <th>11051</th>\n      <td>[, , ]</td>\n      <td>[MV3, team-extension-client, team-extension-pl...</td>\n    </tr>\n    <tr>\n      <th>11052</th>\n      <td>[For miscellaneous bugs in the WebCore framewo...</td>\n      <td>[WebCore Misc., request-merge-queue]</td>\n    </tr>\n    <tr>\n      <th>11055</th>\n      <td>[None, None]</td>\n      <td>[.NET Core, Port to ipy3]</td>\n    </tr>\n    <tr>\n      <th>11058</th>\n      <td>[Good for newcomers, , ]</td>\n      <td>[good first issue, major, organization]</td>\n    </tr>\n  </tbody>\n</table>\n<p>5408 rows × 2 columns</p>\n</div>",
       "datasetInfos": [],
       "metadata": {},
       "removedWidgets": [],
       "textData": null,
       "type": "htmlSandbox"
      }
     },
     "output_type": "display_data"
    }
   ],
   "source": [
    "issue_comment_pd"
   ]
  },
  {
   "cell_type": "code",
   "execution_count": 0,
   "metadata": {
    "application/vnd.databricks.v1+cell": {
     "cellMetadata": {
      "byteLimit": 2048000,
      "rowLimit": 10000
     },
     "inputWidgets": {},
     "nuid": "146f8753-16e8-4d15-889f-56ef0f47de44",
     "showTitle": false,
     "title": ""
    }
   },
   "outputs": [
    {
     "output_type": "display_data",
     "data": {
      "text/html": [
       "<div>\n",
       "<style scoped>\n",
       "    .dataframe tbody tr th:only-of-type {\n",
       "        vertical-align: middle;\n",
       "    }\n",
       "\n",
       "    .dataframe tbody tr th {\n",
       "        vertical-align: top;\n",
       "    }\n",
       "\n",
       "    .dataframe thead th {\n",
       "        text-align: right;\n",
       "    }\n",
       "</style>\n",
       "<table border=\"1\" class=\"dataframe\">\n",
       "  <thead>\n",
       "    <tr style=\"text-align: right;\">\n",
       "      <th></th>\n",
       "      <th>description</th>\n",
       "      <th>name</th>\n",
       "    </tr>\n",
       "  </thead>\n",
       "  <tbody>\n",
       "    <tr>\n",
       "      <th>0</th>\n",
       "      <td>[New update to Polygon Edge]</td>\n",
       "      <td>[feature]</td>\n",
       "    </tr>\n",
       "    <tr>\n",
       "      <th>4</th>\n",
       "      <td>[PR changes related to source code., PRs relat...</td>\n",
       "      <td>[src, data]</td>\n",
       "    </tr>\n",
       "    <tr>\n",
       "      <th>5</th>\n",
       "      <td>[]</td>\n",
       "      <td>[Dependencies]</td>\n",
       "    </tr>\n",
       "    <tr>\n",
       "      <th>10</th>\n",
       "      <td>[New update to Polygon Edge]</td>\n",
       "      <td>[feature]</td>\n",
       "    </tr>\n",
       "    <tr>\n",
       "      <th>12</th>\n",
       "      <td>[New update to Polygon Edge]</td>\n",
       "      <td>[feature]</td>\n",
       "    </tr>\n",
       "    <tr>\n",
       "      <th>...</th>\n",
       "      <td>...</td>\n",
       "      <td>...</td>\n",
       "    </tr>\n",
       "    <tr>\n",
       "      <th>7122</th>\n",
       "      <td>[, Skip backport of PR, Skip including change ...</td>\n",
       "      <td>[area/backend, no-backport, no-changelog]</td>\n",
       "    </tr>\n",
       "    <tr>\n",
       "      <th>7123</th>\n",
       "      <td>[Pull requests that update a dependency file]</td>\n",
       "      <td>[dependencies]</td>\n",
       "    </tr>\n",
       "    <tr>\n",
       "      <th>7127</th>\n",
       "      <td>[Pull requests that update a dependency file, ...</td>\n",
       "      <td>[dependencies, javascript]</td>\n",
       "    </tr>\n",
       "    <tr>\n",
       "      <th>7128</th>\n",
       "      <td>[Improvements or additions to documentation, N...</td>\n",
       "      <td>[documentation, enhancement, backend]</td>\n",
       "    </tr>\n",
       "    <tr>\n",
       "      <th>7133</th>\n",
       "      <td>[Related to semantic conventions, Related to t...</td>\n",
       "      <td>[area:semantic-conventions, spec:trace, semcon...</td>\n",
       "    </tr>\n",
       "  </tbody>\n",
       "</table>\n",
       "<p>2329 rows × 2 columns</p>\n",
       "</div>"
      ]
     },
     "metadata": {
      "application/vnd.databricks.v1+output": {
       "addedWidgets": {},
       "arguments": {},
       "data": "<div>\n<style scoped>\n    .dataframe tbody tr th:only-of-type {\n        vertical-align: middle;\n    }\n\n    .dataframe tbody tr th {\n        vertical-align: top;\n    }\n\n    .dataframe thead th {\n        text-align: right;\n    }\n</style>\n<table border=\"1\" class=\"dataframe\">\n  <thead>\n    <tr style=\"text-align: right;\">\n      <th></th>\n      <th>description</th>\n      <th>name</th>\n    </tr>\n  </thead>\n  <tbody>\n    <tr>\n      <th>0</th>\n      <td>[New update to Polygon Edge]</td>\n      <td>[feature]</td>\n    </tr>\n    <tr>\n      <th>4</th>\n      <td>[PR changes related to source code., PRs relat...</td>\n      <td>[src, data]</td>\n    </tr>\n    <tr>\n      <th>5</th>\n      <td>[]</td>\n      <td>[Dependencies]</td>\n    </tr>\n    <tr>\n      <th>10</th>\n      <td>[New update to Polygon Edge]</td>\n      <td>[feature]</td>\n    </tr>\n    <tr>\n      <th>12</th>\n      <td>[New update to Polygon Edge]</td>\n      <td>[feature]</td>\n    </tr>\n    <tr>\n      <th>...</th>\n      <td>...</td>\n      <td>...</td>\n    </tr>\n    <tr>\n      <th>7122</th>\n      <td>[, Skip backport of PR, Skip including change ...</td>\n      <td>[area/backend, no-backport, no-changelog]</td>\n    </tr>\n    <tr>\n      <th>7123</th>\n      <td>[Pull requests that update a dependency file]</td>\n      <td>[dependencies]</td>\n    </tr>\n    <tr>\n      <th>7127</th>\n      <td>[Pull requests that update a dependency file, ...</td>\n      <td>[dependencies, javascript]</td>\n    </tr>\n    <tr>\n      <th>7128</th>\n      <td>[Improvements or additions to documentation, N...</td>\n      <td>[documentation, enhancement, backend]</td>\n    </tr>\n    <tr>\n      <th>7133</th>\n      <td>[Related to semantic conventions, Related to t...</td>\n      <td>[area:semantic-conventions, spec:trace, semcon...</td>\n    </tr>\n  </tbody>\n</table>\n<p>2329 rows × 2 columns</p>\n</div>",
       "datasetInfos": [],
       "metadata": {},
       "removedWidgets": [],
       "textData": null,
       "type": "htmlSandbox"
      }
     },
     "output_type": "display_data"
    }
   ],
   "source": [
    "pull_issues_pd"
   ]
  },
  {
   "cell_type": "code",
   "execution_count": 0,
   "metadata": {
    "application/vnd.databricks.v1+cell": {
     "cellMetadata": {
      "byteLimit": 2048000,
      "rowLimit": 10000
     },
     "inputWidgets": {},
     "nuid": "e6a442db-667b-4e3b-a0d9-3e312fc16503",
     "showTitle": false,
     "title": ""
    }
   },
   "outputs": [
    {
     "output_type": "display_data",
     "data": {
      "text/html": [
       "<div>\n",
       "<style scoped>\n",
       "    .dataframe tbody tr th:only-of-type {\n",
       "        vertical-align: middle;\n",
       "    }\n",
       "\n",
       "    .dataframe tbody tr th {\n",
       "        vertical-align: top;\n",
       "    }\n",
       "\n",
       "    .dataframe thead th {\n",
       "        text-align: right;\n",
       "    }\n",
       "</style>\n",
       "<table border=\"1\" class=\"dataframe\">\n",
       "  <thead>\n",
       "    <tr style=\"text-align: right;\">\n",
       "      <th></th>\n",
       "      <th>description</th>\n",
       "      <th>name</th>\n",
       "    </tr>\n",
       "  </thead>\n",
       "  <tbody>\n",
       "    <tr>\n",
       "      <th>2</th>\n",
       "      <td>[Pull requests that update Javascript code]</td>\n",
       "      <td>[javascript]</td>\n",
       "    </tr>\n",
       "    <tr>\n",
       "      <th>4</th>\n",
       "      <td>[New syntax feature or behavior, Ongoing conve...</td>\n",
       "      <td>[feature, discussion, core]</td>\n",
       "    </tr>\n",
       "    <tr>\n",
       "      <th>5</th>\n",
       "      <td>[None, None, None]</td>\n",
       "      <td>[T: Annoyance, P4: Low, N: AdGuard Browser Ext...</td>\n",
       "    </tr>\n",
       "    <tr>\n",
       "      <th>6</th>\n",
       "      <td>[]</td>\n",
       "      <td>[CI/CD]</td>\n",
       "    </tr>\n",
       "    <tr>\n",
       "      <th>8</th>\n",
       "      <td>[, Velocity rating (Fibonacci)]</td>\n",
       "      <td>[type: support :sos:, [2]]</td>\n",
       "    </tr>\n",
       "    <tr>\n",
       "      <th>...</th>\n",
       "      <td>...</td>\n",
       "      <td>...</td>\n",
       "    </tr>\n",
       "    <tr>\n",
       "      <th>4390</th>\n",
       "      <td>[None, None]</td>\n",
       "      <td>[status, nostr-relay-wss-nostr-oxtr-dev]</td>\n",
       "    </tr>\n",
       "    <tr>\n",
       "      <th>4393</th>\n",
       "      <td>[Issues and pull requests that haven't been re...</td>\n",
       "      <td>[review required]</td>\n",
       "    </tr>\n",
       "    <tr>\n",
       "      <th>4395</th>\n",
       "      <td>[None]</td>\n",
       "      <td>[watchout]</td>\n",
       "    </tr>\n",
       "    <tr>\n",
       "      <th>4396</th>\n",
       "      <td>[Something isn't working, ]</td>\n",
       "      <td>[bug, frontend]</td>\n",
       "    </tr>\n",
       "    <tr>\n",
       "      <th>4397</th>\n",
       "      <td>[This doesn't seem right]</td>\n",
       "      <td>[invalid]</td>\n",
       "    </tr>\n",
       "  </tbody>\n",
       "</table>\n",
       "<p>1874 rows × 2 columns</p>\n",
       "</div>"
      ]
     },
     "metadata": {
      "application/vnd.databricks.v1+output": {
       "addedWidgets": {},
       "arguments": {},
       "data": "<div>\n<style scoped>\n    .dataframe tbody tr th:only-of-type {\n        vertical-align: middle;\n    }\n\n    .dataframe tbody tr th {\n        vertical-align: top;\n    }\n\n    .dataframe thead th {\n        text-align: right;\n    }\n</style>\n<table border=\"1\" class=\"dataframe\">\n  <thead>\n    <tr style=\"text-align: right;\">\n      <th></th>\n      <th>description</th>\n      <th>name</th>\n    </tr>\n  </thead>\n  <tbody>\n    <tr>\n      <th>2</th>\n      <td>[Pull requests that update Javascript code]</td>\n      <td>[javascript]</td>\n    </tr>\n    <tr>\n      <th>4</th>\n      <td>[New syntax feature or behavior, Ongoing conve...</td>\n      <td>[feature, discussion, core]</td>\n    </tr>\n    <tr>\n      <th>5</th>\n      <td>[None, None, None]</td>\n      <td>[T: Annoyance, P4: Low, N: AdGuard Browser Ext...</td>\n    </tr>\n    <tr>\n      <th>6</th>\n      <td>[]</td>\n      <td>[CI/CD]</td>\n    </tr>\n    <tr>\n      <th>8</th>\n      <td>[, Velocity rating (Fibonacci)]</td>\n      <td>[type: support :sos:, [2]]</td>\n    </tr>\n    <tr>\n      <th>...</th>\n      <td>...</td>\n      <td>...</td>\n    </tr>\n    <tr>\n      <th>4390</th>\n      <td>[None, None]</td>\n      <td>[status, nostr-relay-wss-nostr-oxtr-dev]</td>\n    </tr>\n    <tr>\n      <th>4393</th>\n      <td>[Issues and pull requests that haven't been re...</td>\n      <td>[review required]</td>\n    </tr>\n    <tr>\n      <th>4395</th>\n      <td>[None]</td>\n      <td>[watchout]</td>\n    </tr>\n    <tr>\n      <th>4396</th>\n      <td>[Something isn't working, ]</td>\n      <td>[bug, frontend]</td>\n    </tr>\n    <tr>\n      <th>4397</th>\n      <td>[This doesn't seem right]</td>\n      <td>[invalid]</td>\n    </tr>\n  </tbody>\n</table>\n<p>1874 rows × 2 columns</p>\n</div>",
       "datasetInfos": [],
       "metadata": {},
       "removedWidgets": [],
       "textData": null,
       "type": "htmlSandbox"
      }
     },
     "output_type": "display_data"
    }
   ],
   "source": [
    "all_issues_pd"
   ]
  },
  {
   "cell_type": "code",
   "execution_count": 0,
   "metadata": {
    "application/vnd.databricks.v1+cell": {
     "cellMetadata": {
      "byteLimit": 2048000,
      "rowLimit": 10000
     },
     "inputWidgets": {},
     "nuid": "1069d00b-af42-47a3-84d5-df74438378af",
     "showTitle": false,
     "title": ""
    }
   },
   "outputs": [
    {
     "output_type": "display_data",
     "data": {
      "text/html": [
       "<div>\n",
       "<style scoped>\n",
       "    .dataframe tbody tr th:only-of-type {\n",
       "        vertical-align: middle;\n",
       "    }\n",
       "\n",
       "    .dataframe tbody tr th {\n",
       "        vertical-align: top;\n",
       "    }\n",
       "\n",
       "    .dataframe thead th {\n",
       "        text-align: right;\n",
       "    }\n",
       "</style>\n",
       "<table border=\"1\" class=\"dataframe\">\n",
       "  <thead>\n",
       "    <tr style=\"text-align: right;\">\n",
       "      <th></th>\n",
       "      <th>description</th>\n",
       "      <th>name</th>\n",
       "    </tr>\n",
       "  </thead>\n",
       "  <tbody>\n",
       "    <tr>\n",
       "      <th>2</th>\n",
       "      <td>[Pull requests that update Javascript code]</td>\n",
       "      <td>[javascript]</td>\n",
       "    </tr>\n",
       "    <tr>\n",
       "      <th>4</th>\n",
       "      <td>[New syntax feature or behavior, Ongoing conve...</td>\n",
       "      <td>[feature, discussion, core]</td>\n",
       "    </tr>\n",
       "    <tr>\n",
       "      <th>5</th>\n",
       "      <td>[None, None, None]</td>\n",
       "      <td>[T: Annoyance, P4: Low, N: AdGuard Browser Ext...</td>\n",
       "    </tr>\n",
       "    <tr>\n",
       "      <th>6</th>\n",
       "      <td>[]</td>\n",
       "      <td>[CI/CD]</td>\n",
       "    </tr>\n",
       "    <tr>\n",
       "      <th>8</th>\n",
       "      <td>[, Velocity rating (Fibonacci)]</td>\n",
       "      <td>[type: support :sos:, [2]]</td>\n",
       "    </tr>\n",
       "    <tr>\n",
       "      <th>...</th>\n",
       "      <td>...</td>\n",
       "      <td>...</td>\n",
       "    </tr>\n",
       "    <tr>\n",
       "      <th>11050</th>\n",
       "      <td>[None, Stale PR or inactive for long period of...</td>\n",
       "      <td>[awaiting core review, stale]</td>\n",
       "    </tr>\n",
       "    <tr>\n",
       "      <th>11051</th>\n",
       "      <td>[, , ]</td>\n",
       "      <td>[MV3, team-extension-client, team-extension-pl...</td>\n",
       "    </tr>\n",
       "    <tr>\n",
       "      <th>11052</th>\n",
       "      <td>[For miscellaneous bugs in the WebCore framewo...</td>\n",
       "      <td>[WebCore Misc., request-merge-queue]</td>\n",
       "    </tr>\n",
       "    <tr>\n",
       "      <th>11055</th>\n",
       "      <td>[None, None]</td>\n",
       "      <td>[.NET Core, Port to ipy3]</td>\n",
       "    </tr>\n",
       "    <tr>\n",
       "      <th>11058</th>\n",
       "      <td>[Good for newcomers, , ]</td>\n",
       "      <td>[good first issue, major, organization]</td>\n",
       "    </tr>\n",
       "  </tbody>\n",
       "</table>\n",
       "<p>9611 rows × 2 columns</p>\n",
       "</div>"
      ]
     },
     "metadata": {
      "application/vnd.databricks.v1+output": {
       "addedWidgets": {},
       "arguments": {},
       "data": "<div>\n<style scoped>\n    .dataframe tbody tr th:only-of-type {\n        vertical-align: middle;\n    }\n\n    .dataframe tbody tr th {\n        vertical-align: top;\n    }\n\n    .dataframe thead th {\n        text-align: right;\n    }\n</style>\n<table border=\"1\" class=\"dataframe\">\n  <thead>\n    <tr style=\"text-align: right;\">\n      <th></th>\n      <th>description</th>\n      <th>name</th>\n    </tr>\n  </thead>\n  <tbody>\n    <tr>\n      <th>2</th>\n      <td>[Pull requests that update Javascript code]</td>\n      <td>[javascript]</td>\n    </tr>\n    <tr>\n      <th>4</th>\n      <td>[New syntax feature or behavior, Ongoing conve...</td>\n      <td>[feature, discussion, core]</td>\n    </tr>\n    <tr>\n      <th>5</th>\n      <td>[None, None, None]</td>\n      <td>[T: Annoyance, P4: Low, N: AdGuard Browser Ext...</td>\n    </tr>\n    <tr>\n      <th>6</th>\n      <td>[]</td>\n      <td>[CI/CD]</td>\n    </tr>\n    <tr>\n      <th>8</th>\n      <td>[, Velocity rating (Fibonacci)]</td>\n      <td>[type: support :sos:, [2]]</td>\n    </tr>\n    <tr>\n      <th>...</th>\n      <td>...</td>\n      <td>...</td>\n    </tr>\n    <tr>\n      <th>11050</th>\n      <td>[None, Stale PR or inactive for long period of...</td>\n      <td>[awaiting core review, stale]</td>\n    </tr>\n    <tr>\n      <th>11051</th>\n      <td>[, , ]</td>\n      <td>[MV3, team-extension-client, team-extension-pl...</td>\n    </tr>\n    <tr>\n      <th>11052</th>\n      <td>[For miscellaneous bugs in the WebCore framewo...</td>\n      <td>[WebCore Misc., request-merge-queue]</td>\n    </tr>\n    <tr>\n      <th>11055</th>\n      <td>[None, None]</td>\n      <td>[.NET Core, Port to ipy3]</td>\n    </tr>\n    <tr>\n      <th>11058</th>\n      <td>[Good for newcomers, , ]</td>\n      <td>[good first issue, major, organization]</td>\n    </tr>\n  </tbody>\n</table>\n<p>9611 rows × 2 columns</p>\n</div>",
       "datasetInfos": [],
       "metadata": {},
       "removedWidgets": [],
       "textData": null,
       "type": "htmlSandbox"
      }
     },
     "output_type": "display_data"
    }
   ],
   "source": [
    "labeled_data = pd.concat([all_issues_pd, pull_issues_pd,issue_comment_pd], axis = 0)\n",
    "labeled_data"
   ]
  },
  {
   "cell_type": "code",
   "execution_count": 0,
   "metadata": {
    "application/vnd.databricks.v1+cell": {
     "cellMetadata": {
      "byteLimit": 2048000,
      "rowLimit": 10000
     },
     "inputWidgets": {},
     "nuid": "95a040ba-f5f6-4496-9017-6675a11127b8",
     "showTitle": false,
     "title": ""
    }
   },
   "outputs": [],
   "source": [
    "new_table = pd.DataFrame(columns = ['description','name'])"
   ]
  },
  {
   "cell_type": "code",
   "execution_count": 0,
   "metadata": {
    "application/vnd.databricks.v1+cell": {
     "cellMetadata": {
      "byteLimit": 2048000,
      "rowLimit": 10000
     },
     "inputWidgets": {},
     "nuid": "c0d42c49-a336-4106-9181-f1e37a4e2236",
     "showTitle": false,
     "title": ""
    }
   },
   "outputs": [],
   "source": [
    "def zipp(x,y):\n",
    "    d = zip(x,y)\n",
    "    return d"
   ]
  },
  {
   "cell_type": "code",
   "execution_count": 0,
   "metadata": {
    "application/vnd.databricks.v1+cell": {
     "cellMetadata": {
      "byteLimit": 2048000,
      "rowLimit": 10000
     },
     "inputWidgets": {},
     "nuid": "56c0e9c8-2bcb-4df0-8272-81277841fcfa",
     "showTitle": false,
     "title": ""
    }
   },
   "outputs": [
    {
     "output_type": "stream",
     "name": "stderr",
     "output_type": "stream",
     "text": [
      "<command-2083335519339946>:6: FutureWarning: The frame.append method is deprecated and will be removed from pandas in a future version. Use pandas.concat instead.\n  new_table = new_table.append({'description': v, 'name': v1}, ignore_index=True)\n<command-2083335519339946>:6: FutureWarning: The frame.append method is deprecated and will be removed from pandas in a future version. Use pandas.concat instead.\n  new_table = new_table.append({'description': v, 'name': v1}, ignore_index=True)\n<command-2083335519339946>:6: FutureWarning: The frame.append method is deprecated and will be removed from pandas in a future version. Use pandas.concat instead.\n  new_table = new_table.append({'description': v, 'name': v1}, ignore_index=True)\n<command-2083335519339946>:6: FutureWarning: The frame.append method is deprecated and will be removed from pandas in a future version. Use pandas.concat instead.\n  new_table = new_table.append({'description': v, 'name': v1}, ignore_index=True)\n<command-2083335519339946>:6: FutureWarning: The frame.append method is deprecated and will be removed from pandas in a future version. Use pandas.concat instead.\n  new_table = new_table.append({'description': v, 'name': v1}, ignore_index=True)\n<command-2083335519339946>:6: FutureWarning: The frame.append method is deprecated and will be removed from pandas in a future version. Use pandas.concat instead.\n  new_table = new_table.append({'description': v, 'name': v1}, ignore_index=True)\n<command-2083335519339946>:6: FutureWarning: The frame.append method is deprecated and will be removed from pandas in a future version. Use pandas.concat instead.\n  new_table = new_table.append({'description': v, 'name': v1}, ignore_index=True)\n<command-2083335519339946>:6: FutureWarning: The frame.append method is deprecated and will be removed from pandas in a future version. Use pandas.concat instead.\n  new_table = new_table.append({'description': v, 'name': v1}, ignore_index=True)\n<command-2083335519339946>:6: FutureWarning: The frame.append method is deprecated and will be removed from pandas in a future version. Use pandas.concat instead.\n  new_table = new_table.append({'description': v, 'name': v1}, ignore_index=True)\n<command-2083335519339946>:6: FutureWarning: The frame.append method is deprecated and will be removed from pandas in a future version. Use pandas.concat instead.\n  new_table = new_table.append({'description': v, 'name': v1}, ignore_index=True)\n<command-2083335519339946>:6: FutureWarning: The frame.append method is deprecated and will be removed from pandas in a future version. Use pandas.concat instead.\n  new_table = new_table.append({'description': v, 'name': v1}, ignore_index=True)\n<command-2083335519339946>:6: FutureWarning: The frame.append method is deprecated and will be removed from pandas in a future version. Use pandas.concat instead.\n  new_table = new_table.append({'description': v, 'name': v1}, ignore_index=True)\n<command-2083335519339946>:6: FutureWarning: The frame.append method is deprecated and will be removed from pandas in a future version. Use pandas.concat instead.\n  new_table = new_table.append({'description': v, 'name': v1}, ignore_index=True)\n<command-2083335519339946>:6: FutureWarning: The frame.append method is deprecated and will be removed from pandas in a future version. Use pandas.concat instead.\n  new_table = new_table.append({'description': v, 'name': v1}, ignore_index=True)\n<command-2083335519339946>:6: FutureWarning: The frame.append method is deprecated and will be removed from pandas in a future version. Use pandas.concat instead.\n  new_table = new_table.append({'description': v, 'name': v1}, ignore_index=True)\n<command-2083335519339946>:6: FutureWarning: The frame.append method is deprecated and will be removed from pandas in a future version. Use pandas.concat instead.\n  new_table = new_table.append({'description': v, 'name': v1}, ignore_index=True)\n<command-2083335519339946>:6: FutureWarning: The frame.append method is deprecated and will be removed from pandas in a future version. Use pandas.concat instead.\n  new_table = new_table.append({'description': v, 'name': v1}, ignore_index=True)\n<command-2083335519339946>:6: FutureWarning: The frame.append method is deprecated and will be removed from pandas in a future version. Use pandas.concat instead.\n  new_table = new_table.append({'description': v, 'name': v1}, ignore_index=True)\n"
     ]
    }
   ],
   "source": [
    "for i in range(10): #explode \n",
    "    k = zipp(labeled_data['description'].iloc[i],labeled_data['name'].iloc[i])\n",
    "    for m,n in k:\n",
    "        v = m\n",
    "        v1 = n\n",
    "        new_table = new_table.append({'description': v, 'name': v1}, ignore_index=True)\n"
   ]
  },
  {
   "cell_type": "code",
   "execution_count": 0,
   "metadata": {
    "application/vnd.databricks.v1+cell": {
     "cellMetadata": {
      "byteLimit": 2048000,
      "rowLimit": 10000
     },
     "inputWidgets": {},
     "nuid": "f2111d2e-0c30-4a66-a25e-3bad7a0ab1ed",
     "showTitle": false,
     "title": ""
    }
   },
   "outputs": [
    {
     "output_type": "stream",
     "name": "stdout",
     "output_type": "stream",
     "text": [
      "Out[261]: [bug]                                      591\n[dependencies]                             542\n[enhancement]                              456\n[zhihu]                                     91\n[documentation]                             88\n                                          ... \n[type:enhancement, semver:minor]             1\n[data, mods]                                 1\n[md]                                         1\n[Wallet, RPC/REST/ZMQ]                       1\n[good first issue, major, organization]      1\nName: name, Length: 6210, dtype: int64"
     ]
    }
   ],
   "source": [
    "labeled_data['name'].value_counts()"
   ]
  },
  {
   "cell_type": "code",
   "execution_count": 0,
   "metadata": {
    "application/vnd.databricks.v1+cell": {
     "cellMetadata": {
      "byteLimit": 2048000,
      "rowLimit": 10000
     },
     "inputWidgets": {},
     "nuid": "01a8175b-09cf-4f44-af65-2095e375d97a",
     "showTitle": false,
     "title": ""
    }
   },
   "outputs": [
    {
     "output_type": "stream",
     "name": "stdout",
     "output_type": "stream",
     "text": [
      "New syntax feature or behavior - feature\nOngoing conversation - discussion\nProcessing and transforming logic - core\n"
     ]
    }
   ],
   "source": [
    "des = labeled_data['description'].iloc[1]\n",
    "name = labeled_data['name'].iloc[1]\n",
    "row = zip(des,name)\n",
    "for i,j in row:\n",
    "    print(i,'-',j)"
   ]
  },
  {
   "cell_type": "code",
   "execution_count": 0,
   "metadata": {
    "application/vnd.databricks.v1+cell": {
     "cellMetadata": {
      "byteLimit": 2048000,
      "rowLimit": 10000
     },
     "inputWidgets": {},
     "nuid": "b9479733-57ee-4216-8699-c4de52b06986",
     "showTitle": false,
     "title": ""
    }
   },
   "outputs": [
    {
     "output_type": "display_data",
     "data": {
      "text/html": [
       "<div>\n",
       "<style scoped>\n",
       "    .dataframe tbody tr th:only-of-type {\n",
       "        vertical-align: middle;\n",
       "    }\n",
       "\n",
       "    .dataframe tbody tr th {\n",
       "        vertical-align: top;\n",
       "    }\n",
       "\n",
       "    .dataframe thead th {\n",
       "        text-align: right;\n",
       "    }\n",
       "</style>\n",
       "<table border=\"1\" class=\"dataframe\">\n",
       "  <thead>\n",
       "    <tr style=\"text-align: right;\">\n",
       "      <th></th>\n",
       "      <th>description</th>\n",
       "      <th>name</th>\n",
       "    </tr>\n",
       "  </thead>\n",
       "  <tbody>\n",
       "    <tr>\n",
       "      <th>0</th>\n",
       "      <td>Pull requests that update Javascript code</td>\n",
       "      <td>javascript</td>\n",
       "    </tr>\n",
       "    <tr>\n",
       "      <th>1</th>\n",
       "      <td>New syntax feature or behavior</td>\n",
       "      <td>feature</td>\n",
       "    </tr>\n",
       "    <tr>\n",
       "      <th>2</th>\n",
       "      <td>Ongoing conversation</td>\n",
       "      <td>discussion</td>\n",
       "    </tr>\n",
       "    <tr>\n",
       "      <th>3</th>\n",
       "      <td>Processing and transforming logic</td>\n",
       "      <td>core</td>\n",
       "    </tr>\n",
       "    <tr>\n",
       "      <th>4</th>\n",
       "      <td>None</td>\n",
       "      <td>T: Annoyance</td>\n",
       "    </tr>\n",
       "    <tr>\n",
       "      <th>5</th>\n",
       "      <td>None</td>\n",
       "      <td>P4: Low</td>\n",
       "    </tr>\n",
       "    <tr>\n",
       "      <th>6</th>\n",
       "      <td>None</td>\n",
       "      <td>N: AdGuard Browser Extension</td>\n",
       "    </tr>\n",
       "    <tr>\n",
       "      <th>7</th>\n",
       "      <td></td>\n",
       "      <td>CI/CD</td>\n",
       "    </tr>\n",
       "    <tr>\n",
       "      <th>8</th>\n",
       "      <td></td>\n",
       "      <td>type: support :sos:</td>\n",
       "    </tr>\n",
       "    <tr>\n",
       "      <th>9</th>\n",
       "      <td>Velocity rating (Fibonacci)</td>\n",
       "      <td>[2]</td>\n",
       "    </tr>\n",
       "    <tr>\n",
       "      <th>10</th>\n",
       "      <td>None</td>\n",
       "      <td>enhancement</td>\n",
       "    </tr>\n",
       "    <tr>\n",
       "      <th>11</th>\n",
       "      <td>Something isn't working</td>\n",
       "      <td>bug</td>\n",
       "    </tr>\n",
       "    <tr>\n",
       "      <th>12</th>\n",
       "      <td></td>\n",
       "      <td>Website request</td>\n",
       "    </tr>\n",
       "    <tr>\n",
       "      <th>13</th>\n",
       "      <td>Requested using the bot</td>\n",
       "      <td>Anonymous request</td>\n",
       "    </tr>\n",
       "    <tr>\n",
       "      <th>14</th>\n",
       "      <td>None</td>\n",
       "      <td>status</td>\n",
       "    </tr>\n",
       "    <tr>\n",
       "      <th>15</th>\n",
       "      <td>None</td>\n",
       "      <td>iso-analytics</td>\n",
       "    </tr>\n",
       "    <tr>\n",
       "      <th>16</th>\n",
       "      <td>Something isn't working</td>\n",
       "      <td>type/bug</td>\n",
       "    </tr>\n",
       "    <tr>\n",
       "      <th>17</th>\n",
       "      <td></td>\n",
       "      <td>needs-triage</td>\n",
       "    </tr>\n",
       "  </tbody>\n",
       "</table>\n",
       "</div>"
      ]
     },
     "metadata": {
      "application/vnd.databricks.v1+output": {
       "addedWidgets": {},
       "arguments": {},
       "data": "<div>\n<style scoped>\n    .dataframe tbody tr th:only-of-type {\n        vertical-align: middle;\n    }\n\n    .dataframe tbody tr th {\n        vertical-align: top;\n    }\n\n    .dataframe thead th {\n        text-align: right;\n    }\n</style>\n<table border=\"1\" class=\"dataframe\">\n  <thead>\n    <tr style=\"text-align: right;\">\n      <th></th>\n      <th>description</th>\n      <th>name</th>\n    </tr>\n  </thead>\n  <tbody>\n    <tr>\n      <th>0</th>\n      <td>Pull requests that update Javascript code</td>\n      <td>javascript</td>\n    </tr>\n    <tr>\n      <th>1</th>\n      <td>New syntax feature or behavior</td>\n      <td>feature</td>\n    </tr>\n    <tr>\n      <th>2</th>\n      <td>Ongoing conversation</td>\n      <td>discussion</td>\n    </tr>\n    <tr>\n      <th>3</th>\n      <td>Processing and transforming logic</td>\n      <td>core</td>\n    </tr>\n    <tr>\n      <th>4</th>\n      <td>None</td>\n      <td>T: Annoyance</td>\n    </tr>\n    <tr>\n      <th>5</th>\n      <td>None</td>\n      <td>P4: Low</td>\n    </tr>\n    <tr>\n      <th>6</th>\n      <td>None</td>\n      <td>N: AdGuard Browser Extension</td>\n    </tr>\n    <tr>\n      <th>7</th>\n      <td></td>\n      <td>CI/CD</td>\n    </tr>\n    <tr>\n      <th>8</th>\n      <td></td>\n      <td>type: support :sos:</td>\n    </tr>\n    <tr>\n      <th>9</th>\n      <td>Velocity rating (Fibonacci)</td>\n      <td>[2]</td>\n    </tr>\n    <tr>\n      <th>10</th>\n      <td>None</td>\n      <td>enhancement</td>\n    </tr>\n    <tr>\n      <th>11</th>\n      <td>Something isn't working</td>\n      <td>bug</td>\n    </tr>\n    <tr>\n      <th>12</th>\n      <td></td>\n      <td>Website request</td>\n    </tr>\n    <tr>\n      <th>13</th>\n      <td>Requested using the bot</td>\n      <td>Anonymous request</td>\n    </tr>\n    <tr>\n      <th>14</th>\n      <td>None</td>\n      <td>status</td>\n    </tr>\n    <tr>\n      <th>15</th>\n      <td>None</td>\n      <td>iso-analytics</td>\n    </tr>\n    <tr>\n      <th>16</th>\n      <td>Something isn't working</td>\n      <td>type/bug</td>\n    </tr>\n    <tr>\n      <th>17</th>\n      <td></td>\n      <td>needs-triage</td>\n    </tr>\n  </tbody>\n</table>\n</div>",
       "datasetInfos": [],
       "metadata": {},
       "removedWidgets": [],
       "textData": null,
       "type": "htmlSandbox"
      }
     },
     "output_type": "display_data"
    }
   ],
   "source": [
    "new_table"
   ]
  },
  {
   "cell_type": "code",
   "execution_count": 0,
   "metadata": {
    "application/vnd.databricks.v1+cell": {
     "cellMetadata": {
      "byteLimit": 2048000,
      "rowLimit": 10000
     },
     "inputWidgets": {},
     "nuid": "f36a498c-c263-465e-a766-af5eea2ce2c1",
     "showTitle": false,
     "title": ""
    }
   },
   "outputs": [],
   "source": [
    "new_table = new_table[new_table['description'].apply(lambda x: len(x) > 0 if x is not None else False)]"
   ]
  },
  {
   "cell_type": "code",
   "execution_count": 0,
   "metadata": {
    "application/vnd.databricks.v1+cell": {
     "cellMetadata": {
      "byteLimit": 2048000,
      "rowLimit": 10000
     },
     "inputWidgets": {},
     "nuid": "891e428c-1f96-4bd8-8b3e-affb694ebf08",
     "showTitle": false,
     "title": ""
    }
   },
   "outputs": [
    {
     "output_type": "display_data",
     "data": {
      "text/html": [
       "<div>\n",
       "<style scoped>\n",
       "    .dataframe tbody tr th:only-of-type {\n",
       "        vertical-align: middle;\n",
       "    }\n",
       "\n",
       "    .dataframe tbody tr th {\n",
       "        vertical-align: top;\n",
       "    }\n",
       "\n",
       "    .dataframe thead th {\n",
       "        text-align: right;\n",
       "    }\n",
       "</style>\n",
       "<table border=\"1\" class=\"dataframe\">\n",
       "  <thead>\n",
       "    <tr style=\"text-align: right;\">\n",
       "      <th></th>\n",
       "      <th>description</th>\n",
       "      <th>name</th>\n",
       "    </tr>\n",
       "  </thead>\n",
       "  <tbody>\n",
       "    <tr>\n",
       "      <th>0</th>\n",
       "      <td>Pull requests that update Javascript code</td>\n",
       "      <td>javascript</td>\n",
       "    </tr>\n",
       "    <tr>\n",
       "      <th>1</th>\n",
       "      <td>New syntax feature or behavior</td>\n",
       "      <td>feature</td>\n",
       "    </tr>\n",
       "    <tr>\n",
       "      <th>2</th>\n",
       "      <td>Ongoing conversation</td>\n",
       "      <td>discussion</td>\n",
       "    </tr>\n",
       "    <tr>\n",
       "      <th>3</th>\n",
       "      <td>Processing and transforming logic</td>\n",
       "      <td>core</td>\n",
       "    </tr>\n",
       "    <tr>\n",
       "      <th>9</th>\n",
       "      <td>Velocity rating (Fibonacci)</td>\n",
       "      <td>[2]</td>\n",
       "    </tr>\n",
       "    <tr>\n",
       "      <th>11</th>\n",
       "      <td>Something isn't working</td>\n",
       "      <td>bug</td>\n",
       "    </tr>\n",
       "    <tr>\n",
       "      <th>13</th>\n",
       "      <td>Requested using the bot</td>\n",
       "      <td>Anonymous request</td>\n",
       "    </tr>\n",
       "    <tr>\n",
       "      <th>16</th>\n",
       "      <td>Something isn't working</td>\n",
       "      <td>type/bug</td>\n",
       "    </tr>\n",
       "  </tbody>\n",
       "</table>\n",
       "</div>"
      ]
     },
     "metadata": {
      "application/vnd.databricks.v1+output": {
       "addedWidgets": {},
       "arguments": {},
       "data": "<div>\n<style scoped>\n    .dataframe tbody tr th:only-of-type {\n        vertical-align: middle;\n    }\n\n    .dataframe tbody tr th {\n        vertical-align: top;\n    }\n\n    .dataframe thead th {\n        text-align: right;\n    }\n</style>\n<table border=\"1\" class=\"dataframe\">\n  <thead>\n    <tr style=\"text-align: right;\">\n      <th></th>\n      <th>description</th>\n      <th>name</th>\n    </tr>\n  </thead>\n  <tbody>\n    <tr>\n      <th>0</th>\n      <td>Pull requests that update Javascript code</td>\n      <td>javascript</td>\n    </tr>\n    <tr>\n      <th>1</th>\n      <td>New syntax feature or behavior</td>\n      <td>feature</td>\n    </tr>\n    <tr>\n      <th>2</th>\n      <td>Ongoing conversation</td>\n      <td>discussion</td>\n    </tr>\n    <tr>\n      <th>3</th>\n      <td>Processing and transforming logic</td>\n      <td>core</td>\n    </tr>\n    <tr>\n      <th>9</th>\n      <td>Velocity rating (Fibonacci)</td>\n      <td>[2]</td>\n    </tr>\n    <tr>\n      <th>11</th>\n      <td>Something isn't working</td>\n      <td>bug</td>\n    </tr>\n    <tr>\n      <th>13</th>\n      <td>Requested using the bot</td>\n      <td>Anonymous request</td>\n    </tr>\n    <tr>\n      <th>16</th>\n      <td>Something isn't working</td>\n      <td>type/bug</td>\n    </tr>\n  </tbody>\n</table>\n</div>",
       "datasetInfos": [],
       "metadata": {},
       "removedWidgets": [],
       "textData": null,
       "type": "htmlSandbox"
      }
     },
     "output_type": "display_data"
    }
   ],
   "source": [
    "new_table\n",
    "#cleantext"
   ]
  },
  {
   "cell_type": "code",
   "execution_count": 0,
   "metadata": {
    "application/vnd.databricks.v1+cell": {
     "cellMetadata": {
      "byteLimit": 2048000,
      "rowLimit": 10000
     },
     "inputWidgets": {},
     "nuid": "bf8e6e99-4631-4048-b744-5f7df1e39979",
     "showTitle": false,
     "title": ""
    }
   },
   "outputs": [
    {
     "output_type": "stream",
     "name": "stdout",
     "output_type": "stream",
     "text": [
      "root\n |-- actor: struct (nullable = true)\n |    |-- avatar_url: string (nullable = true)\n |    |-- display_login: string (nullable = true)\n |    |-- gravatar_id: string (nullable = true)\n |    |-- id: long (nullable = true)\n |    |-- login: string (nullable = true)\n |    |-- url: string (nullable = true)\n |-- created_at: string (nullable = true)\n |-- id: string (nullable = true)\n |-- org: struct (nullable = true)\n |    |-- avatar_url: string (nullable = true)\n |    |-- gravatar_id: string (nullable = true)\n |    |-- id: long (nullable = true)\n |    |-- login: string (nullable = true)\n |    |-- url: string (nullable = true)\n |-- payload: struct (nullable = true)\n |    |-- action: string (nullable = true)\n |    |-- before: string (nullable = true)\n |    |-- comment: struct (nullable = true)\n |    |    |-- _links: struct (nullable = true)\n |    |    |    |-- html: struct (nullable = true)\n |    |    |    |    |-- href: string (nullable = true)\n |    |    |    |-- pull_request: struct (nullable = true)\n |    |    |    |    |-- href: string (nullable = true)\n |    |    |    |-- self: struct (nullable = true)\n |    |    |    |    |-- href: string (nullable = true)\n |    |    |-- author_association: string (nullable = true)\n |    |    |-- body: string (nullable = true)\n |    |    |-- commit_id: string (nullable = true)\n |    |    |-- created_at: string (nullable = true)\n |    |    |-- diff_hunk: string (nullable = true)\n |    |    |-- html_url: string (nullable = true)\n |    |    |-- id: long (nullable = true)\n |    |    |-- in_reply_to_id: long (nullable = true)\n |    |    |-- issue_url: string (nullable = true)\n |    |    |-- line: long (nullable = true)\n |    |    |-- node_id: string (nullable = true)\n |    |    |-- original_commit_id: string (nullable = true)\n |    |    |-- original_line: long (nullable = true)\n |    |    |-- original_position: long (nullable = true)\n |    |    |-- original_start_line: long (nullable = true)\n |    |    |-- path: string (nullable = true)\n |    |    |-- performed_via_github_app: struct (nullable = true)\n |    |    |    |-- created_at: string (nullable = true)\n |    |    |    |-- description: string (nullable = true)\n |    |    |    |-- events: array (nullable = true)\n |    |    |    |    |-- element: string (containsNull = true)\n |    |    |    |-- external_url: string (nullable = true)\n |    |    |    |-- html_url: string (nullable = true)\n |    |    |    |-- id: long (nullable = true)\n |    |    |    |-- name: string (nullable = true)\n |    |    |    |-- node_id: string (nullable = true)\n |    |    |    |-- owner: struct (nullable = true)\n |    |    |    |    |-- avatar_url: string (nullable = true)\n |    |    |    |    |-- events_url: string (nullable = true)\n |    |    |    |    |-- followers_url: string (nullable = true)\n |    |    |    |    |-- following_url: string (nullable = true)\n |    |    |    |    |-- gists_url: string (nullable = true)\n |    |    |    |    |-- gravatar_id: string (nullable = true)\n |    |    |    |    |-- html_url: string (nullable = true)\n |    |    |    |    |-- id: long (nullable = true)\n |    |    |    |    |-- login: string (nullable = true)\n |    |    |    |    |-- node_id: string (nullable = true)\n |    |    |    |    |-- organizations_url: string (nullable = true)\n |    |    |    |    |-- received_events_url: string (nullable = true)\n |    |    |    |    |-- repos_url: string (nullable = true)\n |    |    |    |    |-- site_admin: boolean (nullable = true)\n |    |    |    |    |-- starred_url: string (nullable = true)\n |    |    |    |    |-- subscriptions_url: string (nullable = true)\n |    |    |    |    |-- type: string (nullable = true)\n |    |    |    |    |-- url: string (nullable = true)\n |    |    |    |-- permissions: struct (nullable = true)\n |    |    |    |    |-- actions: string (nullable = true)\n |    |    |    |    |-- administration: string (nullable = true)\n |    |    |    |    |-- checks: string (nullable = true)\n |    |    |    |    |-- contents: string (nullable = true)\n |    |    |    |    |-- emails: string (nullable = true)\n |    |    |    |    |-- issues: string (nullable = true)\n |    |    |    |    |-- members: string (nullable = true)\n |    |    |    |    |-- metadata: string (nullable = true)\n |    |    |    |    |-- pull_requests: string (nullable = true)\n |    |    |    |    |-- statuses: string (nullable = true)\n |    |    |    |-- slug: string (nullable = true)\n |    |    |    |-- updated_at: string (nullable = true)\n |    |    |-- position: long (nullable = true)\n |    |    |-- pull_request_review_id: long (nullable = true)\n |    |    |-- pull_request_url: string (nullable = true)\n |    |    |-- reactions: struct (nullable = true)\n |    |    |    |-- +1: long (nullable = true)\n |    |    |    |-- -1: long (nullable = true)\n |    |    |    |-- confused: long (nullable = true)\n |    |    |    |-- eyes: long (nullable = true)\n |    |    |    |-- heart: long (nullable = true)\n |    |    |    |-- hooray: long (nullable = true)\n |    |    |    |-- laugh: long (nullable = true)\n |    |    |    |-- rocket: long (nullable = true)\n |    |    |    |-- total_count: long (nullable = true)\n |    |    |    |-- url: string (nullable = true)\n |    |    |-- side: string (nullable = true)\n |    |    |-- start_line: long (nullable = true)\n |    |    |-- start_side: string (nullable = true)\n |    |    |-- subject_type: string (nullable = true)\n |    |    |-- updated_at: string (nullable = true)\n |    |    |-- url: string (nullable = true)\n |    |    |-- user: struct (nullable = true)\n |    |    |    |-- avatar_url: string (nullable = true)\n |    |    |    |-- events_url: string (nullable = true)\n |    |    |    |-- followers_url: string (nullable = true)\n |    |    |    |-- following_url: string (nullable = true)\n |    |    |    |-- gists_url: string (nullable = true)\n |    |    |    |-- gravatar_id: string (nullable = true)\n |    |    |    |-- html_url: string (nullable = true)\n |    |    |    |-- id: long (nullable = true)\n |    |    |    |-- login: string (nullable = true)\n |    |    |    |-- node_id: string (nullable = true)\n |    |    |    |-- organizations_url: string (nullable = true)\n |    |    |    |-- received_events_url: string (nullable = true)\n |    |    |    |-- repos_url: string (nullable = true)\n |    |    |    |-- site_admin: boolean (nullable = true)\n |    |    |    |-- starred_url: string (nullable = true)\n |    |    |    |-- subscriptions_url: string (nullable = true)\n |    |    |    |-- type: string (nullable = true)\n |    |    |    |-- url: string (nullable = true)\n |    |-- commits: array (nullable = true)\n |    |    |-- element: struct (containsNull = true)\n |    |    |    |-- author: struct (nullable = true)\n |    |    |    |    |-- email: string (nullable = true)\n |    |    |    |    |-- name: string (nullable = true)\n |    |    |    |-- distinct: boolean (nullable = true)\n |    |    |    |-- message: string (nullable = true)\n |    |    |    |-- sha: string (nullable = true)\n |    |    |    |-- url: string (nullable = true)\n |    |-- description: string (nullable = true)\n |    |-- distinct_size: long (nullable = true)\n |    |-- forkee: struct (nullable = true)\n |    |    |-- allow_forking: boolean (nullable = true)\n |    |    |-- archive_url: string (nullable = true)\n |    |    |-- archived: boolean (nullable = true)\n |    |    |-- assignees_url: string (nullable = true)\n |    |    |-- blobs_url: string (nullable = true)\n |    |    |-- branches_url: string (nullable = true)\n |    |    |-- clone_url: string (nullable = true)\n |    |    |-- collaborators_url: string (nullable = true)\n |    |    |-- comments_url: string (nullable = true)\n |    |    |-- commits_url: string (nullable = true)\n |    |    |-- compare_url: string (nullable = true)\n |    |    |-- contents_url: string (nullable = true)\n |    |    |-- contributors_url: string (nullable = true)\n |    |    |-- created_at: string (nullable = true)\n |    |    |-- default_branch: string (nullable = true)\n |    |    |-- deployments_url: string (nullable = true)\n |    |    |-- description: string (nullable = true)\n |    |    |-- disabled: boolean (nullable = true)\n |    |    |-- downloads_url: string (nullable = true)\n |    |    |-- events_url: string (nullable = true)\n |    |    |-- fork: boolean (nullable = true)\n |    |    |-- forks: long (nullable = true)\n |    |    |-- forks_count: long (nullable = true)\n |    |    |-- forks_url: string (nullable = true)\n |    |    |-- full_name: string (nullable = true)\n |    |    |-- git_commits_url: string (nullable = true)\n |    |    |-- git_refs_url: string (nullable = true)\n |    |    |-- git_tags_url: string (nullable = true)\n |    |    |-- git_url: string (nullable = true)\n |    |    |-- has_discussions: boolean (nullable = true)\n |    |    |-- has_downloads: boolean (nullable = true)\n |    |    |-- has_issues: boolean (nullable = true)\n |    |    |-- has_pages: boolean (nullable = true)\n |    |    |-- has_projects: boolean (nullable = true)\n |    |    |-- has_wiki: boolean (nullable = true)\n |    |    |-- homepage: string (nullable = true)\n |    |    |-- hooks_url: string (nullable = true)\n |    |    |-- html_url: string (nullable = true)\n |    |    |-- id: long (nullable = true)\n |    |    |-- is_template: boolean (nullable = true)\n |    |    |-- issue_comment_url: string (nullable = true)\n |    |    |-- issue_events_url: string (nullable = true)\n |    |    |-- issues_url: string (nullable = true)\n |    |    |-- keys_url: string (nullable = true)\n |    |    |-- labels_url: string (nullable = true)\n |    |    |-- language: string (nullable = true)\n |    |    |-- languages_url: string (nullable = true)\n |    |    |-- license: struct (nullable = true)\n |    |    |    |-- key: string (nullable = true)\n |    |    |    |-- name: string (nullable = true)\n |    |    |    |-- node_id: string (nullable = true)\n |    |    |    |-- spdx_id: string (nullable = true)\n |    |    |    |-- url: string (nullable = true)\n |    |    |-- merges_url: string (nullable = true)\n |    |    |-- milestones_url: string (nullable = true)\n |    |    |-- mirror_url: string (nullable = true)\n |    |    |-- name: string (nullable = true)\n |    |    |-- node_id: string (nullable = true)\n |    |    |-- notifications_url: string (nullable = true)\n |    |    |-- open_issues: long (nullable = true)\n |    |    |-- open_issues_count: long (nullable = true)\n |    |    |-- owner: struct (nullable = true)\n |    |    |    |-- avatar_url: string (nullable = true)\n |    |    |    |-- events_url: string (nullable = true)\n |    |    |    |-- followers_url: string (nullable = true)\n |    |    |    |-- following_url: string (nullable = true)\n |    |    |    |-- gists_url: string (nullable = true)\n |    |    |    |-- gravatar_id: string (nullable = true)\n |    |    |    |-- html_url: string (nullable = true)\n |    |    |    |-- id: long (nullable = true)\n |    |    |    |-- login: string (nullable = true)\n |    |    |    |-- node_id: string (nullable = true)\n |    |    |    |-- organizations_url: string (nullable = true)\n |    |    |    |-- received_events_url: string (nullable = true)\n |    |    |    |-- repos_url: string (nullable = true)\n |    |    |    |-- site_admin: boolean (nullable = true)\n |    |    |    |-- starred_url: string (nullable = true)\n |    |    |    |-- subscriptions_url: string (nullable = true)\n |    |    |    |-- type: string (nullable = true)\n |    |    |    |-- url: string (nullable = true)\n |    |    |-- private: boolean (nullable = true)\n |    |    |-- public: boolean (nullable = true)\n |    |    |-- pulls_url: string (nullable = true)\n |    |    |-- pushed_at: string (nullable = true)\n |    |    |-- releases_url: string (nullable = true)\n |    |    |-- size: long (nullable = true)\n |    |    |-- ssh_url: string (nullable = true)\n |    |    |-- stargazers_count: long (nullable = true)\n |    |    |-- stargazers_url: string (nullable = true)\n |    |    |-- statuses_url: string (nullable = true)\n |    |    |-- subscribers_url: string (nullable = true)\n |    |    |-- subscription_url: string (nullable = true)\n |    |    |-- svn_url: string (nullable = true)\n |    |    |-- tags_url: string (nullable = true)\n |    |    |-- teams_url: string (nullable = true)\n |    |    |-- topics: array (nullable = true)\n |    |    |    |-- element: string (containsNull = true)\n |    |    |-- trees_url: string (nullable = true)\n |    |    |-- updated_at: string (nullable = true)\n |    |    |-- url: string (nullable = true)\n |    |    |-- visibility: string (nullable = true)\n |    |    |-- watchers: long (nullable = true)\n |    |    |-- watchers_count: long (nullable = true)\n |    |    |-- web_commit_signoff_required: boolean (nullable = true)\n |    |-- head: string (nullable = true)\n |    |-- issue: struct (nullable = true)\n |    |    |-- active_lock_reason: string (nullable = true)\n |    |    |-- assignee: struct (nullable = true)\n |    |    |    |-- avatar_url: string (nullable = true)\n |    |    |    |-- events_url: string (nullable = true)\n |    |    |    |-- followers_url: string (nullable = true)\n |    |    |    |-- following_url: string (nullable = true)\n |    |    |    |-- gists_url: string (nullable = true)\n |    |    |    |-- gravatar_id: string (nullable = true)\n |    |    |    |-- html_url: string (nullable = true)\n |    |    |    |-- id: long (nullable = true)\n |    |    |    |-- login: string (nullable = true)\n |    |    |    |-- node_id: string (nullable = true)\n |    |    |    |-- organizations_url: string (nullable = true)\n |    |    |    |-- received_events_url: string (nullable = true)\n |    |    |    |-- repos_url: string (nullable = true)\n |    |    |    |-- site_admin: boolean (nullable = true)\n |    |    |    |-- starred_url: string (nullable = true)\n |    |    |    |-- subscriptions_url: string (nullable = true)\n |    |    |    |-- type: string (nullable = true)\n |    |    |    |-- url: string (nullable = true)\n |    |    |-- assignees: array (nullable = true)\n |    |    |    |-- element: struct (containsNull = true)\n |    |    |    |    |-- avatar_url: string (nullable = true)\n |    |    |    |    |-- events_url: string (nullable = true)\n |    |    |    |    |-- followers_url: string (nullable = true)\n |    |    |    |    |-- following_url: string (nullable = true)\n |    |    |    |    |-- gists_url: string (nullable = true)\n |    |    |    |    |-- gravatar_id: string (nullable = true)\n |    |    |    |    |-- html_url: string (nullable = true)\n |    |    |    |    |-- id: long (nullable = true)\n |    |    |    |    |-- login: string (nullable = true)\n |    |    |    |    |-- node_id: string (nullable = true)\n |    |    |    |    |-- organizations_url: string (nullable = true)\n |    |    |    |    |-- received_events_url: string (nullable = true)\n |    |    |    |    |-- repos_url: string (nullable = true)\n |    |    |    |    |-- site_admin: boolean (nullable = true)\n |    |    |    |    |-- starred_url: string (nullable = true)\n |    |    |    |    |-- subscriptions_url: string (nullable = true)\n |    |    |    |    |-- type: string (nullable = true)\n |    |    |    |    |-- url: string (nullable = true)\n |    |    |-- author_association: string (nullable = true)\n |    |    |-- body: string (nullable = true)\n |    |    |-- closed_at: string (nullable = true)\n |    |    |-- comments: long (nullable = true)\n |    |    |-- comments_url: string (nullable = true)\n |    |    |-- created_at: string (nullable = true)\n |    |    |-- draft: boolean (nullable = true)\n |    |    |-- events_url: string (nullable = true)\n |    |    |-- html_url: string (nullable = true)\n |    |    |-- id: long (nullable = true)\n |    |    |-- labels: array (nullable = true)\n |    |    |    |-- element: struct (containsNull = true)\n |    |    |    |    |-- color: string (nullable = true)\n |    |    |    |    |-- default: boolean (nullable = true)\n |    |    |    |    |-- description: string (nullable = true)\n |    |    |    |    |-- id: long (nullable = true)\n |    |    |    |    |-- name: string (nullable = true)\n |    |    |    |    |-- node_id: string (nullable = true)\n |    |    |    |    |-- url: string (nullable = true)\n |    |    |-- labels_url: string (nullable = true)\n |    |    |-- locked: boolean (nullable = true)\n |    |    |-- milestone: struct (nullable = true)\n |    |    |    |-- closed_at: string (nullable = true)\n |    |    |    |-- closed_issues: long (nullable = true)\n |    |    |    |-- created_at: string (nullable = true)\n |    |    |    |-- creator: struct (nullable = true)\n |    |    |    |    |-- avatar_url: string (nullable = true)\n |    |    |    |    |-- events_url: string (nullable = true)\n |    |    |    |    |-- followers_url: string (nullable = true)\n |    |    |    |    |-- following_url: string (nullable = true)\n |    |    |    |    |-- gists_url: string (nullable = true)\n |    |    |    |    |-- gravatar_id: string (nullable = true)\n |    |    |    |    |-- html_url: string (nullable = true)\n |    |    |    |    |-- id: long (nullable = true)\n |    |    |    |    |-- login: string (nullable = true)\n |    |    |    |    |-- node_id: string (nullable = true)\n |    |    |    |    |-- organizations_url: string (nullable = true)\n |    |    |    |    |-- received_events_url: string (nullable = true)\n |    |    |    |    |-- repos_url: string (nullable = true)\n |    |    |    |    |-- site_admin: boolean (nullable = true)\n |    |    |    |    |-- starred_url: string (nullable = true)\n |    |    |    |    |-- subscriptions_url: string (nullable = true)\n |    |    |    |    |-- type: string (nullable = true)\n |    |    |    |    |-- url: string (nullable = true)\n |    |    |    |-- description: string (nullable = true)\n |    |    |    |-- due_on: string (nullable = true)\n |    |    |    |-- html_url: string (nullable = true)\n |    |    |    |-- id: long (nullable = true)\n |    |    |    |-- labels_url: string (nullable = true)\n |    |    |    |-- node_id: string (nullable = true)\n |    |    |    |-- number: long (nullable = true)\n |    |    |    |-- open_issues: long (nullable = true)\n |    |    |    |-- state: string (nullable = true)\n |    |    |    |-- title: string (nullable = true)\n |    |    |    |-- updated_at: string (nullable = true)\n |    |    |    |-- url: string (nullable = true)\n |    |    |-- node_id: string (nullable = true)\n |    |    |-- number: long (nullable = true)\n |    |    |-- performed_via_github_app: struct (nullable = true)\n |    |    |    |-- created_at: string (nullable = true)\n |    |    |    |-- description: string (nullable = true)\n |    |    |    |-- events: array (nullable = true)\n |    |    |    |    |-- element: string (containsNull = true)\n |    |    |    |-- external_url: string (nullable = true)\n |    |    |    |-- html_url: string (nullable = true)\n |    |    |    |-- id: long (nullable = true)\n |    |    |    |-- name: string (nullable = true)\n |    |    |    |-- node_id: string (nullable = true)\n |    |    |    |-- owner: struct (nullable = true)\n |    |    |    |    |-- avatar_url: string (nullable = true)\n |    |    |    |    |-- events_url: string (nullable = true)\n |    |    |    |    |-- followers_url: string (nullable = true)\n |    |    |    |    |-- following_url: string (nullable = true)\n |    |    |    |    |-- gists_url: string (nullable = true)\n |    |    |    |    |-- gravatar_id: string (nullable = true)\n |    |    |    |    |-- html_url: string (nullable = true)\n |    |    |    |    |-- id: long (nullable = true)\n |    |    |    |    |-- login: string (nullable = true)\n |    |    |    |    |-- node_id: string (nullable = true)\n |    |    |    |    |-- organizations_url: string (nullable = true)\n |    |    |    |    |-- received_events_url: string (nullable = true)\n |    |    |    |    |-- repos_url: string (nullable = true)\n |    |    |    |    |-- site_admin: boolean (nullable = true)\n |    |    |    |    |-- starred_url: string (nullable = true)\n |    |    |    |    |-- subscriptions_url: string (nullable = true)\n |    |    |    |    |-- type: string (nullable = true)\n |    |    |    |    |-- url: string (nullable = true)\n |    |    |    |-- permissions: struct (nullable = true)\n |    |    |    |    |-- actions: string (nullable = true)\n |    |    |    |    |-- actions_variables: string (nullable = true)\n |    |    |    |    |-- administration: string (nullable = true)\n |    |    |    |    |-- blocking: string (nullable = true)\n |    |    |    |    |-- checks: string (nullable = true)\n |    |    |    |    |-- codespaces: string (nullable = true)\n |    |    |    |    |-- codespaces_lifecycle_admin: string (nullable = true)\n |    |    |    |    |-- codespaces_metadata: string (nullable = true)\n |    |    |    |    |-- codespaces_secrets: string (nullable = true)\n |    |    |    |    |-- codespaces_user_secrets: string (nullable = true)\n |    |    |    |    |-- contents: string (nullable = true)\n |    |    |    |    |-- dependabot_secrets: string (nullable = true)\n |    |    |    |    |-- deployments: string (nullable = true)\n |    |    |    |    |-- discussions: string (nullable = true)\n |    |    |    |    |-- emails: string (nullable = true)\n |    |    |    |    |-- environments: string (nullable = true)\n |    |    |    |    |-- followers: string (nullable = true)\n |    |    |    |    |-- gists: string (nullable = true)\n |    |    |    |    |-- git_signing_ssh_public_keys: string (nullable = true)\n |    |    |    |    |-- gpg_keys: string (nullable = true)\n |    |    |    |    |-- interaction_limits: string (nullable = true)\n |    |    |    |    |-- issues: string (nullable = true)\n |    |    |    |    |-- keys: string (nullable = true)\n |    |    |    |    |-- members: string (nullable = true)\n |    |    |    |    |-- merge_queues: string (nullable = true)\n |    |    |    |    |-- metadata: string (nullable = true)\n |    |    |    |    |-- organization_actions_variables: string (nullable = true)\n |    |    |    |    |-- organization_administration: string (nullable = true)\n |    |    |    |    |-- organization_announcement_banners: string (nullable = true)\n |    |    |    |    |-- organization_codespaces: string (nullable = true)\n |    |    |    |    |-- organization_codespaces_secrets: string (nullable = true)\n |    |    |    |    |-- organization_codespaces_settings: string (nullable = true)\n |    |    |    |    |-- organization_custom_roles: string (nullable = true)\n |    |    |    |    |-- organization_dependabot_secrets: string (nullable = true)\n |    |    |    |    |-- organization_events: string (nullable = true)\n |    |    |    |    |-- organization_hooks: string (nullable = true)\n |    |    |    |    |-- organization_personal_access_token_requests: string (nullable = true)\n |    |    |    |    |-- organization_personal_access_tokens: string (nullable = true)\n |    |    |    |    |-- organization_plan: string (nullable = true)\n |    |    |    |    |-- organization_projects: string (nullable = true)\n |    |    |    |    |-- organization_secrets: string (nullable = true)\n |    |    |    |    |-- organization_self_hosted_runners: string (nullable = true)\n |    |    |    |    |-- organization_user_blocking: string (nullable = true)\n |    |    |    |    |-- packages: string (nullable = true)\n |    |    |    |    |-- pages: string (nullable = true)\n |    |    |    |    |-- plan: string (nullable = true)\n |    |    |    |    |-- profile: string (nullable = true)\n |    |    |    |    |-- pull_requests: string (nullable = true)\n |    |    |    |    |-- repository_advisories: string (nullable = true)\n |    |    |    |    |-- repository_hooks: string (nullable = true)\n |    |    |    |    |-- repository_projects: string (nullable = true)\n |    |    |    |    |-- secret_scanning_alerts: string (nullable = true)\n |    |    |    |    |-- secrets: string (nullable = true)\n |    |    |    |    |-- security_events: string (nullable = true)\n |    |    |    |    |-- starring: string (nullable = true)\n |    |    |    |    |-- statuses: string (nullable = true)\n |    |    |    |    |-- team_discussions: string (nullable = true)\n |    |    |    |    |-- vulnerability_alerts: string (nullable = true)\n |    |    |    |    |-- watching: string (nullable = true)\n |    |    |    |    |-- workflows: string (nullable = true)\n |    |    |    |-- slug: string (nullable = true)\n |    |    |    |-- updated_at: string (nullable = true)\n |    |    |-- pull_request: struct (nullable = true)\n |    |    |    |-- diff_url: string (nullable = true)\n |    |    |    |-- html_url: string (nullable = true)\n |    |    |    |-- merged_at: string (nullable = true)\n |    |    |    |-- patch_url: string (nullable = true)\n |    |    |    |-- url: string (nullable = true)\n |    |    |-- reactions: struct (nullable = true)\n |    |    |    |-- +1: long (nullable = true)\n |    |    |    |-- -1: long (nullable = true)\n |    |    |    |-- confused: long (nullable = true)\n |    |    |    |-- eyes: long (nullable = true)\n |    |    |\n\n*** WARNING: max output size exceeded, skipping output. ***\n\ning (nullable = true)\n |    |    |    |    |-- events_url: string (nullable = true)\n |    |    |    |    |-- followers_url: string (nullable = true)\n |    |    |    |    |-- following_url: string (nullable = true)\n |    |    |    |    |-- gists_url: string (nullable = true)\n |    |    |    |    |-- gravatar_id: string (nullable = true)\n |    |    |    |    |-- html_url: string (nullable = true)\n |    |    |    |    |-- id: long (nullable = true)\n |    |    |    |    |-- login: string (nullable = true)\n |    |    |    |    |-- node_id: string (nullable = true)\n |    |    |    |    |-- organizations_url: string (nullable = true)\n |    |    |    |    |-- received_events_url: string (nullable = true)\n |    |    |    |    |-- repos_url: string (nullable = true)\n |    |    |    |    |-- site_admin: boolean (nullable = true)\n |    |    |    |    |-- starred_url: string (nullable = true)\n |    |    |    |    |-- subscriptions_url: string (nullable = true)\n |    |    |    |    |-- type: string (nullable = true)\n |    |    |    |    |-- url: string (nullable = true)\n |    |    |-- body: string (nullable = true)\n |    |    |-- changed_files: long (nullable = true)\n |    |    |-- closed_at: string (nullable = true)\n |    |    |-- comments: long (nullable = true)\n |    |    |-- comments_url: string (nullable = true)\n |    |    |-- commits: long (nullable = true)\n |    |    |-- commits_url: string (nullable = true)\n |    |    |-- created_at: string (nullable = true)\n |    |    |-- deletions: long (nullable = true)\n |    |    |-- diff_url: string (nullable = true)\n |    |    |-- draft: boolean (nullable = true)\n |    |    |-- head: struct (nullable = true)\n |    |    |    |-- label: string (nullable = true)\n |    |    |    |-- ref: string (nullable = true)\n |    |    |    |-- repo: struct (nullable = true)\n |    |    |    |    |-- allow_forking: boolean (nullable = true)\n |    |    |    |    |-- archive_url: string (nullable = true)\n |    |    |    |    |-- archived: boolean (nullable = true)\n |    |    |    |    |-- assignees_url: string (nullable = true)\n |    |    |    |    |-- blobs_url: string (nullable = true)\n |    |    |    |    |-- branches_url: string (nullable = true)\n |    |    |    |    |-- clone_url: string (nullable = true)\n |    |    |    |    |-- collaborators_url: string (nullable = true)\n |    |    |    |    |-- comments_url: string (nullable = true)\n |    |    |    |    |-- commits_url: string (nullable = true)\n |    |    |    |    |-- compare_url: string (nullable = true)\n |    |    |    |    |-- contents_url: string (nullable = true)\n |    |    |    |    |-- contributors_url: string (nullable = true)\n |    |    |    |    |-- created_at: string (nullable = true)\n |    |    |    |    |-- default_branch: string (nullable = true)\n |    |    |    |    |-- deployments_url: string (nullable = true)\n |    |    |    |    |-- description: string (nullable = true)\n |    |    |    |    |-- disabled: boolean (nullable = true)\n |    |    |    |    |-- downloads_url: string (nullable = true)\n |    |    |    |    |-- events_url: string (nullable = true)\n |    |    |    |    |-- fork: boolean (nullable = true)\n |    |    |    |    |-- forks: long (nullable = true)\n |    |    |    |    |-- forks_count: long (nullable = true)\n |    |    |    |    |-- forks_url: string (nullable = true)\n |    |    |    |    |-- full_name: string (nullable = true)\n |    |    |    |    |-- git_commits_url: string (nullable = true)\n |    |    |    |    |-- git_refs_url: string (nullable = true)\n |    |    |    |    |-- git_tags_url: string (nullable = true)\n |    |    |    |    |-- git_url: string (nullable = true)\n |    |    |    |    |-- has_discussions: boolean (nullable = true)\n |    |    |    |    |-- has_downloads: boolean (nullable = true)\n |    |    |    |    |-- has_issues: boolean (nullable = true)\n |    |    |    |    |-- has_pages: boolean (nullable = true)\n |    |    |    |    |-- has_projects: boolean (nullable = true)\n |    |    |    |    |-- has_wiki: boolean (nullable = true)\n |    |    |    |    |-- homepage: string (nullable = true)\n |    |    |    |    |-- hooks_url: string (nullable = true)\n |    |    |    |    |-- html_url: string (nullable = true)\n |    |    |    |    |-- id: long (nullable = true)\n |    |    |    |    |-- is_template: boolean (nullable = true)\n |    |    |    |    |-- issue_comment_url: string (nullable = true)\n |    |    |    |    |-- issue_events_url: string (nullable = true)\n |    |    |    |    |-- issues_url: string (nullable = true)\n |    |    |    |    |-- keys_url: string (nullable = true)\n |    |    |    |    |-- labels_url: string (nullable = true)\n |    |    |    |    |-- language: string (nullable = true)\n |    |    |    |    |-- languages_url: string (nullable = true)\n |    |    |    |    |-- license: struct (nullable = true)\n |    |    |    |    |    |-- key: string (nullable = true)\n |    |    |    |    |    |-- name: string (nullable = true)\n |    |    |    |    |    |-- node_id: string (nullable = true)\n |    |    |    |    |    |-- spdx_id: string (nullable = true)\n |    |    |    |    |    |-- url: string (nullable = true)\n |    |    |    |    |-- merges_url: string (nullable = true)\n |    |    |    |    |-- milestones_url: string (nullable = true)\n |    |    |    |    |-- mirror_url: string (nullable = true)\n |    |    |    |    |-- name: string (nullable = true)\n |    |    |    |    |-- node_id: string (nullable = true)\n |    |    |    |    |-- notifications_url: string (nullable = true)\n |    |    |    |    |-- open_issues: long (nullable = true)\n |    |    |    |    |-- open_issues_count: long (nullable = true)\n |    |    |    |    |-- owner: struct (nullable = true)\n |    |    |    |    |    |-- avatar_url: string (nullable = true)\n |    |    |    |    |    |-- events_url: string (nullable = true)\n |    |    |    |    |    |-- followers_url: string (nullable = true)\n |    |    |    |    |    |-- following_url: string (nullable = true)\n |    |    |    |    |    |-- gists_url: string (nullable = true)\n |    |    |    |    |    |-- gravatar_id: string (nullable = true)\n |    |    |    |    |    |-- html_url: string (nullable = true)\n |    |    |    |    |    |-- id: long (nullable = true)\n |    |    |    |    |    |-- login: string (nullable = true)\n |    |    |    |    |    |-- node_id: string (nullable = true)\n |    |    |    |    |    |-- organizations_url: string (nullable = true)\n |    |    |    |    |    |-- received_events_url: string (nullable = true)\n |    |    |    |    |    |-- repos_url: string (nullable = true)\n |    |    |    |    |    |-- site_admin: boolean (nullable = true)\n |    |    |    |    |    |-- starred_url: string (nullable = true)\n |    |    |    |    |    |-- subscriptions_url: string (nullable = true)\n |    |    |    |    |    |-- type: string (nullable = true)\n |    |    |    |    |    |-- url: string (nullable = true)\n |    |    |    |    |-- private: boolean (nullable = true)\n |    |    |    |    |-- pulls_url: string (nullable = true)\n |    |    |    |    |-- pushed_at: string (nullable = true)\n |    |    |    |    |-- releases_url: string (nullable = true)\n |    |    |    |    |-- size: long (nullable = true)\n |    |    |    |    |-- ssh_url: string (nullable = true)\n |    |    |    |    |-- stargazers_count: long (nullable = true)\n |    |    |    |    |-- stargazers_url: string (nullable = true)\n |    |    |    |    |-- statuses_url: string (nullable = true)\n |    |    |    |    |-- subscribers_url: string (nullable = true)\n |    |    |    |    |-- subscription_url: string (nullable = true)\n |    |    |    |    |-- svn_url: string (nullable = true)\n |    |    |    |    |-- tags_url: string (nullable = true)\n |    |    |    |    |-- teams_url: string (nullable = true)\n |    |    |    |    |-- topics: array (nullable = true)\n |    |    |    |    |    |-- element: string (containsNull = true)\n |    |    |    |    |-- trees_url: string (nullable = true)\n |    |    |    |    |-- updated_at: string (nullable = true)\n |    |    |    |    |-- url: string (nullable = true)\n |    |    |    |    |-- visibility: string (nullable = true)\n |    |    |    |    |-- watchers: long (nullable = true)\n |    |    |    |    |-- watchers_count: long (nullable = true)\n |    |    |    |    |-- web_commit_signoff_required: boolean (nullable = true)\n |    |    |    |-- sha: string (nullable = true)\n |    |    |    |-- user: struct (nullable = true)\n |    |    |    |    |-- avatar_url: string (nullable = true)\n |    |    |    |    |-- events_url: string (nullable = true)\n |    |    |    |    |-- followers_url: string (nullable = true)\n |    |    |    |    |-- following_url: string (nullable = true)\n |    |    |    |    |-- gists_url: string (nullable = true)\n |    |    |    |    |-- gravatar_id: string (nullable = true)\n |    |    |    |    |-- html_url: string (nullable = true)\n |    |    |    |    |-- id: long (nullable = true)\n |    |    |    |    |-- login: string (nullable = true)\n |    |    |    |    |-- node_id: string (nullable = true)\n |    |    |    |    |-- organizations_url: string (nullable = true)\n |    |    |    |    |-- received_events_url: string (nullable = true)\n |    |    |    |    |-- repos_url: string (nullable = true)\n |    |    |    |    |-- site_admin: boolean (nullable = true)\n |    |    |    |    |-- starred_url: string (nullable = true)\n |    |    |    |    |-- subscriptions_url: string (nullable = true)\n |    |    |    |    |-- type: string (nullable = true)\n |    |    |    |    |-- url: string (nullable = true)\n |    |    |-- html_url: string (nullable = true)\n |    |    |-- id: long (nullable = true)\n |    |    |-- issue_url: string (nullable = true)\n |    |    |-- labels: array (nullable = true)\n |    |    |    |-- element: struct (containsNull = true)\n |    |    |    |    |-- color: string (nullable = true)\n |    |    |    |    |-- default: boolean (nullable = true)\n |    |    |    |    |-- description: string (nullable = true)\n |    |    |    |    |-- id: long (nullable = true)\n |    |    |    |    |-- name: string (nullable = true)\n |    |    |    |    |-- node_id: string (nullable = true)\n |    |    |    |    |-- url: string (nullable = true)\n |    |    |-- locked: boolean (nullable = true)\n |    |    |-- maintainer_can_modify: boolean (nullable = true)\n |    |    |-- merge_commit_sha: string (nullable = true)\n |    |    |-- mergeable: boolean (nullable = true)\n |    |    |-- mergeable_state: string (nullable = true)\n |    |    |-- merged: boolean (nullable = true)\n |    |    |-- merged_at: string (nullable = true)\n |    |    |-- merged_by: struct (nullable = true)\n |    |    |    |-- avatar_url: string (nullable = true)\n |    |    |    |-- events_url: string (nullable = true)\n |    |    |    |-- followers_url: string (nullable = true)\n |    |    |    |-- following_url: string (nullable = true)\n |    |    |    |-- gists_url: string (nullable = true)\n |    |    |    |-- gravatar_id: string (nullable = true)\n |    |    |    |-- html_url: string (nullable = true)\n |    |    |    |-- id: long (nullable = true)\n |    |    |    |-- login: string (nullable = true)\n |    |    |    |-- node_id: string (nullable = true)\n |    |    |    |-- organizations_url: string (nullable = true)\n |    |    |    |-- received_events_url: string (nullable = true)\n |    |    |    |-- repos_url: string (nullable = true)\n |    |    |    |-- site_admin: boolean (nullable = true)\n |    |    |    |-- starred_url: string (nullable = true)\n |    |    |    |-- subscriptions_url: string (nullable = true)\n |    |    |    |-- type: string (nullable = true)\n |    |    |    |-- url: string (nullable = true)\n |    |    |-- milestone: struct (nullable = true)\n |    |    |    |-- closed_at: string (nullable = true)\n |    |    |    |-- closed_issues: long (nullable = true)\n |    |    |    |-- created_at: string (nullable = true)\n |    |    |    |-- creator: struct (nullable = true)\n |    |    |    |    |-- avatar_url: string (nullable = true)\n |    |    |    |    |-- events_url: string (nullable = true)\n |    |    |    |    |-- followers_url: string (nullable = true)\n |    |    |    |    |-- following_url: string (nullable = true)\n |    |    |    |    |-- gists_url: string (nullable = true)\n |    |    |    |    |-- gravatar_id: string (nullable = true)\n |    |    |    |    |-- html_url: string (nullable = true)\n |    |    |    |    |-- id: long (nullable = true)\n |    |    |    |    |-- login: string (nullable = true)\n |    |    |    |    |-- node_id: string (nullable = true)\n |    |    |    |    |-- organizations_url: string (nullable = true)\n |    |    |    |    |-- received_events_url: string (nullable = true)\n |    |    |    |    |-- repos_url: string (nullable = true)\n |    |    |    |    |-- site_admin: boolean (nullable = true)\n |    |    |    |    |-- starred_url: string (nullable = true)\n |    |    |    |    |-- subscriptions_url: string (nullable = true)\n |    |    |    |    |-- type: string (nullable = true)\n |    |    |    |    |-- url: string (nullable = true)\n |    |    |    |-- description: string (nullable = true)\n |    |    |    |-- due_on: string (nullable = true)\n |    |    |    |-- html_url: string (nullable = true)\n |    |    |    |-- id: long (nullable = true)\n |    |    |    |-- labels_url: string (nullable = true)\n |    |    |    |-- node_id: string (nullable = true)\n |    |    |    |-- number: long (nullable = true)\n |    |    |    |-- open_issues: long (nullable = true)\n |    |    |    |-- state: string (nullable = true)\n |    |    |    |-- title: string (nullable = true)\n |    |    |    |-- updated_at: string (nullable = true)\n |    |    |    |-- url: string (nullable = true)\n |    |    |-- node_id: string (nullable = true)\n |    |    |-- number: long (nullable = true)\n |    |    |-- patch_url: string (nullable = true)\n |    |    |-- rebaseable: boolean (nullable = true)\n |    |    |-- requested_reviewers: array (nullable = true)\n |    |    |    |-- element: struct (containsNull = true)\n |    |    |    |    |-- avatar_url: string (nullable = true)\n |    |    |    |    |-- events_url: string (nullable = true)\n |    |    |    |    |-- followers_url: string (nullable = true)\n |    |    |    |    |-- following_url: string (nullable = true)\n |    |    |    |    |-- gists_url: string (nullable = true)\n |    |    |    |    |-- gravatar_id: string (nullable = true)\n |    |    |    |    |-- html_url: string (nullable = true)\n |    |    |    |    |-- id: long (nullable = true)\n |    |    |    |    |-- login: string (nullable = true)\n |    |    |    |    |-- node_id: string (nullable = true)\n |    |    |    |    |-- organizations_url: string (nullable = true)\n |    |    |    |    |-- received_events_url: string (nullable = true)\n |    |    |    |    |-- repos_url: string (nullable = true)\n |    |    |    |    |-- site_admin: boolean (nullable = true)\n |    |    |    |    |-- starred_url: string (nullable = true)\n |    |    |    |    |-- subscriptions_url: string (nullable = true)\n |    |    |    |    |-- type: string (nullable = true)\n |    |    |    |    |-- url: string (nullable = true)\n |    |    |-- requested_teams: array (nullable = true)\n |    |    |    |-- element: struct (containsNull = true)\n |    |    |    |    |-- description: string (nullable = true)\n |    |    |    |    |-- html_url: string (nullable = true)\n |    |    |    |    |-- id: long (nullable = true)\n |    |    |    |    |-- members_url: string (nullable = true)\n |    |    |    |    |-- name: string (nullable = true)\n |    |    |    |    |-- node_id: string (nullable = true)\n |    |    |    |    |-- parent: string (nullable = true)\n |    |    |    |    |-- permission: string (nullable = true)\n |    |    |    |    |-- privacy: string (nullable = true)\n |    |    |    |    |-- repositories_url: string (nullable = true)\n |    |    |    |    |-- slug: string (nullable = true)\n |    |    |    |    |-- url: string (nullable = true)\n |    |    |-- review_comment_url: string (nullable = true)\n |    |    |-- review_comments: long (nullable = true)\n |    |    |-- review_comments_url: string (nullable = true)\n |    |    |-- state: string (nullable = true)\n |    |    |-- statuses_url: string (nullable = true)\n |    |    |-- title: string (nullable = true)\n |    |    |-- updated_at: string (nullable = true)\n |    |    |-- url: string (nullable = true)\n |    |    |-- user: struct (nullable = true)\n |    |    |    |-- avatar_url: string (nullable = true)\n |    |    |    |-- events_url: string (nullable = true)\n |    |    |    |-- followers_url: string (nullable = true)\n |    |    |    |-- following_url: string (nullable = true)\n |    |    |    |-- gists_url: string (nullable = true)\n |    |    |    |-- gravatar_id: string (nullable = true)\n |    |    |    |-- html_url: string (nullable = true)\n |    |    |    |-- id: long (nullable = true)\n |    |    |    |-- login: string (nullable = true)\n |    |    |    |-- node_id: string (nullable = true)\n |    |    |    |-- organizations_url: string (nullable = true)\n |    |    |    |-- received_events_url: string (nullable = true)\n |    |    |    |-- repos_url: string (nullable = true)\n |    |    |    |-- site_admin: boolean (nullable = true)\n |    |    |    |-- starred_url: string (nullable = true)\n |    |    |    |-- subscriptions_url: string (nullable = true)\n |    |    |    |-- type: string (nullable = true)\n |    |    |    |-- url: string (nullable = true)\n |    |-- push_id: long (nullable = true)\n |    |-- pusher_type: string (nullable = true)\n |    |-- ref: string (nullable = true)\n |    |-- ref_type: string (nullable = true)\n |    |-- release: struct (nullable = true)\n |    |    |-- assets: array (nullable = true)\n |    |    |    |-- element: struct (containsNull = true)\n |    |    |    |    |-- browser_download_url: string (nullable = true)\n |    |    |    |    |-- content_type: string (nullable = true)\n |    |    |    |    |-- created_at: string (nullable = true)\n |    |    |    |    |-- download_count: long (nullable = true)\n |    |    |    |    |-- id: long (nullable = true)\n |    |    |    |    |-- label: string (nullable = true)\n |    |    |    |    |-- name: string (nullable = true)\n |    |    |    |    |-- node_id: string (nullable = true)\n |    |    |    |    |-- size: long (nullable = true)\n |    |    |    |    |-- state: string (nullable = true)\n |    |    |    |    |-- updated_at: string (nullable = true)\n |    |    |    |    |-- uploader: struct (nullable = true)\n |    |    |    |    |    |-- avatar_url: string (nullable = true)\n |    |    |    |    |    |-- events_url: string (nullable = true)\n |    |    |    |    |    |-- followers_url: string (nullable = true)\n |    |    |    |    |    |-- following_url: string (nullable = true)\n |    |    |    |    |    |-- gists_url: string (nullable = true)\n |    |    |    |    |    |-- gravatar_id: string (nullable = true)\n |    |    |    |    |    |-- html_url: string (nullable = true)\n |    |    |    |    |    |-- id: long (nullable = true)\n |    |    |    |    |    |-- login: string (nullable = true)\n |    |    |    |    |    |-- node_id: string (nullable = true)\n |    |    |    |    |    |-- organizations_url: string (nullable = true)\n |    |    |    |    |    |-- received_events_url: string (nullable = true)\n |    |    |    |    |    |-- repos_url: string (nullable = true)\n |    |    |    |    |    |-- site_admin: boolean (nullable = true)\n |    |    |    |    |    |-- starred_url: string (nullable = true)\n |    |    |    |    |    |-- subscriptions_url: string (nullable = true)\n |    |    |    |    |    |-- type: string (nullable = true)\n |    |    |    |    |    |-- url: string (nullable = true)\n |    |    |    |    |-- url: string (nullable = true)\n |    |    |-- assets_url: string (nullable = true)\n |    |    |-- author: struct (nullable = true)\n |    |    |    |-- avatar_url: string (nullable = true)\n |    |    |    |-- events_url: string (nullable = true)\n |    |    |    |-- followers_url: string (nullable = true)\n |    |    |    |-- following_url: string (nullable = true)\n |    |    |    |-- gists_url: string (nullable = true)\n |    |    |    |-- gravatar_id: string (nullable = true)\n |    |    |    |-- html_url: string (nullable = true)\n |    |    |    |-- id: long (nullable = true)\n |    |    |    |-- login: string (nullable = true)\n |    |    |    |-- node_id: string (nullable = true)\n |    |    |    |-- organizations_url: string (nullable = true)\n |    |    |    |-- received_events_url: string (nullable = true)\n |    |    |    |-- repos_url: string (nullable = true)\n |    |    |    |-- site_admin: boolean (nullable = true)\n |    |    |    |-- starred_url: string (nullable = true)\n |    |    |    |-- subscriptions_url: string (nullable = true)\n |    |    |    |-- type: string (nullable = true)\n |    |    |    |-- url: string (nullable = true)\n |    |    |-- body: string (nullable = true)\n |    |    |-- created_at: string (nullable = true)\n |    |    |-- discussion_url: string (nullable = true)\n |    |    |-- draft: boolean (nullable = true)\n |    |    |-- html_url: string (nullable = true)\n |    |    |-- id: long (nullable = true)\n |    |    |-- is_short_description_html_truncated: boolean (nullable = true)\n |    |    |-- mentions: array (nullable = true)\n |    |    |    |-- element: struct (containsNull = true)\n |    |    |    |    |-- avatar_url: string (nullable = true)\n |    |    |    |    |-- avatar_user_actor: boolean (nullable = true)\n |    |    |    |    |-- login: string (nullable = true)\n |    |    |    |    |-- profile_name: string (nullable = true)\n |    |    |    |    |-- profile_url: string (nullable = true)\n |    |    |-- mentions_count: long (nullable = true)\n |    |    |-- name: string (nullable = true)\n |    |    |-- node_id: string (nullable = true)\n |    |    |-- prerelease: boolean (nullable = true)\n |    |    |-- published_at: string (nullable = true)\n |    |    |-- reactions: struct (nullable = true)\n |    |    |    |-- +1: long (nullable = true)\n |    |    |    |-- -1: long (nullable = true)\n |    |    |    |-- confused: long (nullable = true)\n |    |    |    |-- eyes: long (nullable = true)\n |    |    |    |-- heart: long (nullable = true)\n |    |    |    |-- hooray: long (nullable = true)\n |    |    |    |-- laugh: long (nullable = true)\n |    |    |    |-- rocket: long (nullable = true)\n |    |    |    |-- total_count: long (nullable = true)\n |    |    |    |-- url: string (nullable = true)\n |    |    |-- short_description_html: string (nullable = true)\n |    |    |-- tag_name: string (nullable = true)\n |    |    |-- tarball_url: string (nullable = true)\n |    |    |-- target_commitish: string (nullable = true)\n |    |    |-- upload_url: string (nullable = true)\n |    |    |-- url: string (nullable = true)\n |    |    |-- zipball_url: string (nullable = true)\n |    |-- repository_id: long (nullable = true)\n |    |-- review: struct (nullable = true)\n |    |    |-- _links: struct (nullable = true)\n |    |    |    |-- html: struct (nullable = true)\n |    |    |    |    |-- href: string (nullable = true)\n |    |    |    |-- pull_request: struct (nullable = true)\n |    |    |    |    |-- href: string (nullable = true)\n |    |    |-- author_association: string (nullable = true)\n |    |    |-- body: string (nullable = true)\n |    |    |-- commit_id: string (nullable = true)\n |    |    |-- html_url: string (nullable = true)\n |    |    |-- id: long (nullable = true)\n |    |    |-- node_id: string (nullable = true)\n |    |    |-- pull_request_url: string (nullable = true)\n |    |    |-- state: string (nullable = true)\n |    |    |-- submitted_at: string (nullable = true)\n |    |    |-- user: struct (nullable = true)\n |    |    |    |-- avatar_url: string (nullable = true)\n |    |    |    |-- events_url: string (nullable = true)\n |    |    |    |-- followers_url: string (nullable = true)\n |    |    |    |-- following_url: string (nullable = true)\n |    |    |    |-- gists_url: string (nullable = true)\n |    |    |    |-- gravatar_id: string (nullable = true)\n |    |    |    |-- html_url: string (nullable = true)\n |    |    |    |-- id: long (nullable = true)\n |    |    |    |-- login: string (nullable = true)\n |    |    |    |-- node_id: string (nullable = true)\n |    |    |    |-- organizations_url: string (nullable = true)\n |    |    |    |-- received_events_url: string (nullable = true)\n |    |    |    |-- repos_url: string (nullable = true)\n |    |    |    |-- site_admin: boolean (nullable = true)\n |    |    |    |-- starred_url: string (nullable = true)\n |    |    |    |-- subscriptions_url: string (nullable = true)\n |    |    |    |-- type: string (nullable = true)\n |    |    |    |-- url: string (nullable = true)\n |    |-- size: long (nullable = true)\n |-- public: boolean (nullable = true)\n |-- repo: struct (nullable = true)\n |    |-- id: long (nullable = true)\n |    |-- name: string (nullable = true)\n |    |-- url: string (nullable = true)\n |-- type: string (nullable = true)\n\n"
     ]
    }
   ],
   "source": [
    "issues_df.printSchema()"
   ]
  },
  {
   "cell_type": "code",
   "execution_count": 0,
   "metadata": {
    "application/vnd.databricks.v1+cell": {
     "cellMetadata": {
      "byteLimit": 2048000,
      "rowLimit": 10000
     },
     "inputWidgets": {},
     "nuid": "49c8d8bc-0e1b-408f-8809-7a3f3ecb8fb2",
     "showTitle": false,
     "title": ""
    }
   },
   "outputs": [],
   "source": [
    "from pyspark.sql.functions import col\n",
    "\n",
    "#chnage to _\n",
    "issues_flat_df = issues_df.select(\n",
    "    col(\"type\"),\n",
    "    col(\"public\"),\n",
    "    col(\"created_at\"),\n",
    "    col(\"payload.action\").alias(\"payload.action\"),\n",
    "    col(\"payload.issue.url\").alias(\"payload.issue.url\"),\n",
    "    col(\"payload.issue.number\").alias(\"payload.issue.number\"),\n",
    "    col(\"payload.issue.title\").alias(\"payload.issue.title\"),\n",
    "    col(\"payload.issue.user.login\").alias(\"payload.issue.user.login\"),\n",
    "    col(\"payload.issue.user.type\").alias(\"payload.issue.user.type\"),\n",
    "    col(\"payload.issue.user.site_admin\").alias(\"payload.issue.user.site_admin\"),\n",
    "    col(\"payload.issue.labels\").alias(\"payload.issue.labels\"),\n",
    "    col(\"payload.issue.state\").alias(\"payload.issue.state\"),\n",
    "    col(\"payload.issue.locked\").alias(\"payload.issue.locked\"),\n",
    "    col(\"payload.issue.comments\").alias(\"payload.issue.comments\"),\n",
    "    col(\"payload.issue.created_at\").alias(\"payload.issue.created_at\"),\n",
    "    col(\"payload.issue.milestone\").alias(\"payload.issue.milestone\"),\n",
    "    col(\"payload.issue.assignee\").alias(\"payload.issue.assignee\"),\n",
    "    col(\"payload.issue.assignees\").alias(\"payload.issue.assignees\"),\n",
    "    col(\"payload.issue.updated_at\").alias(\"payload.issue.updated_at\"),\n",
    "    col(\"payload.issue.closed_at\").alias(\"payload.issue.closed_at\"),\n",
    "    col(\"payload.issue.author_association\").alias(\"payload.issue.author_association\"),\n",
    "    col(\"payload.issue.active_lock_reason\").alias(\"payload.issue.active_lock_reason\"),\n",
    "    col(\"payload.issue.body\").alias(\"payload.issue.body\"),\n",
    "    col(\"payload.issue.performed_via_github_app\").alias(\"payload.issue.performed_via_github_app\"),\n",
    "    col(\"payload.issue.state_reason\").alias(\"payload.issue.state_reason\")\n",
    ")\n"
   ]
  },
  {
   "cell_type": "code",
   "execution_count": 0,
   "metadata": {
    "application/vnd.databricks.v1+cell": {
     "cellMetadata": {
      "byteLimit": 2048000,
      "rowLimit": 10000
     },
     "inputWidgets": {},
     "nuid": "8293b8e6-6a4e-4fbd-9a19-9bf1a2bc6f18",
     "showTitle": false,
     "title": ""
    }
   },
   "outputs": [
    {
     "output_type": "stream",
     "name": "stdout",
     "output_type": "stream",
     "text": [
      "+-----------+------+--------------------+--------------+--------------------+--------------------+--------------------+------------------------+-----------------------+-----------------------------+--------------------+-------------------+--------------------+----------------------+------------------------+-----------------------+----------------------+-----------------------+------------------------+-----------------------+--------------------------------+--------------------------------+--------------------+--------------------------------------+--------------------------+\n|       type|public|          created_at|payload.action|   payload.issue.url|payload.issue.number| payload.issue.title|payload.issue.user.login|payload.issue.user.type|payload.issue.user.site_admin|payload.issue.labels|payload.issue.state|payload.issue.locked|payload.issue.comments|payload.issue.created_at|payload.issue.milestone|payload.issue.assignee|payload.issue.assignees|payload.issue.updated_at|payload.issue.closed_at|payload.issue.author_association|payload.issue.active_lock_reason|  payload.issue.body|payload.issue.performed_via_github_app|payload.issue.state_reason|\n+-----------+------+--------------------+--------------+--------------------+--------------------+--------------------+------------------------+-----------------------+-----------------------------+--------------------+-------------------+--------------------+----------------------+------------------------+-----------------------+----------------------+-----------------------+------------------------+-----------------------+--------------------------------+--------------------------------+--------------------+--------------------------------------+--------------------------+\n|IssuesEvent|  true|2023-04-04T15:00:05Z|        opened|https://api.githu...|                 134|Configure securit...|              cchriss123|                   User|                        false|                  []|               open|               false|                     0|    2023-04-04T14:59:59Z|                   null|                  null|                     []|    2023-04-04T14:59:59Z|                   null|                     CONTRIBUTOR|                            null|                null|                                  null|                      null|\n|IssuesEvent|  true|2023-04-04T15:00:05Z|        opened|https://api.githu...|                 807|.scrollToOffset a...|                 Joplinj|                   User|                        false|                  []|               open|               false|                     0|    2023-04-04T14:59:59Z|                   null|                  null|                     []|    2023-04-04T14:59:59Z|                   null|                            NONE|                            null|Hello\\r\\n\\r\\nIs i...|                                  null|                      null|\n|IssuesEvent|  true|2023-04-04T15:00:05Z|        closed|https://api.githu...|                 208|Fix JavaScript li...|               johnhooks|                   User|                        false|[{168700, false, ...|             closed|               false|                     0|    2023-04-02T00:48:39Z|                   null|  {https://avatars....|   [{https://avatars...|    2023-04-04T14:59:59Z|   2023-04-04T14:59:59Z|                    COLLABORATOR|                            null|The script `lint:...|                                  null|                 completed|\n|IssuesEvent|  true|2023-04-04T15:00:06Z|        closed|https://api.githu...|                 336|added an integrat...|               dogwang94|                   User|                        false|                  []|             closed|               false|                     0|    2023-04-04T14:58:51Z|                   null|                  null|                     []|    2023-04-04T15:00:01Z|   2023-04-04T15:00:01Z|                           OWNER|                            null|The knowlege arti...|                                  null|                 completed|\n|IssuesEvent|  true|2023-04-04T15:00:07Z|        closed|https://api.githu...|                2713|proposal: explici...|                  idoros|                   User|                        false|[{027984, false, ...|             closed|               false|                     4|    2022-09-13T08:16:05Z|                   null|  {https://avatars....|   [{https://avatars...|    2023-04-04T15:00:06Z|   2023-04-04T15:00:06Z|                    COLLABORATOR|                            null|We talked before ...|                                  null|                 completed|\n|IssuesEvent|  true|2023-04-04T15:00:07Z|        opened|https://api.githu...|              147422|          komerso.pl|             adguard-bot|                   User|                        false|[{00ff00, false, ...|               open|               false|                     0|    2023-04-04T15:00:06Z|                   null|                  null|                     []|    2023-04-04T15:00:06Z|                   null|                            NONE|                            null|\\r\\n### Issue URL...|                                  null|                      null|\n|IssuesEvent|  true|2023-04-04T15:00:06Z|        opened|https://api.githu...|                  35|Integration Tests...|          ShashinGounden|                   User|                        false|[{7B2832, false, ...|               open|               false|                     0|    2023-04-04T15:00:05Z|                   null|  {https://avatars....|   [{https://avatars...|    2023-04-04T15:00:06Z|                   null|                    COLLABORATOR|                            null|Please begin and ...|                                  null|                      null|\n|IssuesEvent|  true|2023-04-04T15:00:07Z|        opened|https://api.githu...|                1032|    Fix local search|          andrzej-casper|                   User|                        false|                  []|               open|               false|                     0|    2023-04-04T15:00:06Z|                   null|  {https://avatars....|   [{https://avatars...|    2023-04-04T15:00:07Z|                   null|                    COLLABORATOR|                            null|Once https://gith...|                                  null|                      null|\n|IssuesEvent|  true|2023-04-04T15:00:07Z|        closed|https://api.githu...|                1415|Support: Issues i...|       Pramodamazumdar96|                   User|                        false|[{DACCEC, false, ...|             closed|               false|                     1|    2022-12-13T11:25:41Z|                   null|                  null|                     []|    2023-04-04T15:00:06Z|   2023-04-04T15:00:06Z|                            NONE|                            null|The chart is goin...|                                  null|                 completed|\n|IssuesEvent|  true|2023-04-04T15:00:08Z|        closed|https://api.githu...|                  61|        flatJoin bug|              Farenheith|                   User|                        false|                  []|             closed|               false|                     0|    2023-04-04T03:28:08Z|                   null|                  null|                     []|    2023-04-04T15:00:07Z|   2023-04-04T15:00:07Z|                          MEMBER|                            null|A flatJoin with o...|                                  null|                 completed|\n|IssuesEvent|  true|2023-04-04T15:00:11Z|        opened|https://api.githu...|                 339|Consider change \"...|               koperagen|                   User|                        false|                  []|               open|               false|                     0|    2023-04-04T15:00:11Z|                   null|                  null|                     []|    2023-04-04T15:00:11Z|                   null|                    COLLABORATOR|                            null|Right now diff ca...|                                  null|                      null|\n|IssuesEvent|  true|2023-04-04T15:00:13Z|        opened|https://api.githu...|                 223|Is it possible to...|                  ltpitt|                   User|                        false|                  []|               open|               false|                     0|    2023-04-04T15:00:13Z|                   null|                  null|                     []|    2023-04-04T15:00:13Z|                   null|                            NONE|                            null|I would like to m...|                                  null|                      null|\n|IssuesEvent|  true|2023-04-04T15:00:13Z|        closed|https://api.githu...|                 484|add badge to plan...|                  Fiehra|                   User|                        false|[{84b6eb, true, n...|             closed|               false|                     0|    2023-02-21T15:22:30Z|                   null|                  null|                     []|    2023-04-04T15:00:13Z|   2023-04-04T15:00:13Z|                    COLLABORATOR|                            null|                null|                                  null|                 completed|\n|IssuesEvent|  true|2023-04-04T15:00:14Z|        opened|https://api.githu...|                 296|[ BUG ] Get-Falco...|                   Tibap|                   User|                        false|[{d73a4a, true, S...|               open|               false|                     0|    2023-04-04T15:00:13Z|                   null|  {https://avatars....|   [{https://avatars...|    2023-04-04T15:00:13Z|                   null|                            NONE|                            null|**Describe the bu...|                                  null|                      null|\n|IssuesEvent|  true|2023-04-04T15:00:16Z|        closed|https://api.githu...|                 262|rescue('backward'...|          lightbluepoppy|                   User|                        false|                  []|             closed|               false|                     3|    2022-10-07T23:34:38Z|                   null|                  null|                     []|    2023-04-04T15:00:15Z|   2023-04-04T15:00:15Z|                            NONE|                            null|<!--\\r\\n⚠️ PLEASE...|                                  null|                 completed|\n|IssuesEvent|  true|2023-04-04T15:00:18Z|        opened|https://api.githu...|                3434|    [REQ] komerso.pl|            OhMyGuus-Bot|                   User|                        false|[{55F8A0, false, ...|               open|               false|                     0|    2023-04-04T15:00:15Z|                   null|  {https://avatars....|   [{https://avatars...|    2023-04-04T15:00:17Z|                   null|                    COLLABORATOR|                            null|Someone reported ...|                                  null|                      null|\n|IssuesEvent|  true|2023-04-04T15:00:19Z|        closed|https://api.githu...|                  18|🛑 IsoAnalytics i...|                  zhanxw|                   User|                        false|[{ededed, false, ...|             closed|               false|                     1|    2023-03-23T14:32:43Z|                   null|                  null|                     []|    2023-04-04T15:00:19Z|   2023-04-04T15:00:19Z|                           OWNER|                            null|In [`a9d9579`](ht...|                                  null|                 completed|\n|IssuesEvent|  true|2023-04-04T15:00:20Z|        opened|https://api.githu...|             1411920|Handcrafted Rubbe...|                  pddemo|                   User|                        false|                  []|               open|               false|                     0|    2023-04-04T15:00:19Z|                   null|                  null|                     []|    2023-04-04T15:00:19Z|                   null|                           OWNER|                            null|                null|                                  null|                      null|\n|IssuesEvent|  true|2023-04-04T15:00:20Z|        opened|https://api.githu...|                 153|  Breaking the table|            relaxedricky|                   User|                        false|                  []|               open|               false|                     0|    2023-04-04T15:00:20Z|                   null|                  null|                     []|    2023-04-04T15:00:20Z|                   null|                            NONE|                            null|Erm, so I found a...|                                  null|                      null|\n|IssuesEvent|  true|2023-04-04T15:00:20Z|        closed|https://api.githu...|               20770|Spyder Internal P...|           PhilipYip1988|                   User|                        false|                  []|             closed|               false|                     1|    2023-04-04T09:47:31Z|                   null|                  null|                     []|    2023-04-04T15:00:20Z|   2023-04-04T15:00:19Z|                            NONE|                            null|## Problem Descri...|                                  null|                 completed|\n+-----------+------+--------------------+--------------+--------------------+--------------------+--------------------+------------------------+-----------------------+-----------------------------+--------------------+-------------------+--------------------+----------------------+------------------------+-----------------------+----------------------+-----------------------+------------------------+-----------------------+--------------------------------+--------------------------------+--------------------+--------------------------------------+--------------------------+\nonly showing top 20 rows\n\n"
     ]
    }
   ],
   "source": [
    "issues_flat_df.show()"
   ]
  },
  {
   "cell_type": "code",
   "execution_count": 0,
   "metadata": {
    "application/vnd.databricks.v1+cell": {
     "cellMetadata": {
      "byteLimit": 2048000,
      "rowLimit": 10000
     },
     "inputWidgets": {},
     "nuid": "0edf78ec-3ad0-4b01-9be1-075c8de79965",
     "showTitle": false,
     "title": ""
    }
   },
   "outputs": [],
   "source": [
    "rm -rf cache.parquet/"
   ]
  },
  {
   "cell_type": "code",
   "execution_count": 0,
   "metadata": {
    "application/vnd.databricks.v1+cell": {
     "cellMetadata": {
      "byteLimit": 2048000,
      "rowLimit": 10000
     },
     "inputWidgets": {},
     "nuid": "29271386-0fbe-44bb-a287-86ff8d35613a",
     "showTitle": false,
     "title": ""
    }
   },
   "outputs": [],
   "source": [
    "issues_flat_df.coalesce(1).write.parquet(\"file:///databricks/driver/cache.parquet\")"
   ]
  },
  {
   "cell_type": "code",
   "execution_count": 0,
   "metadata": {
    "application/vnd.databricks.v1+cell": {
     "cellMetadata": {
      "byteLimit": 2048000,
      "rowLimit": 10000
     },
     "inputWidgets": {},
     "nuid": "48143f9c-94ea-4aba-ad4b-4814d0aab68b",
     "showTitle": false,
     "title": ""
    }
   },
   "outputs": [
    {
     "output_type": "stream",
     "name": "stdout",
     "output_type": "stream",
     "text": [
      "_SUCCESS\r\n_committed_6997944386556026633\r\n_started_6997944386556026633\r\npart-00000-tid-6997944386556026633-974c803f-e6a1-420a-9bba-8a7a0d066e7a-146-1-c000.snappy.parquet\r\n"
     ]
    }
   ],
   "source": [
    "ls cache.parquet/"
   ]
  },
  {
   "cell_type": "code",
   "execution_count": 0,
   "metadata": {
    "application/vnd.databricks.v1+cell": {
     "cellMetadata": {
      "byteLimit": 2048000,
      "rowLimit": 10000
     },
     "inputWidgets": {},
     "nuid": "27ecef02-5337-46cd-b186-cc22bdf76131",
     "showTitle": false,
     "title": ""
    }
   },
   "outputs": [],
   "source": [
    "from pathlib import Path\n",
    "\n",
    "folder_path = \"/databricks/driver/cache.parquet/\"\n",
    "folder = Path(folder_path)\n",
    "parquet_files = folder.glob(\"*.parquet\")\n",
    "connection_string = \"DefaultEndpointsProtocol=https;AccountName=pod4projectstorage;AccountKey=2hClDrVPLGX4QBDBk8OylAkHqczIQfDja66Yl488rmj/0+vb+CAzOxL5qMe5XyM9ZupgwveVRm3N+AStriO5vg==;EndpointSuffix=core.windows.net\"\n",
    "container_name = \"data\"\n",
    "blob_name = \"issues.snappy.parquet\"\n",
    "for File in parquet_files:\n",
    "    upload_to_blob_storage(connection_string, container_name, File, blob_name)"
   ]
  },
  {
   "cell_type": "code",
   "execution_count": 0,
   "metadata": {
    "application/vnd.databricks.v1+cell": {
     "cellMetadata": {
      "byteLimit": 2048000,
      "rowLimit": 10000
     },
     "inputWidgets": {},
     "nuid": "0f8e59fd-a8c8-49bd-89ab-cf12c555971b",
     "showTitle": false,
     "title": ""
    }
   },
   "outputs": [
    {
     "output_type": "stream",
     "name": "stdout",
     "output_type": "stream",
     "text": [
      "+-----------+------+--------------------+--------------+--------------------+--------------------+--------------------+------------------------+-----------------------+-----------------------------+--------------------+-------------------+--------------------+----------------------+------------------------+-----------------------+----------------------+-----------------------+------------------------+-----------------------+--------------------------------+--------------------------------+--------------------+--------------------------------------+--------------------------+\n|       type|public|          created_at|payload.action|   payload.issue.url|payload.issue.number| payload.issue.title|payload.issue.user.login|payload.issue.user.type|payload.issue.user.site_admin|payload.issue.labels|payload.issue.state|payload.issue.locked|payload.issue.comments|payload.issue.created_at|payload.issue.milestone|payload.issue.assignee|payload.issue.assignees|payload.issue.updated_at|payload.issue.closed_at|payload.issue.author_association|payload.issue.active_lock_reason|  payload.issue.body|payload.issue.performed_via_github_app|payload.issue.state_reason|\n+-----------+------+--------------------+--------------+--------------------+--------------------+--------------------+------------------------+-----------------------+-----------------------------+--------------------+-------------------+--------------------+----------------------+------------------------+-----------------------+----------------------+-----------------------+------------------------+-----------------------+--------------------------------+--------------------------------+--------------------+--------------------------------------+--------------------------+\n|IssuesEvent|  true|2023-04-04T15:00:05Z|        opened|https://api.githu...|                 134|Configure securit...|              cchriss123|                   User|                        false|                  []|               open|               false|                     0|    2023-04-04T14:59:59Z|                   null|                  null|                     []|    2023-04-04T14:59:59Z|                   null|                     CONTRIBUTOR|                            null|                null|                                  null|                      null|\n|IssuesEvent|  true|2023-04-04T15:00:05Z|        opened|https://api.githu...|                 807|.scrollToOffset a...|                 Joplinj|                   User|                        false|                  []|               open|               false|                     0|    2023-04-04T14:59:59Z|                   null|                  null|                     []|    2023-04-04T14:59:59Z|                   null|                            NONE|                            null|Hello\\r\\n\\r\\nIs i...|                                  null|                      null|\n|IssuesEvent|  true|2023-04-04T15:00:05Z|        closed|https://api.githu...|                 208|Fix JavaScript li...|               johnhooks|                   User|                        false|[{168700, false, ...|             closed|               false|                     0|    2023-04-02T00:48:39Z|                   null|  {https://avatars....|   [{https://avatars...|    2023-04-04T14:59:59Z|   2023-04-04T14:59:59Z|                    COLLABORATOR|                            null|The script `lint:...|                                  null|                 completed|\n|IssuesEvent|  true|2023-04-04T15:00:06Z|        closed|https://api.githu...|                 336|added an integrat...|               dogwang94|                   User|                        false|                  []|             closed|               false|                     0|    2023-04-04T14:58:51Z|                   null|                  null|                     []|    2023-04-04T15:00:01Z|   2023-04-04T15:00:01Z|                           OWNER|                            null|The knowlege arti...|                                  null|                 completed|\n|IssuesEvent|  true|2023-04-04T15:00:07Z|        closed|https://api.githu...|                2713|proposal: explici...|                  idoros|                   User|                        false|[{027984, false, ...|             closed|               false|                     4|    2022-09-13T08:16:05Z|                   null|  {https://avatars....|   [{https://avatars...|    2023-04-04T15:00:06Z|   2023-04-04T15:00:06Z|                    COLLABORATOR|                            null|We talked before ...|                                  null|                 completed|\n|IssuesEvent|  true|2023-04-04T15:00:07Z|        opened|https://api.githu...|              147422|          komerso.pl|             adguard-bot|                   User|                        false|[{00ff00, false, ...|               open|               false|                     0|    2023-04-04T15:00:06Z|                   null|                  null|                     []|    2023-04-04T15:00:06Z|                   null|                            NONE|                            null|\\r\\n### Issue URL...|                                  null|                      null|\n|IssuesEvent|  true|2023-04-04T15:00:06Z|        opened|https://api.githu...|                  35|Integration Tests...|          ShashinGounden|                   User|                        false|[{7B2832, false, ...|               open|               false|                     0|    2023-04-04T15:00:05Z|                   null|  {https://avatars....|   [{https://avatars...|    2023-04-04T15:00:06Z|                   null|                    COLLABORATOR|                            null|Please begin and ...|                                  null|                      null|\n|IssuesEvent|  true|2023-04-04T15:00:07Z|        opened|https://api.githu...|                1032|    Fix local search|          andrzej-casper|                   User|                        false|                  []|               open|               false|                     0|    2023-04-04T15:00:06Z|                   null|  {https://avatars....|   [{https://avatars...|    2023-04-04T15:00:07Z|                   null|                    COLLABORATOR|                            null|Once https://gith...|                                  null|                      null|\n|IssuesEvent|  true|2023-04-04T15:00:07Z|        closed|https://api.githu...|                1415|Support: Issues i...|       Pramodamazumdar96|                   User|                        false|[{DACCEC, false, ...|             closed|               false|                     1|    2022-12-13T11:25:41Z|                   null|                  null|                     []|    2023-04-04T15:00:06Z|   2023-04-04T15:00:06Z|                            NONE|                            null|The chart is goin...|                                  null|                 completed|\n|IssuesEvent|  true|2023-04-04T15:00:08Z|        closed|https://api.githu...|                  61|        flatJoin bug|              Farenheith|                   User|                        false|                  []|             closed|               false|                     0|    2023-04-04T03:28:08Z|                   null|                  null|                     []|    2023-04-04T15:00:07Z|   2023-04-04T15:00:07Z|                          MEMBER|                            null|A flatJoin with o...|                                  null|                 completed|\n|IssuesEvent|  true|2023-04-04T15:00:11Z|        opened|https://api.githu...|                 339|Consider change \"...|               koperagen|                   User|                        false|                  []|               open|               false|                     0|    2023-04-04T15:00:11Z|                   null|                  null|                     []|    2023-04-04T15:00:11Z|                   null|                    COLLABORATOR|                            null|Right now diff ca...|                                  null|                      null|\n|IssuesEvent|  true|2023-04-04T15:00:13Z|        opened|https://api.githu...|                 223|Is it possible to...|                  ltpitt|                   User|                        false|                  []|               open|               false|                     0|    2023-04-04T15:00:13Z|                   null|                  null|                     []|    2023-04-04T15:00:13Z|                   null|                            NONE|                            null|I would like to m...|                                  null|                      null|\n|IssuesEvent|  true|2023-04-04T15:00:13Z|        closed|https://api.githu...|                 484|add badge to plan...|                  Fiehra|                   User|                        false|[{84b6eb, true, n...|             closed|               false|                     0|    2023-02-21T15:22:30Z|                   null|                  null|                     []|    2023-04-04T15:00:13Z|   2023-04-04T15:00:13Z|                    COLLABORATOR|                            null|                null|                                  null|                 completed|\n|IssuesEvent|  true|2023-04-04T15:00:14Z|        opened|https://api.githu...|                 296|[ BUG ] Get-Falco...|                   Tibap|                   User|                        false|[{d73a4a, true, S...|               open|               false|                     0|    2023-04-04T15:00:13Z|                   null|  {https://avatars....|   [{https://avatars...|    2023-04-04T15:00:13Z|                   null|                            NONE|                            null|**Describe the bu...|                                  null|                      null|\n|IssuesEvent|  true|2023-04-04T15:00:16Z|        closed|https://api.githu...|                 262|rescue('backward'...|          lightbluepoppy|                   User|                        false|                  []|             closed|               false|                     3|    2022-10-07T23:34:38Z|                   null|                  null|                     []|    2023-04-04T15:00:15Z|   2023-04-04T15:00:15Z|                            NONE|                            null|<!--\\r\\n⚠️ PLEASE...|                                  null|                 completed|\n|IssuesEvent|  true|2023-04-04T15:00:18Z|        opened|https://api.githu...|                3434|    [REQ] komerso.pl|            OhMyGuus-Bot|                   User|                        false|[{55F8A0, false, ...|               open|               false|                     0|    2023-04-04T15:00:15Z|                   null|  {https://avatars....|   [{https://avatars...|    2023-04-04T15:00:17Z|                   null|                    COLLABORATOR|                            null|Someone reported ...|                                  null|                      null|\n|IssuesEvent|  true|2023-04-04T15:00:19Z|        closed|https://api.githu...|                  18|🛑 IsoAnalytics i...|                  zhanxw|                   User|                        false|[{ededed, false, ...|             closed|               false|                     1|    2023-03-23T14:32:43Z|                   null|                  null|                     []|    2023-04-04T15:00:19Z|   2023-04-04T15:00:19Z|                           OWNER|                            null|In [`a9d9579`](ht...|                                  null|                 completed|\n|IssuesEvent|  true|2023-04-04T15:00:20Z|        opened|https://api.githu...|             1411920|Handcrafted Rubbe...|                  pddemo|                   User|                        false|                  []|               open|               false|                     0|    2023-04-04T15:00:19Z|                   null|                  null|                     []|    2023-04-04T15:00:19Z|                   null|                           OWNER|                            null|                null|                                  null|                      null|\n|IssuesEvent|  true|2023-04-04T15:00:20Z|        opened|https://api.githu...|                 153|  Breaking the table|            relaxedricky|                   User|                        false|                  []|               open|               false|                     0|    2023-04-04T15:00:20Z|                   null|                  null|                     []|    2023-04-04T15:00:20Z|                   null|                            NONE|                            null|Erm, so I found a...|                                  null|                      null|\n|IssuesEvent|  true|2023-04-04T15:00:20Z|        closed|https://api.githu...|               20770|Spyder Internal P...|           PhilipYip1988|                   User|                        false|                  []|             closed|               false|                     1|    2023-04-04T09:47:31Z|                   null|                  null|                     []|    2023-04-04T15:00:20Z|   2023-04-04T15:00:19Z|                            NONE|                            null|## Problem Descri...|                                  null|                 completed|\n+-----------+------+--------------------+--------------+--------------------+--------------------+--------------------+------------------------+-----------------------+-----------------------------+--------------------+-------------------+--------------------+----------------------+------------------------+-----------------------+----------------------+-----------------------+------------------------+-----------------------+--------------------------------+--------------------------------+--------------------+--------------------------------------+--------------------------+\nonly showing top 20 rows\n\n"
     ]
    }
   ],
   "source": [
    "data = spark.read.parquet('file:///databricks/driver/cache.parquet/part-00000-tid-6997944386556026633-974c803f-e6a1-420a-9bba-8a7a0d066e7a-146-1-c000.snappy.parquet')\n",
    "data.show()"
   ]
  },
  {
   "cell_type": "code",
   "execution_count": 0,
   "metadata": {
    "application/vnd.databricks.v1+cell": {
     "cellMetadata": {
      "byteLimit": 2048000,
      "rowLimit": 10000
     },
     "inputWidgets": {},
     "nuid": "d50641ca-f013-45cb-a977-70dc18559ca9",
     "showTitle": false,
     "title": ""
    }
   },
   "outputs": [
    {
     "output_type": "stream",
     "name": "stdout",
     "output_type": "stream",
     "text": [
      "Python interpreter will be restarted.\nCollecting fsspec\n  Downloading fsspec-2023.6.0-py3-none-any.whl (163 kB)\nInstalling collected packages: fsspec\nSuccessfully installed fsspec-2023.6.0\nPython interpreter will be restarted.\n"
     ]
    }
   ],
   "source": [
    "pip install fsspec"
   ]
  },
  {
   "cell_type": "code",
   "execution_count": 0,
   "metadata": {
    "application/vnd.databricks.v1+cell": {
     "cellMetadata": {
      "byteLimit": 2048000,
      "rowLimit": 10000
     },
     "inputWidgets": {},
     "nuid": "9170a9e9-30d6-4746-bbc6-9c97570f0a12",
     "showTitle": false,
     "title": ""
    }
   },
   "outputs": [
    {
     "output_type": "display_data",
     "data": {
      "text/html": [
       "<div>\n",
       "<style scoped>\n",
       "    .dataframe tbody tr th:only-of-type {\n",
       "        vertical-align: middle;\n",
       "    }\n",
       "\n",
       "    .dataframe tbody tr th {\n",
       "        vertical-align: top;\n",
       "    }\n",
       "\n",
       "    .dataframe thead th {\n",
       "        text-align: right;\n",
       "    }\n",
       "</style>\n",
       "<table border=\"1\" class=\"dataframe\">\n",
       "  <thead>\n",
       "    <tr style=\"text-align: right;\">\n",
       "      <th></th>\n",
       "      <th>type</th>\n",
       "      <th>public</th>\n",
       "      <th>created_at</th>\n",
       "      <th>payload.action</th>\n",
       "      <th>payload.issue.url</th>\n",
       "      <th>payload.issue.number</th>\n",
       "      <th>payload.issue.title</th>\n",
       "      <th>payload.issue.user.login</th>\n",
       "      <th>payload.issue.user.type</th>\n",
       "      <th>payload.issue.user.site_admin</th>\n",
       "      <th>payload.issue.labels</th>\n",
       "      <th>payload.issue.state</th>\n",
       "      <th>payload.issue.locked</th>\n",
       "      <th>payload.issue.comments</th>\n",
       "      <th>payload.issue.created_at</th>\n",
       "      <th>payload.issue.milestone</th>\n",
       "      <th>payload.issue.assignee</th>\n",
       "      <th>payload.issue.assignees</th>\n",
       "      <th>payload.issue.updated_at</th>\n",
       "      <th>payload.issue.closed_at</th>\n",
       "      <th>payload.issue.author_association</th>\n",
       "      <th>payload.issue.active_lock_reason</th>\n",
       "      <th>payload.issue.body</th>\n",
       "      <th>payload.issue.performed_via_github_app</th>\n",
       "      <th>payload.issue.state_reason</th>\n",
       "    </tr>\n",
       "  </thead>\n",
       "  <tbody>\n",
       "    <tr>\n",
       "      <th>0</th>\n",
       "      <td>IssuesEvent</td>\n",
       "      <td>True</td>\n",
       "      <td>2023-04-04T15:00:05Z</td>\n",
       "      <td>opened</td>\n",
       "      <td>https://api.github.com/repos/labtwogroupf/worl...</td>\n",
       "      <td>134</td>\n",
       "      <td>Configure security to support new end points</td>\n",
       "      <td>cchriss123</td>\n",
       "      <td>User</td>\n",
       "      <td>False</td>\n",
       "      <td>[]</td>\n",
       "      <td>open</td>\n",
       "      <td>False</td>\n",
       "      <td>0</td>\n",
       "      <td>2023-04-04T14:59:59Z</td>\n",
       "      <td>None</td>\n",
       "      <td>None</td>\n",
       "      <td>[]</td>\n",
       "      <td>2023-04-04T14:59:59Z</td>\n",
       "      <td>None</td>\n",
       "      <td>CONTRIBUTOR</td>\n",
       "      <td>None</td>\n",
       "      <td>None</td>\n",
       "      <td>None</td>\n",
       "      <td>None</td>\n",
       "    </tr>\n",
       "    <tr>\n",
       "      <th>1</th>\n",
       "      <td>IssuesEvent</td>\n",
       "      <td>True</td>\n",
       "      <td>2023-04-04T15:00:05Z</td>\n",
       "      <td>opened</td>\n",
       "      <td>https://api.github.com/repos/Shopify/flash-lis...</td>\n",
       "      <td>807</td>\n",
       "      <td>.scrollToOffset animation control</td>\n",
       "      <td>Joplinj</td>\n",
       "      <td>User</td>\n",
       "      <td>False</td>\n",
       "      <td>[]</td>\n",
       "      <td>open</td>\n",
       "      <td>False</td>\n",
       "      <td>0</td>\n",
       "      <td>2023-04-04T14:59:59Z</td>\n",
       "      <td>None</td>\n",
       "      <td>None</td>\n",
       "      <td>[]</td>\n",
       "      <td>2023-04-04T14:59:59Z</td>\n",
       "      <td>None</td>\n",
       "      <td>NONE</td>\n",
       "      <td>None</td>\n",
       "      <td>Hello\\r\\n\\r\\nIs it possible to use the method ...</td>\n",
       "      <td>None</td>\n",
       "      <td>None</td>\n",
       "    </tr>\n",
       "    <tr>\n",
       "      <th>2</th>\n",
       "      <td>IssuesEvent</td>\n",
       "      <td>True</td>\n",
       "      <td>2023-04-04T15:00:05Z</td>\n",
       "      <td>closed</td>\n",
       "      <td>https://api.github.com/repos/WordPress/wp-feat...</td>\n",
       "      <td>208</td>\n",
       "      <td>Fix JavaScript linting issues</td>\n",
       "      <td>johnhooks</td>\n",
       "      <td>User</td>\n",
       "      <td>False</td>\n",
       "      <td>[{'color': '168700', 'default': False, 'descri...</td>\n",
       "      <td>closed</td>\n",
       "      <td>False</td>\n",
       "      <td>0</td>\n",
       "      <td>2023-04-02T00:48:39Z</td>\n",
       "      <td>None</td>\n",
       "      <td>{'avatar_url': 'https://avatars.githubusercont...</td>\n",
       "      <td>[{'avatar_url': 'https://avatars.githubusercon...</td>\n",
       "      <td>2023-04-04T14:59:59Z</td>\n",
       "      <td>2023-04-04T14:59:59Z</td>\n",
       "      <td>COLLABORATOR</td>\n",
       "      <td>None</td>\n",
       "      <td>The script `lint:js` currently has 22 errors, ...</td>\n",
       "      <td>None</td>\n",
       "      <td>completed</td>\n",
       "    </tr>\n",
       "    <tr>\n",
       "      <th>3</th>\n",
       "      <td>IssuesEvent</td>\n",
       "      <td>True</td>\n",
       "      <td>2023-04-04T15:00:06Z</td>\n",
       "      <td>closed</td>\n",
       "      <td>https://api.github.com/repos/dogwang94/dogwang...</td>\n",
       "      <td>336</td>\n",
       "      <td>added an integration to this channel: &lt;https:/...</td>\n",
       "      <td>dogwang94</td>\n",
       "      <td>User</td>\n",
       "      <td>False</td>\n",
       "      <td>[]</td>\n",
       "      <td>closed</td>\n",
       "      <td>False</td>\n",
       "      <td>0</td>\n",
       "      <td>2023-04-04T14:58:51Z</td>\n",
       "      <td>None</td>\n",
       "      <td>None</td>\n",
       "      <td>[]</td>\n",
       "      <td>2023-04-04T15:00:01Z</td>\n",
       "      <td>2023-04-04T15:00:01Z</td>\n",
       "      <td>OWNER</td>\n",
       "      <td>None</td>\n",
       "      <td>The knowlege article is sent.</td>\n",
       "      <td>None</td>\n",
       "      <td>completed</td>\n",
       "    </tr>\n",
       "    <tr>\n",
       "      <th>4</th>\n",
       "      <td>IssuesEvent</td>\n",
       "      <td>True</td>\n",
       "      <td>2023-04-04T15:00:07Z</td>\n",
       "      <td>closed</td>\n",
       "      <td>https://api.github.com/repos/wix/stylable/issu...</td>\n",
       "      <td>2713</td>\n",
       "      <td>proposal: explicit custom-pseudo-element defin...</td>\n",
       "      <td>idoros</td>\n",
       "      <td>User</td>\n",
       "      <td>False</td>\n",
       "      <td>[{'color': '027984', 'default': False, 'descri...</td>\n",
       "      <td>closed</td>\n",
       "      <td>False</td>\n",
       "      <td>4</td>\n",
       "      <td>2022-09-13T08:16:05Z</td>\n",
       "      <td>None</td>\n",
       "      <td>{'avatar_url': 'https://avatars.githubusercont...</td>\n",
       "      <td>[{'avatar_url': 'https://avatars.githubusercon...</td>\n",
       "      <td>2023-04-04T15:00:06Z</td>\n",
       "      <td>2023-04-04T15:00:06Z</td>\n",
       "      <td>COLLABORATOR</td>\n",
       "      <td>None</td>\n",
       "      <td>We talked before (internally) about semantic p...</td>\n",
       "      <td>None</td>\n",
       "      <td>completed</td>\n",
       "    </tr>\n",
       "  </tbody>\n",
       "</table>\n",
       "</div>"
      ]
     },
     "metadata": {
      "application/vnd.databricks.v1+output": {
       "addedWidgets": {},
       "arguments": {},
       "data": "<div>\n<style scoped>\n    .dataframe tbody tr th:only-of-type {\n        vertical-align: middle;\n    }\n\n    .dataframe tbody tr th {\n        vertical-align: top;\n    }\n\n    .dataframe thead th {\n        text-align: right;\n    }\n</style>\n<table border=\"1\" class=\"dataframe\">\n  <thead>\n    <tr style=\"text-align: right;\">\n      <th></th>\n      <th>type</th>\n      <th>public</th>\n      <th>created_at</th>\n      <th>payload.action</th>\n      <th>payload.issue.url</th>\n      <th>payload.issue.number</th>\n      <th>payload.issue.title</th>\n      <th>payload.issue.user.login</th>\n      <th>payload.issue.user.type</th>\n      <th>payload.issue.user.site_admin</th>\n      <th>payload.issue.labels</th>\n      <th>payload.issue.state</th>\n      <th>payload.issue.locked</th>\n      <th>payload.issue.comments</th>\n      <th>payload.issue.created_at</th>\n      <th>payload.issue.milestone</th>\n      <th>payload.issue.assignee</th>\n      <th>payload.issue.assignees</th>\n      <th>payload.issue.updated_at</th>\n      <th>payload.issue.closed_at</th>\n      <th>payload.issue.author_association</th>\n      <th>payload.issue.active_lock_reason</th>\n      <th>payload.issue.body</th>\n      <th>payload.issue.performed_via_github_app</th>\n      <th>payload.issue.state_reason</th>\n    </tr>\n  </thead>\n  <tbody>\n    <tr>\n      <th>0</th>\n      <td>IssuesEvent</td>\n      <td>True</td>\n      <td>2023-04-04T15:00:05Z</td>\n      <td>opened</td>\n      <td>https://api.github.com/repos/labtwogroupf/worl...</td>\n      <td>134</td>\n      <td>Configure security to support new end points</td>\n      <td>cchriss123</td>\n      <td>User</td>\n      <td>False</td>\n      <td>[]</td>\n      <td>open</td>\n      <td>False</td>\n      <td>0</td>\n      <td>2023-04-04T14:59:59Z</td>\n      <td>None</td>\n      <td>None</td>\n      <td>[]</td>\n      <td>2023-04-04T14:59:59Z</td>\n      <td>None</td>\n      <td>CONTRIBUTOR</td>\n      <td>None</td>\n      <td>None</td>\n      <td>None</td>\n      <td>None</td>\n    </tr>\n    <tr>\n      <th>1</th>\n      <td>IssuesEvent</td>\n      <td>True</td>\n      <td>2023-04-04T15:00:05Z</td>\n      <td>opened</td>\n      <td>https://api.github.com/repos/Shopify/flash-lis...</td>\n      <td>807</td>\n      <td>.scrollToOffset animation control</td>\n      <td>Joplinj</td>\n      <td>User</td>\n      <td>False</td>\n      <td>[]</td>\n      <td>open</td>\n      <td>False</td>\n      <td>0</td>\n      <td>2023-04-04T14:59:59Z</td>\n      <td>None</td>\n      <td>None</td>\n      <td>[]</td>\n      <td>2023-04-04T14:59:59Z</td>\n      <td>None</td>\n      <td>NONE</td>\n      <td>None</td>\n      <td>Hello\\r\\n\\r\\nIs it possible to use the method ...</td>\n      <td>None</td>\n      <td>None</td>\n    </tr>\n    <tr>\n      <th>2</th>\n      <td>IssuesEvent</td>\n      <td>True</td>\n      <td>2023-04-04T15:00:05Z</td>\n      <td>closed</td>\n      <td>https://api.github.com/repos/WordPress/wp-feat...</td>\n      <td>208</td>\n      <td>Fix JavaScript linting issues</td>\n      <td>johnhooks</td>\n      <td>User</td>\n      <td>False</td>\n      <td>[{'color': '168700', 'default': False, 'descri...</td>\n      <td>closed</td>\n      <td>False</td>\n      <td>0</td>\n      <td>2023-04-02T00:48:39Z</td>\n      <td>None</td>\n      <td>{'avatar_url': 'https://avatars.githubusercont...</td>\n      <td>[{'avatar_url': 'https://avatars.githubusercon...</td>\n      <td>2023-04-04T14:59:59Z</td>\n      <td>2023-04-04T14:59:59Z</td>\n      <td>COLLABORATOR</td>\n      <td>None</td>\n      <td>The script `lint:js` currently has 22 errors, ...</td>\n      <td>None</td>\n      <td>completed</td>\n    </tr>\n    <tr>\n      <th>3</th>\n      <td>IssuesEvent</td>\n      <td>True</td>\n      <td>2023-04-04T15:00:06Z</td>\n      <td>closed</td>\n      <td>https://api.github.com/repos/dogwang94/dogwang...</td>\n      <td>336</td>\n      <td>added an integration to this channel: &lt;https:/...</td>\n      <td>dogwang94</td>\n      <td>User</td>\n      <td>False</td>\n      <td>[]</td>\n      <td>closed</td>\n      <td>False</td>\n      <td>0</td>\n      <td>2023-04-04T14:58:51Z</td>\n      <td>None</td>\n      <td>None</td>\n      <td>[]</td>\n      <td>2023-04-04T15:00:01Z</td>\n      <td>2023-04-04T15:00:01Z</td>\n      <td>OWNER</td>\n      <td>None</td>\n      <td>The knowlege article is sent.</td>\n      <td>None</td>\n      <td>completed</td>\n    </tr>\n    <tr>\n      <th>4</th>\n      <td>IssuesEvent</td>\n      <td>True</td>\n      <td>2023-04-04T15:00:07Z</td>\n      <td>closed</td>\n      <td>https://api.github.com/repos/wix/stylable/issu...</td>\n      <td>2713</td>\n      <td>proposal: explicit custom-pseudo-element defin...</td>\n      <td>idoros</td>\n      <td>User</td>\n      <td>False</td>\n      <td>[{'color': '027984', 'default': False, 'descri...</td>\n      <td>closed</td>\n      <td>False</td>\n      <td>4</td>\n      <td>2022-09-13T08:16:05Z</td>\n      <td>None</td>\n      <td>{'avatar_url': 'https://avatars.githubusercont...</td>\n      <td>[{'avatar_url': 'https://avatars.githubusercon...</td>\n      <td>2023-04-04T15:00:06Z</td>\n      <td>2023-04-04T15:00:06Z</td>\n      <td>COLLABORATOR</td>\n      <td>None</td>\n      <td>We talked before (internally) about semantic p...</td>\n      <td>None</td>\n      <td>completed</td>\n    </tr>\n  </tbody>\n</table>\n</div>",
       "datasetInfos": [],
       "metadata": {},
       "removedWidgets": [],
       "textData": null,
       "type": "htmlSandbox"
      }
     },
     "output_type": "display_data"
    }
   ],
   "source": [
    "data_pd = pd.read_parquet('file:///databricks/driver/cache.parquet/part-00000-tid-6997944386556026633-974c803f-e6a1-420a-9bba-8a7a0d066e7a-146-1-c000.snappy.parquet')\n",
    "data_pd.head()\n",
    "# .apply() -> column (lambda)"
   ]
  },
  {
   "cell_type": "code",
   "execution_count": 0,
   "metadata": {
    "application/vnd.databricks.v1+cell": {
     "cellMetadata": {
      "byteLimit": 2048000,
      "rowLimit": 10000
     },
     "inputWidgets": {},
     "nuid": "eeb075dd-571b-4abe-9d09-b77ee0320c8d",
     "showTitle": false,
     "title": ""
    }
   },
   "outputs": [
    {
     "output_type": "stream",
     "name": "stdout",
     "output_type": "stream",
     "text": [
      "Out[23]: (4398, 25)"
     ]
    }
   ],
   "source": [
    "data_pd.shape"
   ]
  },
  {
   "cell_type": "code",
   "execution_count": 0,
   "metadata": {
    "application/vnd.databricks.v1+cell": {
     "cellMetadata": {
      "byteLimit": 2048000,
      "rowLimit": 10000
     },
     "inputWidgets": {},
     "nuid": "0a761aa3-d6a8-472b-b45c-74f1f6091f10",
     "showTitle": false,
     "title": ""
    }
   },
   "outputs": [
    {
     "output_type": "stream",
     "name": "stdout",
     "output_type": "stream",
     "text": [
      "Out[26]: 0       User\n1       User\n2       User\n3       User\n4       User\n        ... \n4393    User\n4394    User\n4395    User\n4396    User\n4397    User\nName: payload.issue.user.type, Length: 4398, dtype: object"
     ]
    }
   ],
   "source": [
    "data_pd['payload.issue.user.type']"
   ]
  },
  {
   "cell_type": "code",
   "execution_count": 0,
   "metadata": {
    "application/vnd.databricks.v1+cell": {
     "cellMetadata": {
      "byteLimit": 2048000,
      "rowLimit": 10000
     },
     "inputWidgets": {},
     "nuid": "ac79e22e-210e-4333-b1c2-8bb291d0c76a",
     "showTitle": false,
     "title": ""
    }
   },
   "outputs": [],
   "source": [
    "import matplotlib.pyplot as plt \n",
    "import seaborn as sns \n",
    "#plotly "
   ]
  },
  {
   "cell_type": "code",
   "execution_count": 0,
   "metadata": {
    "application/vnd.databricks.v1+cell": {
     "cellMetadata": {
      "byteLimit": 2048000,
      "rowLimit": 10000
     },
     "inputWidgets": {},
     "nuid": "3eefcb87-142d-4854-97f1-b0b3f6fed7f4",
     "showTitle": false,
     "title": ""
    }
   },
   "outputs": [
    {
     "output_type": "display_data",
     "data": {
      "image/png": "[encoded data removed]"
     },
     "metadata": {
      "application/vnd.databricks.v1+output": {
       "addedWidgets": {},
       "arguments": {},
       "data": "data:image/png;base64,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\n",
       "datasetInfos": [],
       "metadata": {},
       "removedWidgets": [],
       "type": "image"
      }
     },
     "output_type": "display_data"
    }
   ],
   "source": [
    "user_counts = data_pd['payload.issue.user.type'].value_counts()\n",
    "\n",
    "user_counts.plot.bar(color='darkmagenta')\n",
    "plt.xlabel('User Type')\n",
    "plt.ylabel('Count')\n",
    "plt.title('Number of Issues by User Type')\n",
    "\n",
    "for i, count in enumerate(user_counts):\n",
    "    plt.text(i, count, str(count), ha='center', va='bottom')\n",
    "\n",
    "plt.show()"
   ]
  },
  {
   "cell_type": "code",
   "execution_count": 0,
   "metadata": {
    "application/vnd.databricks.v1+cell": {
     "cellMetadata": {
      "byteLimit": 2048000,
      "rowLimit": 10000
     },
     "inputWidgets": {},
     "nuid": "ffb0c891-4413-4dad-bc7d-2c2ff903ff77",
     "showTitle": false,
     "title": ""
    }
   },
   "outputs": [
    {
     "output_type": "display_data",
     "data": {
      "image/png": "[encoded data removed]"
     },
     "metadata": {
      "application/vnd.databricks.v1+output": {
       "addedWidgets": {},
       "arguments": {},
       "data": "data:image/png;base64,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\n",
       "datasetInfos": [],
       "metadata": {},
       "removedWidgets": [],
       "type": "image"
      }
     },
     "output_type": "display_data"
    }
   ],
   "source": [
    "user_counts = data_pd['payload.issue.state_reason'].value_counts()\n",
    "user_counts = user_counts.sort_values(ascending=False)\n",
    "\n",
    "fig, ax = plt.subplots(figsize=(8, 5))\n",
    "colors = plt.cm.Set2(range(len(user_counts)))\n",
    "\n",
    "ax.barh(user_counts.index, user_counts.values, color=colors)\n",
    "\n",
    "for i, count in enumerate(user_counts.values):\n",
    "    ax.text(count, i, str(count), ha='left', va='center', fontsize=10)\n",
    "\n",
    "ax.set_xlabel('Count')\n",
    "ax.set_ylabel('State Reason')\n",
    "ax.set_title('State of the Issue')\n",
    "ax.spines['top'].set_visible(False)\n",
    "ax.spines['right'].set_visible(False)\n",
    "plt.grid(axis='x', linestyle='--', alpha=0.5)\n",
    "\n",
    "plt.show()\n"
   ]
  },
  {
   "cell_type": "code",
   "execution_count": 0,
   "metadata": {
    "application/vnd.databricks.v1+cell": {
     "cellMetadata": {
      "byteLimit": 2048000,
      "rowLimit": 10000
     },
     "inputWidgets": {},
     "nuid": "b4e28389-b4cc-4cec-a6ec-1f668fd96cd2",
     "showTitle": false,
     "title": ""
    }
   },
   "outputs": [
    {
     "output_type": "stream",
     "name": "stdout",
     "output_type": "stream",
     "text": [
      "Out[123]: <AxesSubplot:title={'center':'Status of the Issue'}, ylabel='Count'>"
     ]
    },
    {
     "output_type": "display_data",
     "data": {
      "image/png": "[encoded data removed]"
     },
     "metadata": {
      "application/vnd.databricks.v1+output": {
       "addedWidgets": {},
       "arguments": {},
       "data": "data:image/png;base64,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\n",
       "datasetInfos": [],
       "metadata": {},
       "removedWidgets": [],
       "type": "image"
      }
     },
     "output_type": "display_data"
    }
   ],
   "source": [
    "#user_counts = data_pd['payload.issue.state'].value_counts()\n",
    "\n",
    "stat_counts = data_pd.groupby('payload.issue.state').size().reset_index(name='Count')\n",
    "stat_counts = age_counts.sort_values(by='Count', ascending=False)\n",
    "\n",
    "stat_counts.groupby(['payload.issue.state']).sum().plot(kind='pie', y='Count', autopct='%1.0f%%',colors = ['Salmon','Teal'],shadow = True,figsize=(6,6),textprops={'fontsize': 13},title='Status of the Issue')"
   ]
  },
  {
   "cell_type": "code",
   "execution_count": 0,
   "metadata": {
    "application/vnd.databricks.v1+cell": {
     "cellMetadata": {
      "byteLimit": 2048000,
      "rowLimit": 10000
     },
     "inputWidgets": {},
     "nuid": "624f9a8a-d49e-499f-b93a-f6e46f4d8eda",
     "showTitle": false,
     "title": ""
    }
   },
   "outputs": [
    {
     "output_type": "display_data",
     "data": {
      "image/png": "[encoded data removed]"
     },
     "metadata": {
      "application/vnd.databricks.v1+output": {
       "addedWidgets": {},
       "arguments": {},
       "data": "data:image/png;base64,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\n",
       "datasetInfos": [],
       "metadata": {},
       "removedWidgets": [],
       "type": "image"
      }
     },
     "output_type": "display_data"
    }
   ],
   "source": [
    "user_counts = data_pd['payload.issue.author_association'].value_counts()\n",
    "user_counts.plot.bar(color='dark')\n",
    "plt.xlabel('Author')\n",
    "plt.ylabel('Count')\n",
    "plt.title('Author Distribution')\n",
    "\n",
    "for i, count in enumerate(user_counts):\n",
    "    plt.text(i, count, str(count), ha='center', va='bottom')\n",
    "\n",
    "plt.show()"
   ]
  },
  {
   "cell_type": "code",
   "execution_count": 0,
   "metadata": {
    "application/vnd.databricks.v1+cell": {
     "cellMetadata": {},
     "inputWidgets": {},
     "nuid": "25a70850-0776-4fdb-8c73-af5a5d351b6e",
     "showTitle": false,
     "title": ""
    }
   },
   "outputs": [],
   "source": []
  }
 ],
 "metadata": {
  "application/vnd.databricks.v1+notebook": {
   "dashboards": [],
   "language": "python",
   "notebookMetadata": {
    "pythonIndentUnit": 4
   },
   "notebookName": "Untitled Notebook 2023-06-20 15:40:15",
   "widgets": {}
  }
 },
 "nbformat": 4,
 "nbformat_minor": 0
}
