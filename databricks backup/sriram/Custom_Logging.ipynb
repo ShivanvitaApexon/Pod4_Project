{
 "cells": [
  {
   "cell_type": "markdown",
   "metadata": {
    "application/vnd.databricks.v1+cell": {
     "cellMetadata": {},
     "inputWidgets": {},
     "nuid": "f569e9e0-63fa-4ab6-be00-c29d9f6771b3",
     "showTitle": false,
     "title": ""
    }
   },
   "source": [
    "####  Custom Logging in Databricks Notebooks using Pyspark `logging`  module..."
   ]
  },
  {
   "cell_type": "markdown",
   "metadata": {
    "application/vnd.databricks.v1+cell": {
     "cellMetadata": {},
     "inputWidgets": {},
     "nuid": "c7b73a4d-0bc0-4733-b093-3e38e74438d3",
     "showTitle": false,
     "title": ""
    }
   },
   "source": [
    "credits: raveendratal/PysparkRaveendra (https://github.com/raveendratal/PysparkRaveendra/blob/master/Custom_Logging.ipynb)\n",
    "* `logging.info(msg, *args, **kwargs)` \n",
    "* `logging.warning(msg, *args, **kwargs)` \n",
    "* `logging.error(msg, *args, **kwargs)` \n",
    "* `logging.critical(msg, *args, **kwargs)` \n",
    "* `logging.debug(msg, *args, **kwargs)`  \n",
    "* `logging.shutdown()`\n",
    "* Informs the logging system to perform an orderly shutdown by flushing and closing all handlers. This should be called at application exit and no further use of the logging system should be made after this call."
   ]
  },
  {
   "cell_type": "code",
   "execution_count": 0,
   "metadata": {
    "application/vnd.databricks.v1+cell": {
     "cellMetadata": {},
     "inputWidgets": {},
     "nuid": "1ab31464-bb22-423e-8646-5bd751d08356",
     "showTitle": false,
     "title": ""
    }
   },
   "outputs": [],
   "source": [
    "dbutils.widgets.text(name='filename',defaultValue='')"
   ]
  },
  {
   "cell_type": "code",
   "execution_count": 0,
   "metadata": {
    "application/vnd.databricks.v1+cell": {
     "cellMetadata": {},
     "inputWidgets": {},
     "nuid": "61583fd6-9829-42eb-8d75-eab794099937",
     "showTitle": false,
     "title": ""
    }
   },
   "outputs": [],
   "source": [
    "import logging"
   ]
  },
  {
   "cell_type": "code",
   "execution_count": 0,
   "metadata": {
    "application/vnd.databricks.v1+cell": {
     "cellMetadata": {
      "byteLimit": 2048000,
      "rowLimit": 10000
     },
     "inputWidgets": {},
     "nuid": "1fd10ef1-56bc-4479-94a8-6bc31adf9c84",
     "showTitle": false,
     "title": ""
    }
   },
   "outputs": [
    {
     "output_type": "stream",
     "name": "stdout",
     "output_type": "stream",
     "text": [
      "custom_log2023-07-05-02-58-55.log\n"
     ]
    }
   ],
   "source": [
    "\"\"\"\n",
    "This program using for custom logging in Pyspark and it will be created a log file.\n",
    "\"\"\"\n",
    "p_logfile = dbutils.widgets.get('filename')\n",
    "print(p_logfile)\n",
    "# create logger with 'Custom_log'\n",
    "logger = logging.getLogger('log4j')\n",
    "logger.setLevel(logging.DEBUG) \n",
    "# create file handler which logs even debug messages\n",
    "fh = logging.FileHandler(p_logfile,mode='a')\n",
    "# create console handler with a higher log level\n",
    "ch = logging.StreamHandler()\n",
    "ch.setLevel(logging.DEBUG)\n",
    "# create formatter and add it to the handlers\n",
    "formatter = logging.Formatter('%(asctime)s - %(name)s - %(levelname)s - %(message)s')\n",
    "#setting for ingoring frequest log information\n",
    "#logging.getLogger(\"py4j\").setLevel(logging.ERROR)\n",
    "# tell the handler to use this format\n",
    "#fh (file Handler)\n",
    "fh.setFormatter(formatter)\n",
    "#ch (console handler)\n",
    "ch.setFormatter(formatter)\n",
    "#Clearing old frequent log information to ignore that.\n",
    "if (logger.hasHandlers()):\n",
    "     logger.handlers.clear()\n",
    "# add the handlers to the logger\n",
    "logger.addHandler(fh)\n",
    "logger.addHandler(ch) "
   ]
  }
 ],
 "metadata": {
  "application/vnd.databricks.v1+notebook": {
   "dashboards": [],
   "language": "python",
   "notebookMetadata": {
    "pythonIndentUnit": 4
   },
   "notebookName": "Custom_Logging",
   "widgets": {
    "monthly": {
     "currentValue": "false",
     "nuid": "da5386ed-b1cf-46a8-a463-a64185a537d6",
     "widgetInfo": {
      "widgetType": "dropdown",
      "defaultValue": "false",
      "label": null,
      "name": "monthly",
      "options": {
       "widgetType": "dropdown",
       "choices": [
        "true",
        "false"
       ]
      }
     }
    }
   }
  },
  "name": "Custom_Logging",
  "notebookId": 1179032909943763
 },
 "nbformat": 4,
 "nbformat_minor": 0
}
