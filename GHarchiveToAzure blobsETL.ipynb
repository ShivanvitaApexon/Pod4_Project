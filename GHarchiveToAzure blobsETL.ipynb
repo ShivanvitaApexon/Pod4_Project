{
 "cells": [
  {
   "cell_type": "code",
   "execution_count": 0,
   "metadata": {
    "application/vnd.databricks.v1+cell": {
     "cellMetadata": {
      "byteLimit": 2048000,
      "rowLimit": 10000
     },
     "inputWidgets": {},
     "nuid": "77e7de61-b59e-4bcf-8bb5-4fbb5d8eadb7",
     "showTitle": false,
     "title": ""
    }
   },
   "outputs": [
    {
     "output_type": "stream",
     "name": "stdout",
     "output_type": "stream",
     "text": [
      "Python interpreter will be restarted.\nCollecting azure.storage.blob\n  Downloading azure_storage_blob-12.16.0-py3-none-any.whl (387 kB)\nCollecting isodate>=0.6.1\n  Downloading isodate-0.6.1-py2.py3-none-any.whl (41 kB)\nRequirement already satisfied: cryptography>=2.1.4 in /databricks/python3/lib/python3.9/site-packages (from azure.storage.blob) (3.4.8)\nCollecting azure-core<2.0.0,>=1.26.0\n  Downloading azure_core-1.27.1-py3-none-any.whl (174 kB)\nRequirement already satisfied: typing-extensions>=4.0.1 in /databricks/python3/lib/python3.9/site-packages (from azure.storage.blob) (4.1.1)\nCollecting typing-extensions>=4.0.1\n  Downloading typing_extensions-4.6.3-py3-none-any.whl (31 kB)\nRequirement already satisfied: six>=1.11.0 in /databricks/python3/lib/python3.9/site-packages (from azure-core<2.0.0,>=1.26.0->azure.storage.blob) (1.16.0)\nRequirement already satisfied: requests>=2.18.4 in /databricks/python3/lib/python3.9/site-packages (from azure-core<2.0.0,>=1.26.0->azure.storage.blob) (2.27.1)\nRequirement already satisfied: cffi>=1.12 in /databricks/python3/lib/python3.9/site-packages (from cryptography>=2.1.4->azure.storage.blob) (1.15.0)\nRequirement already satisfied: pycparser in /databricks/python3/lib/python3.9/site-packages (from cffi>=1.12->cryptography>=2.1.4->azure.storage.blob) (2.21)\nRequirement already satisfied: idna<4,>=2.5 in /databricks/python3/lib/python3.9/site-packages (from requests>=2.18.4->azure-core<2.0.0,>=1.26.0->azure.storage.blob) (3.3)\nRequirement already satisfied: charset-normalizer~=2.0.0 in /databricks/python3/lib/python3.9/site-packages (from requests>=2.18.4->azure-core<2.0.0,>=1.26.0->azure.storage.blob) (2.0.4)\nRequirement already satisfied: urllib3<1.27,>=1.21.1 in /databricks/python3/lib/python3.9/site-packages (from requests>=2.18.4->azure-core<2.0.0,>=1.26.0->azure.storage.blob) (1.26.9)\nRequirement already satisfied: certifi>=2017.4.17 in /databricks/python3/lib/python3.9/site-packages (from requests>=2.18.4->azure-core<2.0.0,>=1.26.0->azure.storage.blob) (2021.10.8)\nInstalling collected packages: typing-extensions, isodate, azure-core, azure.storage.blob\n  Attempting uninstall: typing-extensions\n    Found existing installation: typing-extensions 4.1.1\n    Not uninstalling typing-extensions at /databricks/python3/lib/python3.9/site-packages, outside environment /local_disk0/.ephemeral_nfs/envs/pythonEnv-014eb887-9638-458f-9731-e828cc15af79\n    Can't uninstall 'typing-extensions'. No files were found to uninstall.\nSuccessfully installed azure-core-1.27.1 azure.storage.blob-12.16.0 isodate-0.6.1 typing-extensions-4.6.3\nPython interpreter will be restarted.\n"
     ]
    }
   ],
   "source": [
    "pip install azure.storage.blob"
   ]
  },
  {
   "cell_type": "code",
   "execution_count": 0,
   "metadata": {
    "application/vnd.databricks.v1+cell": {
     "cellMetadata": {
      "byteLimit": 2048000,
      "rowLimit": 10000
     },
     "inputWidgets": {},
     "nuid": "95e4c2ce-9bdb-462e-ac00-d92fe11ed0ac",
     "showTitle": false,
     "title": ""
    }
   },
   "outputs": [
    {
     "output_type": "display_data",
     "data": {
      "application/vnd.databricks.v1+bamboolib_hint": "{\"pd.DataFrames\": [], \"version\": \"0.0.1\"}",
      "text/plain": []
     },
     "metadata": {},
     "output_type": "display_data"
    }
   ],
   "source": [
    "import requests\n",
    "import pandas as pd\n",
    "import json\n",
    "from azure.storage.blob import BlobServiceClient, BlobClient, ContainerClient\n",
    "from azure.core.pipeline.transport import HttpResponse\n",
    "from pyspark import SparkContext, SparkConf\n",
    "from pyspark.sql import SparkSession\n",
    "from pyspark.sql.functions import from_json, col, coalesce, lit\n",
    "from pyspark.sql.types import StructType, StructField, StringType, IntegerType, BooleanType, ArrayType\n",
    "import gzip\n",
    "from pathlib import Path\n",
    "import os\n",
    "import glob"
   ]
  },
  {
   "cell_type": "code",
   "execution_count": 0,
   "metadata": {
    "application/vnd.databricks.v1+cell": {
     "cellMetadata": {
      "byteLimit": 2048000,
      "rowLimit": 10000
     },
     "inputWidgets": {},
     "nuid": "cc5e4073-81bc-403c-ade0-5f3a7421f1a8",
     "showTitle": false,
     "title": ""
    }
   },
   "outputs": [],
   "source": [
    "\n",
    "def get_data(date, time):\n",
    "    filename = str(date) +'-'+ str(time)\n",
    "    url = \"https://data.gharchive.org/\"+ filename +'.json.gz'\n",
    "    print(url)\n",
    "\n",
    "    response = requests.get(url)\n",
    "\n",
    "    if response.status_code == 200:\n",
    "\n",
    "       with open(filename +'.json.gz', \"wb\") as file:\n",
    "\n",
    "            file.write(response.content)\n",
    "\n",
    "       print(\"File downloaded successfully.\")\n",
    "\n",
    "    else:\n",
    "\n",
    "       print(\"Error downloading the file.\")"
   ]
  },
  {
   "cell_type": "code",
   "execution_count": 0,
   "metadata": {
    "application/vnd.databricks.v1+cell": {
     "cellMetadata": {
      "byteLimit": 2048000,
      "rowLimit": 10000
     },
     "inputWidgets": {},
     "nuid": "b9ca8ca7-1b91-455a-b566-f340f4f49190",
     "showTitle": false,
     "title": ""
    }
   },
   "outputs": [],
   "source": [
    "def unzip_jsongz(filename):\n",
    "    input_file = '/databricks/driver/'+filename+'.json.gz'\n",
    "    output_file = '/databricks/driver/'+filename+'.json'\n",
    "    with gzip.open(input_file, 'rb') as gz_file:\n",
    "        with open(output_file, 'wb') as out_file:\n",
    "            out_file.write(gz_file.read())"
   ]
  },
  {
   "cell_type": "code",
   "execution_count": 0,
   "metadata": {
    "application/vnd.databricks.v1+cell": {
     "cellMetadata": {
      "byteLimit": 2048000,
      "rowLimit": 10000
     },
     "inputWidgets": {},
     "nuid": "e2466e9f-d631-4373-88d0-0fbc84e58f41",
     "showTitle": false,
     "title": ""
    }
   },
   "outputs": [],
   "source": [
    "def flatten_df(df):\n",
    "    columns = df.columns\n",
    "    select_exprs = [\n",
    "        col(\"type\"),\n",
    "        col(\"public\"),\n",
    "        col(\"created_at\")\n",
    "    ]\n",
    "    payload_columns = [\n",
    "        \"payload.action\",\n",
    "        \"payload.before\",\n",
    "        \"payload.comment\",\n",
    "        \"payload.commits\",\n",
    "        \"payload.description\",\n",
    "        \"payload.distinct_size\",\n",
    "        \"payload.forkee\",\n",
    "        \"payload.head\",\n",
    "        \"payload.issue\",\n",
    "        \"payload.master_branch\",\n",
    "        \"payload.member\",\n",
    "        \"payload.number\",\n",
    "        \"payload.release\",\n",
    "        \"payload.repository_id\",\n",
    "        \"payload.review\",\n",
    "        \"payload.pages\",\n",
    "        \"payload.pull_request\",\n",
    "        \"payload.push_id\",\n",
    "        \"payload.pusher_type\",\n",
    "        \"payload.ref\",\n",
    "        \"payload.size\",\n",
    "        \"payload.ref_type\"\n",
    "    ]\n",
    "    for column in payload_columns:\n",
    "        #if column in columns:\n",
    "        select_expr = col(column).cast(\"string\").alias(column)\n",
    "        #else:\n",
    "        #    select_expr = lit(None).alias(column)\n",
    "        \n",
    "        select_exprs.append(select_expr)\n",
    "    \n",
    "    flat_df = df.select(select_exprs)\n",
    "    return flat_df"
   ]
  },
  {
   "cell_type": "code",
   "execution_count": 0,
   "metadata": {
    "application/vnd.databricks.v1+cell": {
     "cellMetadata": {
      "byteLimit": 2048000,
      "rowLimit": 10000
     },
     "inputWidgets": {},
     "nuid": "f8daa2d8-2d59-4b77-a9ba-15cd611ba098",
     "showTitle": false,
     "title": ""
    }
   },
   "outputs": [],
   "source": [
    "def flatten_issues_df(issues_df):\n",
    "    issues_flat_df = issues_df.select(\n",
    "    col(\"type\"),\n",
    "    col(\"public\"),\n",
    "    col(\"created_at\"),\n",
    "    col(\"payload.action\").alias(\"payload.action\"),\n",
    "    col(\"payload.issue.url\").alias(\"payload.issue.url\"),\n",
    "    col(\"payload.issue.number\").alias(\"payload.issue.number\"),\n",
    "    col(\"payload.issue.title\").alias(\"payload.issue.title\"),\n",
    "    col(\"payload.issue.user.login\").alias(\"payload.issue.user.login\"),\n",
    "    col(\"payload.issue.user.type\").alias(\"payload.issue.user.type\"),\n",
    "    col(\"payload.issue.user.site_admin\").alias(\"payload.issue.user.site_admin\"),\n",
    "    col(\"payload.issue.labels\").alias(\"payload.issue.labels\"),\n",
    "    col(\"payload.issue.state\").alias(\"payload.issue.state\"),\n",
    "    col(\"payload.issue.locked\").alias(\"payload.issue.locked\"),\n",
    "    col(\"payload.issue.comments\").alias(\"payload.issue.comments\"),\n",
    "    col(\"payload.issue.created_at\").alias(\"payload.issue.created_at\"),\n",
    "    #col(\"payload.issue.milestone\").alias(\"payload.issue.milestone\"),\n",
    "    #col(\"payload.issue.assignee\").alias(\"payload.issue.assignee\"),\n",
    "    #col(\"payload.issue.assignees\").alias(\"payload.issue.assignees\"),\n",
    "    col(\"payload.issue.updated_at\").alias(\"payload.issue.updated_at\"),\n",
    "    col(\"payload.issue.closed_at\").alias(\"payload.issue.closed_at\"),\n",
    "    col(\"payload.issue.author_association\").alias(\"payload.issue.author_association\"),\n",
    "    col(\"payload.issue.active_lock_reason\").alias(\"payload.issue.active_lock_reason\"),\n",
    "    col(\"payload.issue.body\").alias(\"payload.issue.body\"),\n",
    "    #col(\"payload.issue.performed_via_github_app\").alias(\"payload.issue.performed_via_github_app\"),\n",
    "    col(\"payload.issue.state_reason\").alias(\"payload.issue.state_reason\"))\n",
    "    return issues_flat_df"
   ]
  },
  {
   "cell_type": "code",
   "execution_count": 0,
   "metadata": {
    "application/vnd.databricks.v1+cell": {
     "cellMetadata": {
      "byteLimit": 2048000,
      "rowLimit": 10000
     },
     "inputWidgets": {},
     "nuid": "d352ae1c-8315-4664-96f5-bb2fd6702e39",
     "showTitle": false,
     "title": ""
    }
   },
   "outputs": [],
   "source": [
    "from pyspark.sql.functions import col, coalesce, lit\n",
    "\n",
    "def flatten_push_df(push_df):\n",
    "    columns = push_df.columns\n",
    "    select_exprs = [\n",
    "        col(\"type\"),\n",
    "        col(\"public\"),\n",
    "        col(\"created_at\"),\n",
    "        col(\"org\"),\n",
    "        col(\"actor\"),\n",
    "        col(\"repo\")\n",
    "    ]\n",
    "    payload_columns = [\n",
    "        \"payload.action\",\n",
    "        \"payload.before\",\n",
    "        #\"payload.comment\",\n",
    "        \"payload.commits\",\n",
    "        #\"payload.description\",\n",
    "        #\"payload.distinct_size\",\n",
    "        #\"payload.forkee\",\n",
    "        #\"payload.head\",\n",
    "        #\"payload.issue\",\n",
    "        #\"payload.master_branch\",\n",
    "        #\"payload.member\",\n",
    "        #\"payload.number\",\n",
    "        #\"payload.release\",\n",
    "        \"payload.repository_id\",\n",
    "        \"payload.review\",\n",
    "        \"payload.pages\",\n",
    "        #\"payload.pull_request\",\n",
    "        \"payload.push_id\",\n",
    "        \"payload.pusher_type\",\n",
    "        \"payload.ref\",\n",
    "        \"payload.size\",\n",
    "        \"payload.ref_type\"\n",
    "    ]\n",
    "    for column in payload_columns:\n",
    "        #if column in columns:\n",
    "        select_expr = col(column).alias(column)\n",
    "        #else:\n",
    "        #    select_expr = lit(None).alias(column)\n",
    "        \n",
    "        select_exprs.append(select_expr)\n",
    "    \n",
    "    flat_push_df = push_df.select(select_exprs)\n",
    "    return flat_push_df"
   ]
  },
  {
   "cell_type": "code",
   "execution_count": 0,
   "metadata": {
    "application/vnd.databricks.v1+cell": {
     "cellMetadata": {
      "byteLimit": 2048000,
      "rowLimit": 10000
     },
     "inputWidgets": {},
     "nuid": "377662b3-ef3e-465b-9c5b-9c0b1ce2d52c",
     "showTitle": false,
     "title": ""
    }
   },
   "outputs": [],
   "source": [
    "def upload_to_blob_storage( connection_string, container_name, file_path, blob_name):\n",
    "    blob_service_client = BlobServiceClient.from_connection_string(connection_string)\n",
    "    blob_client = blob_service_client.get_blob_client(container= container_name, blob= blob_name)\n",
    "\n",
    "    with open(file_path, \"rb\") as data:\n",
    "        blob_client.upload_blob(data)\n",
    "     "
   ]
  },
  {
   "cell_type": "code",
   "execution_count": 0,
   "metadata": {
    "application/vnd.databricks.v1+cell": {
     "cellMetadata": {
      "byteLimit": 2048000,
      "rowLimit": 10000
     },
     "inputWidgets": {},
     "nuid": "4b499e8f-2142-45d8-baf6-7bd44e87038f",
     "showTitle": false,
     "title": ""
    }
   },
   "outputs": [],
   "source": [
    "spark = SparkSession.builder.getOrCreate()\n",
    "sc = spark.sparkContext"
   ]
  },
  {
   "cell_type": "code",
   "execution_count": 0,
   "metadata": {
    "application/vnd.databricks.v1+cell": {
     "cellMetadata": {
      "byteLimit": 2048000,
      "rowLimit": 10000
     },
     "inputWidgets": {},
     "nuid": "272b9fb9-d212-4e05-92ce-c8ab57c44637",
     "showTitle": false,
     "title": ""
    }
   },
   "outputs": [
    {
     "output_type": "stream",
     "name": "stdout",
     "output_type": "stream",
     "text": [
      "https://data.gharchive.org/2023-05-01-0.json.gz\nFile downloaded successfully.\nhttps://data.gharchive.org/2023-05-01-1.json.gz\nFile downloaded successfully.\nhttps://data.gharchive.org/2023-05-01-2.json.gz\nFile downloaded successfully.\nhttps://data.gharchive.org/2023-05-01-3.json.gz\nFile downloaded successfully.\nhttps://data.gharchive.org/2023-05-01-4.json.gz\nFile downloaded successfully.\nhttps://data.gharchive.org/2023-05-01-5.json.gz\nFile downloaded successfully.\nhttps://data.gharchive.org/2023-05-01-6.json.gz\nFile downloaded successfully.\nhttps://data.gharchive.org/2023-05-01-7.json.gz\nFile downloaded successfully.\nhttps://data.gharchive.org/2023-05-01-8.json.gz\nFile downloaded successfully.\nhttps://data.gharchive.org/2023-05-01-9.json.gz\nFile downloaded successfully.\nhttps://data.gharchive.org/2023-05-01-10.json.gz\nFile downloaded successfully.\nhttps://data.gharchive.org/2023-05-01-11.json.gz\nFile downloaded successfully.\nhttps://data.gharchive.org/2023-05-01-12.json.gz\nFile downloaded successfully.\nhttps://data.gharchive.org/2023-05-01-13.json.gz\nFile downloaded successfully.\nhttps://data.gharchive.org/2023-05-01-14.json.gz\nFile downloaded successfully.\nhttps://data.gharchive.org/2023-05-01-15.json.gz\nFile downloaded successfully.\nhttps://data.gharchive.org/2023-05-01-16.json.gz\nFile downloaded successfully.\nhttps://data.gharchive.org/2023-05-01-17.json.gz\nFile downloaded successfully.\nhttps://data.gharchive.org/2023-05-01-18.json.gz\nFile downloaded successfully.\nhttps://data.gharchive.org/2023-05-01-19.json.gz\nFile downloaded successfully.\nhttps://data.gharchive.org/2023-05-01-20.json.gz\nFile downloaded successfully.\nhttps://data.gharchive.org/2023-05-01-21.json.gz\nFile downloaded successfully.\nhttps://data.gharchive.org/2023-05-01-22.json.gz\nFile downloaded successfully.\nhttps://data.gharchive.org/2023-05-01-23.json.gz\nFile downloaded successfully.\ncache cleared\n/databricks/driver/cache/part-00000-tid-6066093483856038605-87aa07ff-9857-40ac-b10b-675503dbc949-283-1-c000.snappy.parquet\nuploaded 2023-05-01.snappy.parquet to blob storage\nFile '/databricks/driver/2023-05-01-20.json.gz' removed.\nFile '/databricks/driver/2023-05-01-9.json.gz' removed.\nFile '/databricks/driver/2023-05-01-4.json' removed.\nFile '/databricks/driver/2023-05-01-12.json' removed.\nFile '/databricks/driver/2023-05-01-15.json' removed.\nFile '/databricks/driver/2023-05-01-9.json' removed.\nFile '/databricks/driver/2023-05-01-13.json.gz' removed.\nFile '/databricks/driver/2023-05-01-6.json' removed.\nFile '/databricks/driver/2023-05-01-10.json.gz' removed.\nFile '/databricks/driver/2023-05-01-5.json.gz' removed.\nFile '/databricks/driver/2023-05-01-10.json' removed.\nFile '/databricks/driver/2023-05-01-22.json' removed.\nFile '/databricks/driver/2023-05-01-21.json.gz' removed.\nFile '/databricks/driver/2023-05-01-12.json.gz' removed.\nFile '/databricks/driver/2023-05-01-14.json' removed.\nFile '/databricks/driver/2023-05-01-7.json.gz' removed.\nFile '/databricks/driver/2023-05-01-1.json' removed.\nFile '/databricks/driver/2023-05-01-22.json.gz' removed.\nFile '/databricks/driver/2023-05-01-11.json.gz' removed.\nFile '/databricks/driver/2023-05-01-3.json' removed.\nFile '/databricks/driver/2023-05-01-16.json.gz' removed.\nFile '/databricks/driver/2023-05-01-23.json.gz' removed.\nFile '/databricks/driver/2023-05-01-8.json.gz' removed.\nFile '/databricks/driver/2023-05-01-23.json' removed.\nFile '/databricks/driver/2023-05-01-0.json' removed.\nFile '/databricks/driver/2023-05-01-17.json.gz' removed.\nFile '/databricks/driver/2023-05-01-16.json' removed.\nFile '/databricks/driver/2023-05-01-18.json.gz' removed.\nFile '/databricks/driver/2023-05-01-2.json.gz' removed.\nFile '/databricks/driver/2023-05-01-20.json' removed.\nFile '/databricks/driver/2023-05-01-11.json' removed.\nFile '/databricks/driver/2023-05-01-19.json.gz' removed.\nFile '/databricks/driver/2023-05-01-8.json' removed.\nFile '/databricks/driver/2023-05-01-7.json' removed.\nFile '/databricks/driver/2023-05-01-5.json' removed.\nFile '/databricks/driver/2023-05-01-2.json' removed.\nFile '/databricks/driver/2023-05-01-4.json.gz' removed.\nFile '/databricks/driver/2023-05-01-17.json' removed.\nFile '/databricks/driver/2023-05-01-1.json.gz' removed.\nFile '/databricks/driver/2023-05-01-3.json.gz' removed.\nFile '/databricks/driver/2023-05-01-14.json.gz' removed.\nFile '/databricks/driver/2023-05-01-6.json.gz' removed.\nFile '/databricks/driver/2023-05-01-13.json' removed.\nFile '/databricks/driver/2023-05-01-21.json' removed.\nFile '/databricks/driver/2023-05-01-19.json' removed.\nFile '/databricks/driver/2023-05-01-0.json.gz' removed.\nFile '/databricks/driver/2023-05-01-18.json' removed.\nFile '/databricks/driver/2023-05-01-15.json.gz' removed.\nhttps://data.gharchive.org/2023-05-02-0.json.gz\nFile downloaded successfully.\nhttps://data.gharchive.org/2023-05-02-1.json.gz\nFile downloaded successfully.\nhttps://data.gharchive.org/2023-05-02-2.json.gz\nFile downloaded successfully.\nhttps://data.gharchive.org/2023-05-02-3.json.gz\nFile downloaded successfully.\nhttps://data.gharchive.org/2023-05-02-4.json.gz\nFile downloaded successfully.\nhttps://data.gharchive.org/2023-05-02-5.json.gz\nFile downloaded successfully.\nhttps://data.gharchive.org/2023-05-02-6.json.gz\nFile downloaded successfully.\nhttps://data.gharchive.org/2023-05-02-7.json.gz\nFile downloaded successfully.\nhttps://data.gharchive.org/2023-05-02-8.json.gz\nFile downloaded successfully.\nhttps://data.gharchive.org/2023-05-02-9.json.gz\nFile downloaded successfully.\nhttps://data.gharchive.org/2023-05-02-10.json.gz\nFile downloaded successfully.\nhttps://data.gharchive.org/2023-05-02-11.json.gz\nFile downloaded successfully.\nhttps://data.gharchive.org/2023-05-02-12.json.gz\nFile downloaded successfully.\nhttps://data.gharchive.org/2023-05-02-13.json.gz\nFile downloaded successfully.\nhttps://data.gharchive.org/2023-05-02-14.json.gz\nFile downloaded successfully.\nhttps://data.gharchive.org/2023-05-02-15.json.gz\nFile downloaded successfully.\nhttps://data.gharchive.org/2023-05-02-16.json.gz\nFile downloaded successfully.\nhttps://data.gharchive.org/2023-05-02-17.json.gz\nFile downloaded successfully.\nhttps://data.gharchive.org/2023-05-02-18.json.gz\nFile downloaded successfully.\nhttps://data.gharchive.org/2023-05-02-19.json.gz\nFile downloaded successfully.\nhttps://data.gharchive.org/2023-05-02-20.json.gz\nFile downloaded successfully.\nhttps://data.gharchive.org/2023-05-02-21.json.gz\nFile downloaded successfully.\nhttps://data.gharchive.org/2023-05-02-22.json.gz\nFile downloaded successfully.\nhttps://data.gharchive.org/2023-05-02-23.json.gz\nFile downloaded successfully.\ncache cleared\n/databricks/driver/cache/part-00000-tid-10890759909474681-2fc34c2f-9aa8-420a-8f32-c1f1b3480dc6-412-1-c000.snappy.parquet\nuploaded 2023-05-02.snappy.parquet to blob storage\nFile '/databricks/driver/2023-05-02-23.json' removed.\nFile '/databricks/driver/2023-05-02-21.json.gz' removed.\nFile '/databricks/driver/2023-05-02-20.json' removed.\nFile '/databricks/driver/2023-05-02-4.json.gz' removed.\nFile '/databricks/driver/2023-05-02-13.json.gz' removed.\nFile '/databricks/driver/2023-05-02-1.json' removed.\nFile '/databricks/driver/2023-05-02-14.json' removed.\nFile '/databricks/driver/2023-05-02-22.json.gz' removed.\nFile '/databricks/driver/2023-05-02-9.json' removed.\nFile '/databricks/driver/2023-05-02-3.json.gz' removed.\nFile '/databricks/driver/2023-05-02-3.json' removed.\nFile '/databricks/driver/2023-05-02-22.json' removed.\nFile '/databricks/driver/2023-05-02-19.json.gz' removed.\nFile '/databricks/driver/2023-05-02-17.json' removed.\nFile '/databricks/driver/2023-05-02-8.json.gz' removed.\nFile '/databricks/driver/2023-05-02-15.json.gz' removed.\nFile '/databricks/driver/2023-05-02-9.json.gz' removed.\nFile '/databricks/driver/2023-05-02-19.json' removed.\nFile '/databricks/driver/2023-05-02-10.json.gz' removed.\nFile '/databricks/driver/2023-05-02-12.json' removed.\nFile '/databricks/driver/2023-05-02-13.json' removed.\nFile '/databricks/driver/2023-05-02-4.json' removed.\nFile '/databricks/driver/2023-05-02-6.json' removed.\nFile '/databricks/driver/2023-05-02-11.json.gz' removed.\nFile '/databricks/driver/2023-05-02-11.json' removed.\nFile '/databricks/driver/2023-05-02-5.json.gz' removed.\nFile '/databricks/driver/2023-05-02-2.json' removed.\nFile '/databricks/driver/2023-05-02-14.json.gz' removed.\nFile '/databricks/driver/2023-05-02-23.json.gz' removed.\nFile '/databricks/driver/2023-05-02-7.json.gz' removed.\nFile '/databricks/driver/2023-05-02-21.json' removed.\nFile '/databricks/driver/2023-05-02-2.json.gz' removed.\nFile '/databricks/driver/2023-05-02-0.json' removed.\nFile '/databricks/driver/2023-05-02-7.json' removed.\nFile '/databricks/driver/2023-05-02-0.json.gz' removed.\nFile '/databricks/driver/2023-05-02-5.json' removed.\nFile '/databricks/driver/2023-05-02-8.json' removed.\nFile '/databricks/driver/2023-05-02-1.json.gz' removed.\nFile '/databricks/driver/2023-05-02-16.json' removed.\nFile '/databricks/driver/2023-05-02-20.json.gz' removed.\nFile '/databricks/driver/2023-05-02-16.json.gz' removed.\nFile '/databricks/driver/2023-05-02-12.json.gz' removed.\nFile '/databricks/driver/2023-05-02-15.json' removed.\nFile '/databricks/driver/2023-05-02-6.json.gz' removed.\nFile '/databricks/driver/2023-05-02-18.json' removed.\nFile '/databricks/driver/2023-05-02-17.json.gz' removed.\nFile '/databricks/driver/2023-05-02-18.json.gz' removed.\nFile '/databricks/driver/2023-05-02-10.json' removed.\nhttps://data.gharchive.org/2023-05-03-0.json.gz\nFile downloaded successfully.\nhttps://data.gharchive.org/2023-05-03-1.json.gz\nFile downloaded successfully.\nhttps://data.gharchive.org/2023-05-03-2.json.gz\nFile downloaded successfully.\nhttps://data.gharchive.org/2023-05-03-3.json.gz\nFile downloaded successfully.\nhttps://data.gharchive.org/2023-05-03-4.json.gz\nFile downloaded successfully.\nhttps://data.gharchive.org/2023-05-03-5.json.gz\nFile downloaded successfully.\nhttps://data.gharchive.org/2023-05-03-6.json.gz\nFile downloaded successfully.\nhttps://data.gharchive.org/2023-05-03-7.json.gz\nFile downloaded successfully.\nhttps://data.gharchive.org/2023-05-03-8.json.gz\nFile downloaded successfully.\nhttps://data.gharchive.org/2023-05-03-9.json.gz\nFile downloaded successfully.\nhttps://data.gharchive.org/2023-05-03-10.json.gz\nFile downloaded successfully.\nhttps://data.gharchive.org/2023-05-03-11.json.gz\nFile downloaded successfully.\nhttps://data.gharchive.org/2023-05-03-12.json.gz\nFile downloaded successfully.\nhttps://data.gharchive.org/2023-05-03-13.json.gz\nFile downloaded successfully.\nhttps://data.gharchive.org/2023-05-03-14.json.gz\nFile downloaded successfully.\nhttps://data.gharchive.org/2023-05-03-15.json.gz\nFile downloaded successfully.\nhttps://data.gharchive.org/2023-05-03-16.json.gz\nFile downloaded successfully.\nhttps://data.gharchive.org/2023-05-03-17.json.gz\nFile downloaded successfully.\nhttps://data.gharchive.org/2023-05-03-18.json.gz\nFile downloaded successfully.\nhttps://data.gharchive.org/2023-05-03-19.json.gz\nFile downloaded successfully.\nhttps://data.gharchive.org/2023-05-03-20.json.gz\nFile downloaded successfully.\nhttps://data.gharchive.org/2023-05-03-21.json.gz\nFile downloaded successfully.\nhttps://data.gharchive.org/2023-05-03-22.json.gz\nFile downloaded successfully.\nhttps://data.gharchive.org/2023-05-03-23.json.gz\nFile downloaded successfully.\ncache cleared\n/databricks/driver/cache/part-00000-tid-4079234326092138389-8059ad40-3f0f-41e1-9a9e-8c9b5c210af6-540-1-c000.snappy.parquet\nuploaded 2023-05-03.snappy.parquet to blob storage\nFile '/databricks/driver/2023-05-03-7.json' removed.\nFile '/databricks/driver/2023-05-03-11.json.gz' removed.\nFile '/databricks/driver/2023-05-03-6.json.gz' removed.\nFile '/databricks/driver/2023-05-03-8.json' removed.\nFile '/databricks/driver/2023-05-03-17.json.gz' removed.\nFile '/databricks/driver/2023-05-03-2.json' removed.\nFile '/databricks/driver/2023-05-03-6.json' removed.\nFile '/databricks/driver/2023-05-03-13.json' removed.\nFile '/databricks/driver/2023-05-03-7.json.gz' removed.\nFile '/databricks/driver/2023-05-03-0.json.gz' removed.\nFile '/databricks/driver/2023-05-03-15.json.gz' removed.\nFile '/databricks/driver/2023-05-03-14.json.gz' removed.\nFile '/databricks/driver/2023-05-03-12.json' removed.\nFile '/databricks/driver/2023-05-03-23.json.gz' removed.\nFile '/databricks/driver/2023-05-03-18.json.gz' removed.\nFile '/databricks/driver/2023-05-03-10.json.gz' removed.\nFile '/databricks/driver/2023-05-03-9.json' removed.\nFile '/databricks/driver/2023-05-03-5.json' removed.\nFile '/databricks/driver/2023-05-03-18.json' removed.\nFile '/databricks/driver/2023-05-03-3.json.gz' removed.\nFile '/databricks/driver/2023-05-03-19.json.gz' removed.\nFile '/databricks/driver/2023-05-03-23.json' removed.\nFile '/databricks/driver/2023-05-03-8.json.gz' removed.\nFile '/databricks/driver/2023-05-03-12.json.gz' removed.\nFile '/databricks/driver/2023-05-03-22.json.gz' removed.\nFile '/databricks/driver/2023-05-03-2.json.gz' removed.\nFile '/databricks/driver/2023-05-03-4.json.gz' removed.\nFile '/databricks/driver/2023-05-03-22.json' removed.\nFile '/databricks/driver/2023-05-03-16.json.gz' removed.\nFile '/databricks/driver/2023-05-03-21.json.gz' removed.\nFile '/databricks/driver/2023-05-03-0.json' removed.\nFile '/databricks/driver/2023-05-03-16.json' removed.\nFile '/databricks/driver/2023-05-03-5.json.gz' removed.\nFile '/databricks/driver/2023-05-03-20.json.gz' removed.\nFile '/databricks/driver/2023-05-03-1.json' removed.\nFile '/databricks/driver/2023-05-03-15.json' removed.\nFile '/databricks/driver/2023-05-03-3.json' removed.\nFile '/databricks/driver/2023-05-03-21.json' removed.\nFile '/databricks/driver/2023-05-03-19.json' removed.\nFile '/databricks/driver/2023-05-03-1.json.gz' removed.\nFile '/databricks/driver/2023-05-03-17.json' removed.\nFile '/databricks/driver/2023-05-03-4.json' removed.\nFile '/databricks/driver/2023-05-03-11.json' removed.\nFile '/databricks/driver/2023-05-03-20.json' removed.\nFile '/databricks/driver/2023-05-03-14.json' removed.\nFile '/databricks/driver/2023-05-03-9.json.gz' removed.\nFile '/databricks/driver/2023-05-03-10.json' removed.\nFile '/databricks/driver/2023-05-03-13.json.gz' removed.\nhttps://data.gharchive.org/2023-05-04-0.json.gz\nFile downloaded successfully.\nhttps://data.gharchive.org/2023-05-04-1.json.gz\nFile downloaded successfully.\nhttps://data.gharchive.org/2023-05-04-2.json.gz\nFile downloaded successfully.\nhttps://data.gharchive.org/2023-05-04-3.json.gz\nFile downloaded successfully.\nhttps://data.gharchive.org/2023-05-04-4.json.gz\nFile downloaded successfully.\nhttps://data.gharchive.org/2023-05-04-5.json.gz\nFile downloaded successfully.\nhttps://data.gharchive.org/2023-05-04-6.json.gz\nFile downloaded successfully.\nhttps://data.gharchive.org/2023-05-04-7.json.gz\nFile downloaded successfully.\nhttps://data.gharchive.org/2023-05-04-8.json.gz\nFile downloaded successfully.\nhttps://data.gharchive.org/2023-05-04-9.json.gz\nFile downloaded successfully.\nhttps://data.gharchive.org/2023-05-04-10.json.gz\nFile downloaded successfully.\nhttps://data.gharchive.org/2023-05-04-11.json.gz\nFile downloaded successfully.\nhttps://data.gharchive.org/2023-05-04-12.json.gz\nFile downloaded successfully.\nhttps://data.gharchive.org/2023-05-04-13.json.gz\nFile downloaded successfully.\nhttps://data.gharchive.org/2023-05-04-14.json.gz\nFile downloaded successfully.\nhttps://data.gharchive.org/2023-05-04-15.json.gz\nFile downloaded successfully.\nhttps://data.gharchive.org/2023-05-04-16.json.gz\nFile downloaded successfully.\nhttps://data.gharchive.org/2023-05-04-17.json.gz\nFile downloaded successfully.\nhttps://data.gharchive.org/2023-05-04-18.json.gz\nFile downloaded successfully.\nhttps://data.gharchive.org/2023-05-04-19.json.gz\nFile downloaded successfully.\nhttps://data.gharchive.org/2023-05-04-20.json.gz\nFile downloaded successfully.\nhttps://data.gharchive.org/2023-05-04-21.json.gz\nFile downloaded successfully.\nhttps://data.gharchive.org/2023-05-04-22.json.gz\nFile downloaded successfully.\nhttps://data.gharchive.org/2023-05-04-23.json.gz\nFile downloaded successfully.\ncache cleared\n/databricks/driver/cache/part-00000-tid-6925361721363020493-34f17414-87f8-40ea-ab11-6ce095d1ab8e-668-1-c000.snappy.parquet\nuploaded 2023-05-04.snappy.parquet to blob storage\nFile '/databricks/driver/2023-05-04-21.json.gz' removed.\nFile '/databricks/driver/2023-05-04-7.json.gz' removed.\nFile '/databricks/driver/2023-05-04-15.json' removed.\nFile '/databricks/driver/2023-05-04-12.json.gz' removed.\nFile '/databricks/driver/2023-05-04-4.json' removed.\nFile '/databricks/driver/2023-05-04-9.json.gz' removed.\nFile '/databricks/driver/2023-05-04-6.json.gz' removed.\nFile '/databricks/driver/2023-05-04-10.json' removed.\nFile '/databricks/driver/2023-05-04-6.json' removed.\nFile '/databricks/driver/2023-05-04-4.json.gz' removed.\nFile '/databricks/driver/2023-05-04-11.json.gz' removed.\nFile '/databricks/driver/2023-05-04-8.json' removed.\nFile '/databricks/driver/2023-05-04-21.json' removed.\nFile '/databricks/driver/2023-05-04-17.json.gz' removed.\nFile '/databricks/driver/2023-05-04-9.json' removed.\nFile '/databricks/driver/2023-05-04-0.json.gz' removed.\nFile '/databricks/driver/2023-05-04-19.json.gz' removed.\nFile '/databricks/driver/2023-05-04-18.json.gz' removed.\nFile '/databricks/driver/2023-05-04-11.json' removed.\nFile '/databricks/driver/2023-05-04-22.json.gz' removed.\nFile '/databricks/driver/2023-05-04-16.json.gz' removed.\nFile '/databricks/driver/2023-05-04-1.json' removed.\nFile '/databricks/driver/2023-05-04-3.json.gz' removed.\nFile '/databricks/driver/2023-05-04-17.json' removed.\nFile '/databricks/driver/2023-05-04-10.json.gz' removed.\nFile '/databricks/driver/2023-05-04-13.json.gz' removed.\nFile '/databricks/driver/2023-05-04-19.json' removed.\nFile '/databricks/driver/2023-05-04-22.json' removed.\nFile '/databricks/driver/2023-05-04-20.json.gz' removed.\nFile '/databricks/driver/2023-05-04-5.json.gz' removed.\nFile '/databricks/driver/2023-05-04-0.json' removed.\nFile '/databricks/driver/2023-05-04-8.json.gz' removed.\nFile '/databricks/driver/2023-05-04-23.json.gz' removed.\nFile '/databricks/driver/2023-05-04-15.json.gz' removed.\nFile '/databricks/driver/2023-05-04-23.json' removed.\nFile '/databricks/driver/2023-05-04-13.json' removed.\nFile '/databricks/driver/2023-05-04-1.json.gz' removed.\nFile '/databricks/driver/2023-05-04-20.json' removed.\nFile '/databricks/driver/2023-05-04-14.json.gz' removed.\nFile '/databricks/driver/2023-05-04-5.json' removed.\nFile '/databricks/driver/2023-05-04-12.json' removed.\nFile '/databricks/driver/2023-05-04-14.json' removed.\nFile '/databricks/driver/2023-05-04-18.json' removed.\nFile '/databricks/driver/2023-05-04-2.json' removed.\nFile '/databricks/driver/2023-05-04-2.json.gz' removed.\nFile '/databricks/driver/2023-05-04-16.json' removed.\nFile '/databricks/driver/2023-05-04-7.json' removed.\nFile '/databricks/driver/2023-05-04-3.json' removed.\nhttps://data.gharchive.org/2023-05-05-0.json.gz\nFile downloaded successfully.\nhttps://data.gharchive.org/2023-05-05-1.json.gz\nFile downloaded successfully.\nhttps://data.gharchive.org/2023-05-05-2.json.gz\nFile downloaded successfully.\nhttps://data.gharchive.org/2023-05-05-3.json.gz\nFile downloaded successfully.\nhttps://data.gharchive.org/2023-05-05-4.json.gz\nFile downloaded successfully.\nhttps://data.gharchive.org/2023-05-05-5.json.gz\nFile downloaded successfully.\nhttps://data.gharchive.org/2023-05-05-6.json.gz\nFile downloaded successfully.\nhttps://data.gharchive.org/2023-05-05-7.json.gz\nFile downloaded successfully.\nhttps://data.gharchive.org/2023-05-05-8.json.gz\nFile downloaded successfully.\nhttps://data.gharchive.org/2023-05-05-9.json.gz\nFile downloaded successfully.\nhttps://data.gharchive.org/2023-05-05-10.json.gz\nFile downloaded successfully.\nhttps://data.gharchive.org/2023-05-05-11.json.gz\nFile downloaded successfully.\nhttps://data.gharchive.org/2023-05-05-12.json.gz\nFile downloaded successfully.\nhttps://data.gharchive.org/2023-05-05-13.json.gz\nFile downloaded successfully.\nhttps://data.gharchive.org/2023-05-05-14.json.gz\nFile downloaded successfully.\nhttps://data.gharchive.org/2023-05-05-15.json.gz\nFile downloaded successfully.\nhttps://data.gharchive.org/2023-05-05-16.json.gz\nFile downloaded successfully.\nhttps://data.gharchive.org/2023-05-05-17.json.gz\nFile downloaded successfully.\nhttps://data.gharchive.org/2023-05-05-18.json.gz\nFile downloaded successfully.\nhttps://data.gharchive.org/2023-05-05-19.json.gz\nFile downloaded successfully.\nhttps://data.gharchive.org/2023-05-05-20.json.gz\nFile downloaded successfully.\nhttps://data.gharchive.org/2023-05-05-21.json.gz\nFile downloaded successfully.\nhttps://data.gharchive.org/2023-05-05-22.json.gz\nFile downloaded successfully.\nhttps://data.gharchive.org/2023-05-05-23.json.gz\nFile downloaded successfully.\ncache cleared\n/databricks/driver/cache/part-00000-tid-1208163885096246546-0c544be0-d884-40ef-8c67-7d6261d61e59-794-1-c000.snappy.parquet\nuploaded 2023-05-05.snappy.parquet to blob storage\nFile '/databricks/driver/2023-05-05-6.json.gz' removed.\nFile '/databricks/driver/2023-05-05-11.json.gz' removed.\nFile '/databricks/driver/2023-05-05-16.json' removed.\nFile '/databricks/driver/2023-05-05-18.json.gz' removed.\nFile '/databricks/driver/2023-05-05-1.json.gz' removed.\nFile '/databricks/driver/2023-05-05-1.json' removed.\nFile '/databricks/driver/2023-05-05-5.json' removed.\nFile '/databricks/driver/2023-05-05-15.json.gz' removed.\nFile '/databricks/driver/2023-05-05-2.json.gz' removed.\nFile '/databricks/driver/2023-05-05-11.json' removed.\nFile '/databricks/driver/2023-05-05-5.json.gz' removed.\nFile '/databricks/driver/2023-05-05-10.json.gz' removed.\nFile '/databricks/driver/2023-05-05-4.json' removed.\nFile '/databricks/driver/2023-05-05-2.json' removed.\nFile '/databricks/driver/2023-05-05-20.json.gz' removed.\nFile '/databricks/driver/2023-05-05-22.json.gz' removed.\nFile '/databricks/driver/2023-05-05-7.json.gz' removed.\nFile '/databricks/driver/2023-05-05-18.json' removed.\nFile '/databricks/driver/2023-05-05-9.json.gz' removed.\nFile '/databricks/driver/2023-05-05-8.json' removed.\nFile '/databricks/driver/2023-05-05-9.json' removed.\nFile '/databricks/driver/2023-05-05-6.json' removed.\nFile '/databricks/driver/2023-05-05-22.json' removed.\nFile '/databricks/driver/2023-05-05-13.json.gz' removed.\nFile '/databricks/driver/2023-05-05-21.json.gz' removed.\nFile '/databricks/driver/2023-05-05-12.json.gz' removed.\nFile '/databricks/driver/2023-05-05-3.json.gz' removed.\nFile '/databricks/driver/2023-05-05-3.json' removed.\nFile '/databricks/driver/2023-05-05-15.json' removed.\nFile '/databricks/driver/2023-05-05-0.json.gz' removed.\nFile '/databricks/driver/2023-05-05-17.json.gz' removed.\nFile '/databricks/driver/2023-05-05-23.json' removed.\nFile '/databricks/driver/2023-05-05-21.json' removed.\nFile '/databricks/driver/2023-05-05-7.json' removed.\nFile '/databricks/driver/2023-05-05-17.json' removed.\nFile '/databricks/driver/2023-05-05-19.json.gz' removed.\nFile '/databricks/driver/2023-05-05-12.json' removed.\nFile '/databricks/driver/2023-05-05-4.json.gz' removed.\nFile '/databricks/driver/2023-05-05-0.json' removed.\nFile '/databricks/driver/2023-05-05-19.json' removed.\nFile '/databricks/driver/2023-05-05-13.json' removed.\nFile '/databricks/driver/2023-05-05-23.json.gz' removed.\nFile '/databricks/driver/2023-05-05-14.json' removed.\nFile '/databricks/driver/2023-05-05-14.json.gz' removed.\nFile '/databricks/driver/2023-05-05-10.json' removed.\nFile '/databricks/driver/2023-05-05-16.json.gz' removed.\nFile '/databricks/driver/2023-05-05-20.json' removed.\nFile '/databricks/driver/2023-05-05-8.json.gz' removed.\nhttps://data.gharchive.org/2023-05-06-0.json.gz\nFile downloaded successfully.\nhttps://data.gharchive.org/2023-05-06-1.json.gz\nFile downloaded successfully.\nhttps://data.gharchive.org/2023-05-06-2.json.gz\nFile downloaded successfully.\nhttps://data.gharchive.org/2023-05-06-3.json.gz\nFile downloaded successfully.\nhttps://data.gharchive.org/2023-05-06-4.json.gz\nFile downloaded successfully.\nhttps://data.gharchive.org/2023-05-06-5.json.gz\nFile downloaded successfully.\nhttps://data.gharchive.org/2023-05-06-6.json.gz\nFile downloaded successfully.\nhttps://data.gharchive.org/2023-05-06-7.json.gz\nFile downloaded successfully.\nhttps://data.gharchive.org/2023-05-06-8.json.gz\nFile downloaded successfully.\nhttps://data.gharchive.org/2023-05-06-9.json.gz\nFile downloaded successfully.\nhttps://data.gharchive.org/2023-05-06-10.json.gz\nFile downloaded successfully.\nhttps://data.gharchive.org/2023-05-06-11.json.gz\nFile downloaded successfully.\nhttps://data.gharchive.org/2023-05-06-12.json.gz\nFile downloaded successfully.\nhttps://data.gharchive.org/2023-05-06-13.json.gz\nFile downloaded successfully.\nhttps://data.gharchive.org/2023-05-06-14.json.gz\nFile downloaded successfully.\nhttps://data.gharchive.org/2023-05-06-15.json.gz\nFile downloaded successfully.\nhttps://data.gharchive.org/2023-05-06-16.json.gz\nFile downloaded successfully.\nhttps://data.gharchive.org/2023-05-06-17.json.gz\nFile downloaded successfully.\n\n\n*** WARNING: max output size exceeded, skipping output. ***\n\ncks/driver/2023-05-26-2.json' removed.\nFile '/databricks/driver/2023-05-26-15.json' removed.\nFile '/databricks/driver/2023-05-26-16.json' removed.\nFile '/databricks/driver/2023-05-26-13.json.gz' removed.\nFile '/databricks/driver/2023-05-26-22.json' removed.\nFile '/databricks/driver/2023-05-26-6.json' removed.\nFile '/databricks/driver/2023-05-26-8.json' removed.\nFile '/databricks/driver/2023-05-26-17.json' removed.\nFile '/databricks/driver/2023-05-26-5.json.gz' removed.\nFile '/databricks/driver/2023-05-26-9.json.gz' removed.\nFile '/databricks/driver/2023-05-26-14.json' removed.\nFile '/databricks/driver/2023-05-26-18.json.gz' removed.\nFile '/databricks/driver/2023-05-26-13.json' removed.\nFile '/databricks/driver/2023-05-26-1.json' removed.\nFile '/databricks/driver/2023-05-26-19.json' removed.\nFile '/databricks/driver/2023-05-26-14.json.gz' removed.\nFile '/databricks/driver/2023-05-26-10.json' removed.\nFile '/databricks/driver/2023-05-26-7.json' removed.\nFile '/databricks/driver/2023-05-26-5.json' removed.\nFile '/databricks/driver/2023-05-26-19.json.gz' removed.\nFile '/databricks/driver/2023-05-26-16.json.gz' removed.\nFile '/databricks/driver/2023-05-26-7.json.gz' removed.\nFile '/databricks/driver/2023-05-26-9.json' removed.\nFile '/databricks/driver/2023-05-26-12.json' removed.\nFile '/databricks/driver/2023-05-26-4.json' removed.\nFile '/databricks/driver/2023-05-26-21.json.gz' removed.\nhttps://data.gharchive.org/2023-05-27-0.json.gz\nFile downloaded successfully.\nhttps://data.gharchive.org/2023-05-27-1.json.gz\nFile downloaded successfully.\nhttps://data.gharchive.org/2023-05-27-2.json.gz\nFile downloaded successfully.\nhttps://data.gharchive.org/2023-05-27-3.json.gz\nFile downloaded successfully.\nhttps://data.gharchive.org/2023-05-27-4.json.gz\nFile downloaded successfully.\nhttps://data.gharchive.org/2023-05-27-5.json.gz\nFile downloaded successfully.\nhttps://data.gharchive.org/2023-05-27-6.json.gz\nFile downloaded successfully.\nhttps://data.gharchive.org/2023-05-27-7.json.gz\nFile downloaded successfully.\nhttps://data.gharchive.org/2023-05-27-8.json.gz\nFile downloaded successfully.\nhttps://data.gharchive.org/2023-05-27-9.json.gz\nFile downloaded successfully.\nhttps://data.gharchive.org/2023-05-27-10.json.gz\nFile downloaded successfully.\nhttps://data.gharchive.org/2023-05-27-11.json.gz\nFile downloaded successfully.\nhttps://data.gharchive.org/2023-05-27-12.json.gz\nFile downloaded successfully.\nhttps://data.gharchive.org/2023-05-27-13.json.gz\nFile downloaded successfully.\nhttps://data.gharchive.org/2023-05-27-14.json.gz\nFile downloaded successfully.\nhttps://data.gharchive.org/2023-05-27-15.json.gz\nFile downloaded successfully.\nhttps://data.gharchive.org/2023-05-27-16.json.gz\nFile downloaded successfully.\nhttps://data.gharchive.org/2023-05-27-17.json.gz\nFile downloaded successfully.\nhttps://data.gharchive.org/2023-05-27-18.json.gz\nFile downloaded successfully.\nhttps://data.gharchive.org/2023-05-27-19.json.gz\nFile downloaded successfully.\nhttps://data.gharchive.org/2023-05-27-20.json.gz\nFile downloaded successfully.\nhttps://data.gharchive.org/2023-05-27-21.json.gz\nFile downloaded successfully.\nhttps://data.gharchive.org/2023-05-27-22.json.gz\nFile downloaded successfully.\nhttps://data.gharchive.org/2023-05-27-23.json.gz\nFile downloaded successfully.\ncache cleared\n/databricks/driver/cache/part-00000-tid-940220580491065406-63c6b6bb-5e5b-4844-be73-b8d3126b7eca-3397-1-c000.snappy.parquet\nuploaded 2023-05-27.snappy.parquet to blob storage\nFile '/databricks/driver/2023-05-27-3.json.gz' removed.\nFile '/databricks/driver/2023-05-27-0.json' removed.\nFile '/databricks/driver/2023-05-27-13.json.gz' removed.\nFile '/databricks/driver/2023-05-27-18.json.gz' removed.\nFile '/databricks/driver/2023-05-27-9.json.gz' removed.\nFile '/databricks/driver/2023-05-27-15.json' removed.\nFile '/databricks/driver/2023-05-27-15.json.gz' removed.\nFile '/databricks/driver/2023-05-27-7.json.gz' removed.\nFile '/databricks/driver/2023-05-27-20.json' removed.\nFile '/databricks/driver/2023-05-27-3.json' removed.\nFile '/databricks/driver/2023-05-27-11.json' removed.\nFile '/databricks/driver/2023-05-27-23.json' removed.\nFile '/databricks/driver/2023-05-27-13.json' removed.\nFile '/databricks/driver/2023-05-27-23.json.gz' removed.\nFile '/databricks/driver/2023-05-27-10.json.gz' removed.\nFile '/databricks/driver/2023-05-27-16.json.gz' removed.\nFile '/databricks/driver/2023-05-27-16.json' removed.\nFile '/databricks/driver/2023-05-27-19.json.gz' removed.\nFile '/databricks/driver/2023-05-27-1.json' removed.\nFile '/databricks/driver/2023-05-27-1.json.gz' removed.\nFile '/databricks/driver/2023-05-27-6.json' removed.\nFile '/databricks/driver/2023-05-27-19.json' removed.\nFile '/databricks/driver/2023-05-27-12.json.gz' removed.\nFile '/databricks/driver/2023-05-27-4.json' removed.\nFile '/databricks/driver/2023-05-27-7.json' removed.\nFile '/databricks/driver/2023-05-27-14.json' removed.\nFile '/databricks/driver/2023-05-27-22.json' removed.\nFile '/databricks/driver/2023-05-27-2.json' removed.\nFile '/databricks/driver/2023-05-27-14.json.gz' removed.\nFile '/databricks/driver/2023-05-27-20.json.gz' removed.\nFile '/databricks/driver/2023-05-27-6.json.gz' removed.\nFile '/databricks/driver/2023-05-27-22.json.gz' removed.\nFile '/databricks/driver/2023-05-27-5.json' removed.\nFile '/databricks/driver/2023-05-27-21.json.gz' removed.\nFile '/databricks/driver/2023-05-27-10.json' removed.\nFile '/databricks/driver/2023-05-27-12.json' removed.\nFile '/databricks/driver/2023-05-27-2.json.gz' removed.\nFile '/databricks/driver/2023-05-27-17.json' removed.\nFile '/databricks/driver/2023-05-27-0.json.gz' removed.\nFile '/databricks/driver/2023-05-27-18.json' removed.\nFile '/databricks/driver/2023-05-27-5.json.gz' removed.\nFile '/databricks/driver/2023-05-27-11.json.gz' removed.\nFile '/databricks/driver/2023-05-27-8.json.gz' removed.\nFile '/databricks/driver/2023-05-27-8.json' removed.\nFile '/databricks/driver/2023-05-27-21.json' removed.\nFile '/databricks/driver/2023-05-27-4.json.gz' removed.\nFile '/databricks/driver/2023-05-27-17.json.gz' removed.\nFile '/databricks/driver/2023-05-27-9.json' removed.\nhttps://data.gharchive.org/2023-05-28-0.json.gz\nFile downloaded successfully.\nhttps://data.gharchive.org/2023-05-28-1.json.gz\nFile downloaded successfully.\nhttps://data.gharchive.org/2023-05-28-2.json.gz\nFile downloaded successfully.\nhttps://data.gharchive.org/2023-05-28-3.json.gz\nFile downloaded successfully.\nhttps://data.gharchive.org/2023-05-28-4.json.gz\nFile downloaded successfully.\nhttps://data.gharchive.org/2023-05-28-5.json.gz\nFile downloaded successfully.\nhttps://data.gharchive.org/2023-05-28-6.json.gz\nFile downloaded successfully.\nhttps://data.gharchive.org/2023-05-28-7.json.gz\nFile downloaded successfully.\nhttps://data.gharchive.org/2023-05-28-8.json.gz\nFile downloaded successfully.\nhttps://data.gharchive.org/2023-05-28-9.json.gz\nFile downloaded successfully.\nhttps://data.gharchive.org/2023-05-28-10.json.gz\nFile downloaded successfully.\nhttps://data.gharchive.org/2023-05-28-11.json.gz\nFile downloaded successfully.\nhttps://data.gharchive.org/2023-05-28-12.json.gz\nFile downloaded successfully.\nhttps://data.gharchive.org/2023-05-28-13.json.gz\nFile downloaded successfully.\nhttps://data.gharchive.org/2023-05-28-14.json.gz\nFile downloaded successfully.\nhttps://data.gharchive.org/2023-05-28-15.json.gz\nFile downloaded successfully.\nhttps://data.gharchive.org/2023-05-28-16.json.gz\nFile downloaded successfully.\nhttps://data.gharchive.org/2023-05-28-17.json.gz\nFile downloaded successfully.\nhttps://data.gharchive.org/2023-05-28-18.json.gz\nFile downloaded successfully.\nhttps://data.gharchive.org/2023-05-28-19.json.gz\nFile downloaded successfully.\nhttps://data.gharchive.org/2023-05-28-20.json.gz\nFile downloaded successfully.\nhttps://data.gharchive.org/2023-05-28-21.json.gz\nFile downloaded successfully.\nhttps://data.gharchive.org/2023-05-28-22.json.gz\nFile downloaded successfully.\nhttps://data.gharchive.org/2023-05-28-23.json.gz\nFile downloaded successfully.\ncache cleared\n/databricks/driver/cache/part-00000-tid-1649082078928739282-98ec9311-a746-4918-bb35-6f3c9fafdc4c-3494-1-c000.snappy.parquet\nuploaded 2023-05-28.snappy.parquet to blob storage\nFile '/databricks/driver/2023-05-28-5.json' removed.\nFile '/databricks/driver/2023-05-28-7.json.gz' removed.\nFile '/databricks/driver/2023-05-28-17.json.gz' removed.\nFile '/databricks/driver/2023-05-28-3.json' removed.\nFile '/databricks/driver/2023-05-28-22.json' removed.\nFile '/databricks/driver/2023-05-28-6.json.gz' removed.\nFile '/databricks/driver/2023-05-28-5.json.gz' removed.\nFile '/databricks/driver/2023-05-28-1.json.gz' removed.\nFile '/databricks/driver/2023-05-28-16.json.gz' removed.\nFile '/databricks/driver/2023-05-28-9.json' removed.\nFile '/databricks/driver/2023-05-28-11.json.gz' removed.\nFile '/databricks/driver/2023-05-28-1.json' removed.\nFile '/databricks/driver/2023-05-28-12.json.gz' removed.\nFile '/databricks/driver/2023-05-28-13.json' removed.\nFile '/databricks/driver/2023-05-28-19.json' removed.\nFile '/databricks/driver/2023-05-28-20.json' removed.\nFile '/databricks/driver/2023-05-28-8.json.gz' removed.\nFile '/databricks/driver/2023-05-28-10.json.gz' removed.\nFile '/databricks/driver/2023-05-28-14.json.gz' removed.\nFile '/databricks/driver/2023-05-28-12.json' removed.\nFile '/databricks/driver/2023-05-28-4.json.gz' removed.\nFile '/databricks/driver/2023-05-28-3.json.gz' removed.\nFile '/databricks/driver/2023-05-28-14.json' removed.\nFile '/databricks/driver/2023-05-28-21.json.gz' removed.\nFile '/databricks/driver/2023-05-28-6.json' removed.\nFile '/databricks/driver/2023-05-28-15.json.gz' removed.\nFile '/databricks/driver/2023-05-28-20.json.gz' removed.\nFile '/databricks/driver/2023-05-28-23.json' removed.\nFile '/databricks/driver/2023-05-28-10.json' removed.\nFile '/databricks/driver/2023-05-28-15.json' removed.\nFile '/databricks/driver/2023-05-28-17.json' removed.\nFile '/databricks/driver/2023-05-28-21.json' removed.\nFile '/databricks/driver/2023-05-28-7.json' removed.\nFile '/databricks/driver/2023-05-28-9.json.gz' removed.\nFile '/databricks/driver/2023-05-28-8.json' removed.\nFile '/databricks/driver/2023-05-28-18.json.gz' removed.\nFile '/databricks/driver/2023-05-28-18.json' removed.\nFile '/databricks/driver/2023-05-28-22.json.gz' removed.\nFile '/databricks/driver/2023-05-28-4.json' removed.\nFile '/databricks/driver/2023-05-28-11.json' removed.\nFile '/databricks/driver/2023-05-28-23.json.gz' removed.\nFile '/databricks/driver/2023-05-28-16.json' removed.\nFile '/databricks/driver/2023-05-28-0.json.gz' removed.\nFile '/databricks/driver/2023-05-28-19.json.gz' removed.\nFile '/databricks/driver/2023-05-28-2.json.gz' removed.\nFile '/databricks/driver/2023-05-28-13.json.gz' removed.\nFile '/databricks/driver/2023-05-28-2.json' removed.\nFile '/databricks/driver/2023-05-28-0.json' removed.\nhttps://data.gharchive.org/2023-05-29-0.json.gz\nFile downloaded successfully.\nhttps://data.gharchive.org/2023-05-29-1.json.gz\nFile downloaded successfully.\nhttps://data.gharchive.org/2023-05-29-2.json.gz\nFile downloaded successfully.\nhttps://data.gharchive.org/2023-05-29-3.json.gz\nFile downloaded successfully.\nhttps://data.gharchive.org/2023-05-29-4.json.gz\nFile downloaded successfully.\nhttps://data.gharchive.org/2023-05-29-5.json.gz\nFile downloaded successfully.\nhttps://data.gharchive.org/2023-05-29-6.json.gz\nFile downloaded successfully.\nhttps://data.gharchive.org/2023-05-29-7.json.gz\nFile downloaded successfully.\nhttps://data.gharchive.org/2023-05-29-8.json.gz\nFile downloaded successfully.\nhttps://data.gharchive.org/2023-05-29-9.json.gz\nFile downloaded successfully.\nhttps://data.gharchive.org/2023-05-29-10.json.gz\nFile downloaded successfully.\nhttps://data.gharchive.org/2023-05-29-11.json.gz\nFile downloaded successfully.\nhttps://data.gharchive.org/2023-05-29-12.json.gz\nFile downloaded successfully.\nhttps://data.gharchive.org/2023-05-29-13.json.gz\nFile downloaded successfully.\nhttps://data.gharchive.org/2023-05-29-14.json.gz\nFile downloaded successfully.\nhttps://data.gharchive.org/2023-05-29-15.json.gz\nFile downloaded successfully.\nhttps://data.gharchive.org/2023-05-29-16.json.gz\nFile downloaded successfully.\nhttps://data.gharchive.org/2023-05-29-17.json.gz\nFile downloaded successfully.\nhttps://data.gharchive.org/2023-05-29-18.json.gz\nFile downloaded successfully.\nhttps://data.gharchive.org/2023-05-29-19.json.gz\nFile downloaded successfully.\nhttps://data.gharchive.org/2023-05-29-20.json.gz\nFile downloaded successfully.\nhttps://data.gharchive.org/2023-05-29-21.json.gz\nFile downloaded successfully.\nhttps://data.gharchive.org/2023-05-29-22.json.gz\nFile downloaded successfully.\nhttps://data.gharchive.org/2023-05-29-23.json.gz\nFile downloaded successfully.\ncache cleared\n/databricks/driver/cache/part-00000-tid-7539458283076166648-e27fd88e-a7d5-49a8-b536-a929ae5dbe2a-3618-1-c000.snappy.parquet\nuploaded 2023-05-29.snappy.parquet to blob storage\nFile '/databricks/driver/2023-05-29-9.json.gz' removed.\nFile '/databricks/driver/2023-05-29-9.json' removed.\nFile '/databricks/driver/2023-05-29-8.json.gz' removed.\nFile '/databricks/driver/2023-05-29-6.json' removed.\nFile '/databricks/driver/2023-05-29-0.json' removed.\nFile '/databricks/driver/2023-05-29-2.json' removed.\nFile '/databricks/driver/2023-05-29-8.json' removed.\nFile '/databricks/driver/2023-05-29-13.json' removed.\nFile '/databricks/driver/2023-05-29-20.json' removed.\nFile '/databricks/driver/2023-05-29-5.json' removed.\nFile '/databricks/driver/2023-05-29-7.json.gz' removed.\nFile '/databricks/driver/2023-05-29-0.json.gz' removed.\nFile '/databricks/driver/2023-05-29-21.json' removed.\nFile '/databricks/driver/2023-05-29-23.json' removed.\nFile '/databricks/driver/2023-05-29-18.json' removed.\nFile '/databricks/driver/2023-05-29-20.json.gz' removed.\nFile '/databricks/driver/2023-05-29-14.json' removed.\nFile '/databricks/driver/2023-05-29-1.json' removed.\nFile '/databricks/driver/2023-05-29-14.json.gz' removed.\nFile '/databricks/driver/2023-05-29-15.json' removed.\nFile '/databricks/driver/2023-05-29-4.json.gz' removed.\nFile '/databricks/driver/2023-05-29-12.json.gz' removed.\nFile '/databricks/driver/2023-05-29-19.json' removed.\nFile '/databricks/driver/2023-05-29-21.json.gz' removed.\nFile '/databricks/driver/2023-05-29-3.json.gz' removed.\nFile '/databricks/driver/2023-05-29-22.json.gz' removed.\nFile '/databricks/driver/2023-05-29-16.json' removed.\nFile '/databricks/driver/2023-05-29-6.json.gz' removed.\nFile '/databricks/driver/2023-05-29-23.json.gz' removed.\nFile '/databricks/driver/2023-05-29-15.json.gz' removed.\nFile '/databricks/driver/2023-05-29-3.json' removed.\nFile '/databricks/driver/2023-05-29-19.json.gz' removed.\nFile '/databricks/driver/2023-05-29-13.json.gz' removed.\nFile '/databricks/driver/2023-05-29-12.json' removed.\nFile '/databricks/driver/2023-05-29-4.json' removed.\nFile '/databricks/driver/2023-05-29-2.json.gz' removed.\nFile '/databricks/driver/2023-05-29-18.json.gz' removed.\nFile '/databricks/driver/2023-05-29-10.json.gz' removed.\nFile '/databricks/driver/2023-05-29-1.json.gz' removed.\nFile '/databricks/driver/2023-05-29-17.json' removed.\nFile '/databricks/driver/2023-05-29-16.json.gz' removed.\nFile '/databricks/driver/2023-05-29-5.json.gz' removed.\nFile '/databricks/driver/2023-05-29-22.json' removed.\nFile '/databricks/driver/2023-05-29-7.json' removed.\nFile '/databricks/driver/2023-05-29-17.json.gz' removed.\nFile '/databricks/driver/2023-05-29-11.json' removed.\nFile '/databricks/driver/2023-05-29-11.json.gz' removed.\nFile '/databricks/driver/2023-05-29-10.json' removed.\nhttps://data.gharchive.org/2023-05-30-0.json.gz\nFile downloaded successfully.\nhttps://data.gharchive.org/2023-05-30-1.json.gz\nFile downloaded successfully.\nhttps://data.gharchive.org/2023-05-30-2.json.gz\nFile downloaded successfully.\nhttps://data.gharchive.org/2023-05-30-3.json.gz\nFile downloaded successfully.\nhttps://data.gharchive.org/2023-05-30-4.json.gz\nFile downloaded successfully.\nhttps://data.gharchive.org/2023-05-30-5.json.gz\nFile downloaded successfully.\nhttps://data.gharchive.org/2023-05-30-6.json.gz\nFile downloaded successfully.\nhttps://data.gharchive.org/2023-05-30-7.json.gz\nFile downloaded successfully.\nhttps://data.gharchive.org/2023-05-30-8.json.gz\nFile downloaded successfully.\nhttps://data.gharchive.org/2023-05-30-9.json.gz\nFile downloaded successfully.\nhttps://data.gharchive.org/2023-05-30-10.json.gz\nFile downloaded successfully.\nhttps://data.gharchive.org/2023-05-30-11.json.gz\nFile downloaded successfully.\nhttps://data.gharchive.org/2023-05-30-12.json.gz\nFile downloaded successfully.\nhttps://data.gharchive.org/2023-05-30-13.json.gz\nFile downloaded successfully.\nhttps://data.gharchive.org/2023-05-30-14.json.gz\nFile downloaded successfully.\nhttps://data.gharchive.org/2023-05-30-15.json.gz\nFile downloaded successfully.\nhttps://data.gharchive.org/2023-05-30-16.json.gz\nFile downloaded successfully.\nhttps://data.gharchive.org/2023-05-30-17.json.gz\nFile downloaded successfully.\nhttps://data.gharchive.org/2023-05-30-18.json.gz\nFile downloaded successfully.\nhttps://data.gharchive.org/2023-05-30-19.json.gz\nFile downloaded successfully.\nhttps://data.gharchive.org/2023-05-30-20.json.gz\nFile downloaded successfully.\nhttps://data.gharchive.org/2023-05-30-21.json.gz\nFile downloaded successfully.\nhttps://data.gharchive.org/2023-05-30-22.json.gz\nFile downloaded successfully.\nhttps://data.gharchive.org/2023-05-30-23.json.gz\nFile downloaded successfully.\ncache cleared\n/databricks/driver/cache/part-00000-tid-7389043162370008987-7c4c8252-7779-4a62-8b3f-3dbc74dfcb30-3745-1-c000.snappy.parquet\nuploaded 2023-05-30.snappy.parquet to blob storage\nFile '/databricks/driver/2023-05-30-5.json.gz' removed.\nFile '/databricks/driver/2023-05-30-11.json' removed.\nFile '/databricks/driver/2023-05-30-10.json' removed.\nFile '/databricks/driver/2023-05-30-23.json.gz' removed.\nFile '/databricks/driver/2023-05-30-13.json.gz' removed.\nFile '/databricks/driver/2023-05-30-22.json' removed.\nFile '/databricks/driver/2023-05-30-9.json' removed.\nFile '/databricks/driver/2023-05-30-19.json.gz' removed.\nFile '/databricks/driver/2023-05-30-12.json' removed.\nFile '/databricks/driver/2023-05-30-21.json' removed.\nFile '/databricks/driver/2023-05-30-10.json.gz' removed.\nFile '/databricks/driver/2023-05-30-4.json.gz' removed.\nFile '/databricks/driver/2023-05-30-5.json' removed.\nFile '/databricks/driver/2023-05-30-6.json.gz' removed.\nFile '/databricks/driver/2023-05-30-1.json' removed.\nFile '/databricks/driver/2023-05-30-17.json.gz' removed.\nFile '/databricks/driver/2023-05-30-18.json.gz' removed.\nFile '/databricks/driver/2023-05-30-9.json.gz' removed.\nFile '/databricks/driver/2023-05-30-6.json' removed.\nFile '/databricks/driver/2023-05-30-20.json' removed.\nFile '/databricks/driver/2023-05-30-3.json.gz' removed.\nFile '/databricks/driver/2023-05-30-18.json' removed.\nFile '/databricks/driver/2023-05-30-1.json.gz' removed.\nFile '/databricks/driver/2023-05-30-3.json' removed.\nFile '/databricks/driver/2023-05-30-20.json.gz' removed.\nFile '/databricks/driver/2023-05-30-2.json' removed.\nFile '/databricks/driver/2023-05-30-15.json' removed.\nFile '/databricks/driver/2023-05-30-12.json.gz' removed.\nFile '/databricks/driver/2023-05-30-16.json' removed.\nFile '/databricks/driver/2023-05-30-0.json.gz' removed.\nFile '/databricks/driver/2023-05-30-17.json' removed.\nFile '/databricks/driver/2023-05-30-16.json.gz' removed.\nFile '/databricks/driver/2023-05-30-15.json.gz' removed.\nFile '/databricks/driver/2023-05-30-2.json.gz' removed.\nFile '/databricks/driver/2023-05-30-23.json' removed.\nFile '/databricks/driver/2023-05-30-22.json.gz' removed.\nFile '/databricks/driver/2023-05-30-7.json' removed.\nFile '/databricks/driver/2023-05-30-4.json' removed.\nFile '/databricks/driver/2023-05-30-14.json.gz' removed.\nFile '/databricks/driver/2023-05-30-0.json' removed.\nFile '/databricks/driver/2023-05-30-19.json' removed.\nFile '/databricks/driver/2023-05-30-21.json.gz' removed.\nFile '/databricks/driver/2023-05-30-8.json' removed.\nFile '/databricks/driver/2023-05-30-11.json.gz' removed.\nFile '/databricks/driver/2023-05-30-8.json.gz' removed.\nFile '/databricks/driver/2023-05-30-7.json.gz' removed.\nFile '/databricks/driver/2023-05-30-13.json' removed.\nFile '/databricks/driver/2023-05-30-14.json' removed.\nhttps://data.gharchive.org/2023-05-31-0.json.gz\nFile downloaded successfully.\nhttps://data.gharchive.org/2023-05-31-1.json.gz\nFile downloaded successfully.\nhttps://data.gharchive.org/2023-05-31-2.json.gz\nFile downloaded successfully.\nhttps://data.gharchive.org/2023-05-31-3.json.gz\nFile downloaded successfully.\nhttps://data.gharchive.org/2023-05-31-4.json.gz\nFile downloaded successfully.\nhttps://data.gharchive.org/2023-05-31-5.json.gz\nFile downloaded successfully.\nhttps://data.gharchive.org/2023-05-31-6.json.gz\nFile downloaded successfully.\nhttps://data.gharchive.org/2023-05-31-7.json.gz\nFile downloaded successfully.\nhttps://data.gharchive.org/2023-05-31-8.json.gz\nFile downloaded successfully.\nhttps://data.gharchive.org/2023-05-31-9.json.gz\nFile downloaded successfully.\nhttps://data.gharchive.org/2023-05-31-10.json.gz\nFile downloaded successfully.\nhttps://data.gharchive.org/2023-05-31-11.json.gz\nFile downloaded successfully.\nhttps://data.gharchive.org/2023-05-31-12.json.gz\nFile downloaded successfully.\nhttps://data.gharchive.org/2023-05-31-13.json.gz\nFile downloaded successfully.\nhttps://data.gharchive.org/2023-05-31-14.json.gz\nFile downloaded successfully.\nhttps://data.gharchive.org/2023-05-31-15.json.gz\nFile downloaded successfully.\nhttps://data.gharchive.org/2023-05-31-16.json.gz\nFile downloaded successfully.\nhttps://data.gharchive.org/2023-05-31-17.json.gz\nFile downloaded successfully.\nhttps://data.gharchive.org/2023-05-31-18.json.gz\nFile downloaded successfully.\nhttps://data.gharchive.org/2023-05-31-19.json.gz\nFile downloaded successfully.\nhttps://data.gharchive.org/2023-05-31-20.json.gz\nFile downloaded successfully.\nhttps://data.gharchive.org/2023-05-31-21.json.gz\nFile downloaded successfully.\nhttps://data.gharchive.org/2023-05-31-22.json.gz\nFile downloaded successfully.\nhttps://data.gharchive.org/2023-05-31-23.json.gz\nFile downloaded successfully.\ncache cleared\n/databricks/driver/cache/part-00000-tid-6591919943308833445-fb04e4d1-099e-4af6-a95f-3c7c8463528b-3872-1-c000.snappy.parquet\nuploaded 2023-05-31.snappy.parquet to blob storage\nFile '/databricks/driver/2023-05-31-6.json' removed.\nFile '/databricks/driver/2023-05-31-20.json' removed.\nFile '/databricks/driver/2023-05-31-10.json.gz' removed.\nFile '/databricks/driver/2023-05-31-16.json' removed.\nFile '/databricks/driver/2023-05-31-14.json' removed.\nFile '/databricks/driver/2023-05-31-15.json' removed.\nFile '/databricks/driver/2023-05-31-2.json.gz' removed.\nFile '/databricks/driver/2023-05-31-13.json.gz' removed.\nFile '/databricks/driver/2023-05-31-21.json.gz' removed.\nFile '/databricks/driver/2023-05-31-9.json.gz' removed.\nFile '/databricks/driver/2023-05-31-5.json.gz' removed.\nFile '/databricks/driver/2023-05-31-8.json' removed.\nFile '/databricks/driver/2023-05-31-15.json.gz' removed.\nFile '/databricks/driver/2023-05-31-19.json.gz' removed.\nFile '/databricks/driver/2023-05-31-7.json' removed.\nFile '/databricks/driver/2023-05-31-4.json.gz' removed.\nFile '/databricks/driver/2023-05-31-11.json' removed.\nFile '/databricks/driver/2023-05-31-12.json' removed.\nFile '/databricks/driver/2023-05-31-23.json' removed.\nFile '/databricks/driver/2023-05-31-2.json' removed.\nFile '/databricks/driver/2023-05-31-20.json.gz' removed.\nFile '/databricks/driver/2023-05-31-13.json' removed.\nFile '/databricks/driver/2023-05-31-8.json.gz' removed.\nFile '/databricks/driver/2023-05-31-9.json' removed.\nFile '/databricks/driver/2023-05-31-18.json.gz' removed.\nFile '/databricks/driver/2023-05-31-14.json.gz' removed.\nFile '/databricks/driver/2023-05-31-16.json.gz' removed.\nFile '/databricks/driver/2023-05-31-3.json.gz' removed.\nFile '/databricks/driver/2023-05-31-22.json.gz' removed.\nFile '/databricks/driver/2023-05-31-19.json' removed.\nFile '/databricks/driver/2023-05-31-11.json.gz' removed.\nFile '/databricks/driver/2023-05-31-12.json.gz' removed.\nFile '/databricks/driver/2023-05-31-3.json' removed.\nFile '/databricks/driver/2023-05-31-21.json' removed.\nFile '/databricks/driver/2023-05-31-17.json.gz' removed.\nFile '/databricks/driver/2023-05-31-17.json' removed.\nFile '/databricks/driver/2023-05-31-23.json.gz' removed.\nFile '/databricks/driver/2023-05-31-0.json.gz' removed.\nFile '/databricks/driver/2023-05-31-4.json' removed.\nFile '/databricks/driver/2023-05-31-1.json.gz' removed.\nFile '/databricks/driver/2023-05-31-0.json' removed.\nFile '/databricks/driver/2023-05-31-5.json' removed.\nFile '/databricks/driver/2023-05-31-22.json' removed.\nFile '/databricks/driver/2023-05-31-7.json.gz' removed.\nFile '/databricks/driver/2023-05-31-6.json.gz' removed.\nFile '/databricks/driver/2023-05-31-18.json' removed.\nFile '/databricks/driver/2023-05-31-10.json' removed.\nFile '/databricks/driver/2023-05-31-1.json' removed.\n"
     ]
    }
   ],
   "source": [
    "cache_folder_path_spark = \"file:///databricks/driver/cache\"\n",
    "cache_folder_path = \"/databricks/driver/cache\"\n",
    "folder_path = \"/databricks/driver/\"\n",
    "connection_string = \"DefaultEndpointsProtocol=https;AccountName=pod4projectstorage;AccountKey=2hClDrVPLGX4QBDBk8OylAkHqczIQfDja66Yl488rmj/0+vb+CAzOxL5qMe5XyM9ZupgwveVRm3N+AStriO5vg==;EndpointSuffix=core.windows.net\"\n",
    "container_name = \"pod4-project-blob-container\"\n",
    "\n",
    "for day in range(1,32):\n",
    "    day_str = \"{:02}\".format(day)\n",
    "    main_df = None\n",
    "    parquet_filename = None\n",
    "    for hour in range(0,24):\n",
    "        filename = \"2023-05-\" + day_str +\"-\" + str(hour)\n",
    "        get_data(\"2023-05-\"+day_str, hour)\n",
    "        unzip_jsongz(filename)\n",
    "        df = spark.read.json(\"file:///databricks/driver/\"+filename+\".json\")\n",
    "        push_df = df.filter(df.type == \"PushEvent\")\n",
    "        flat_df = flatten_push_df(df)\n",
    "        if main_df is not None:\n",
    "            main_df = main_df.unionAll(flat_df)\n",
    "        else:\n",
    "            main_df = flat_df \n",
    "    if os.path.exists(cache_folder_path):\n",
    "        os.system(\"rm -rf {}\".format(cache_folder_path))\n",
    "        print(\"cache cleared\")\n",
    "    main_df.coalesce(1).write.parquet(cache_folder_path_spark)\n",
    "    parquet_files = Path(cache_folder_path).glob(\"*.parquet\")\n",
    "    for file in parquet_files:\n",
    "        parquet_filename = file\n",
    "        print(parquet_filename)\n",
    "    blob_name = \"2023-05-\"+day_str+\".snappy.parquet\"\n",
    "    upload_to_blob_storage( connection_string, container_name, parquet_filename, blob_name)\n",
    "    print(\"uploaded {} to blob storage\".format(blob_name))\n",
    "    json_files = glob.glob(os.path.join(folder_path, \"*.json*\"))\n",
    "    for file_path in json_files:\n",
    "        os.remove(file_path)\n",
    "        print(\"File '{}' removed.\".format(file_path))\n",
    "    "
   ]
  },
  {
   "cell_type": "code",
   "execution_count": 0,
   "metadata": {
    "application/vnd.databricks.v1+cell": {
     "cellMetadata": {
      "byteLimit": 2048000,
      "rowLimit": 10000
     },
     "inputWidgets": {},
     "nuid": "14c27178-7120-49b8-b627-16960d8c50b7",
     "showTitle": false,
     "title": ""
    }
   },
   "outputs": [],
   "source": [
    "main_df = None\n",
    "#hours = [11,12]\n",
    "for hour in range(0,4):\n",
    "    filename = \"2023-06-22-\" + str(hour)\n",
    "    get_data(\"2023-06-22\", hour)\n",
    "    unzip_jsongz(filename)\n",
    "    df = spark.read.json(\"file:///databricks/driver/\"+filename+\".json\")\n",
    "    flat_df = flatten_df(df)\n",
    "    if main_df is not None:\n",
    "        main_df = main_df.unionAll(flat_df)\n",
    "        print(main_df.count())\n",
    "    else:\n",
    "        main_df = flat_df \n",
    "        print(main_df.count())"
   ]
  },
  {
   "cell_type": "code",
   "execution_count": 0,
   "metadata": {
    "application/vnd.databricks.v1+cell": {
     "cellMetadata": {
      "byteLimit": 2048000,
      "rowLimit": 10000
     },
     "inputWidgets": {},
     "nuid": "c15f667a-215f-4042-b816-8d80c47e01b8",
     "showTitle": false,
     "title": ""
    }
   },
   "outputs": [
    {
     "output_type": "stream",
     "name": "stdout",
     "output_type": "stream",
     "text": [
      "2023-05-01-0.json     2023-05-02-0.json     \u001B[0m\u001B[01;34mazure\u001B[0m/\r\n2023-05-01-0.json.gz  2023-05-02-0.json.gz  \u001B[01;34mcache\u001B[0m/\r\n2023-05-01-1.json     2023-05-02-1.json     \u001B[01;34mconf\u001B[0m/\r\n2023-05-01-1.json.gz  2023-05-02-1.json.gz  \u001B[01;34meventlogs\u001B[0m/\r\n2023-05-01-2.json     2023-05-02-2.json     \u001B[01;34mganglia\u001B[0m/\r\n2023-05-01-2.json.gz  2023-05-02-2.json.gz  \u001B[01;32mhadoop_accessed_config.lst\u001B[0m*\r\n2023-05-01-3.json     2023-05-02-3.json     \u001B[01;34mlogs\u001B[0m/\r\n2023-05-01-3.json.gz  2023-05-02-3.json.gz  \u001B[01;32mpreload_class.lst\u001B[0m*\r\n"
     ]
    }
   ],
   "source": [
    "ls"
   ]
  },
  {
   "cell_type": "code",
   "execution_count": 0,
   "metadata": {
    "application/vnd.databricks.v1+cell": {
     "cellMetadata": {
      "byteLimit": 2048000,
      "rowLimit": 10000
     },
     "inputWidgets": {},
     "nuid": "a26f1c5c-1711-4971-87ec-4b0605edd7b1",
     "showTitle": false,
     "title": ""
    }
   },
   "outputs": [],
   "source": [
    "output_file = \"schema.txt\"\n",
    "with open(output_file, \"w\") as file:\n",
    "    file.write(df.select(col(\"payload\")).schema.simpleString())"
   ]
  },
  {
   "cell_type": "code",
   "execution_count": 0,
   "metadata": {
    "application/vnd.databricks.v1+cell": {
     "cellMetadata": {
      "byteLimit": 2048000,
      "rowLimit": 10000
     },
     "inputWidgets": {},
     "nuid": "71b50869-80d1-478d-8502-f70d51c67eb1",
     "showTitle": false,
     "title": ""
    }
   },
   "outputs": [],
   "source": [
    "main_df = None\n",
    "#hours = [11,12]\n",
    "for hour in range(10,12):\n",
    "    filename = \"2023-06-22-\" + str(hour)\n",
    "    get_data(\"2023-06-22\", hour)\n",
    "    unzip_jsongz(filename)\n",
    "    df = spark.read.json(\"file:///databricks/driver/\"+filename+\".json\")\n",
    "    issues_df = df.filter(df.type == \"IssuesEvent\")\n",
    "    issues_flat_df = flatten_issues_df(issues_df)\n",
    "    if main_df is not None:\n",
    "        main_df = main_df.unionAll(issues_flat_df)\n",
    "        print(main_df.count())\n",
    "    else:\n",
    "        main_df = issues_flat_df \n",
    "        print(main_df.count())"
   ]
  },
  {
   "cell_type": "code",
   "execution_count": 0,
   "metadata": {
    "application/vnd.databricks.v1+cell": {
     "cellMetadata": {
      "byteLimit": 2048000,
      "rowLimit": 10000
     },
     "inputWidgets": {},
     "nuid": "7f58ab26-6050-456c-938c-c8b4d963e831",
     "showTitle": false,
     "title": ""
    }
   },
   "outputs": [],
   "source": [
    "main_df.coalesce(1).write.parquet(\"file:///databricks/driver/cache.parquet\")"
   ]
  },
  {
   "cell_type": "code",
   "execution_count": 0,
   "metadata": {
    "application/vnd.databricks.v1+cell": {
     "cellMetadata": {},
     "inputWidgets": {},
     "nuid": "fb1104d0-5569-4ae4-bf0d-fbe3477da779",
     "showTitle": false,
     "title": ""
    }
   },
   "outputs": [],
   "source": []
  }
 ],
 "metadata": {
  "application/vnd.databricks.v1+notebook": {
   "dashboards": [],
   "language": "python",
   "notebookMetadata": {
    "pythonIndentUnit": 4
   },
   "notebookName": "GHarchiveToAzure blobsETL",
   "widgets": {}
  }
 },
 "nbformat": 4,
 "nbformat_minor": 0
}
